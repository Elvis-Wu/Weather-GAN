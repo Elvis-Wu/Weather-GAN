{
 "cells": [
  {
   "cell_type": "code",
   "execution_count": 1,
   "metadata": {},
   "outputs": [],
   "source": [
    "from torch.utils.data import Dataset, DataLoader\n",
    "from torchvision import datasets\n",
    "from torchvision import transforms\n",
    "from torchvision.io import read_image\n",
    "import tensorflow as tf\n",
    "import numpy as np\n",
    "import os\n",
    "import pandas as pd #資料處理\n",
    "import torch\n",
    "import matplotlib.pyplot as plt\n",
    "from PIL import Image\n",
    "\n",
    "# 設定dataset路徑\n",
    "project_path = r\"D:\\NTUT\\Weather_AI\\self-project\\GAN\\weather-GAN\"\n",
    "train_data_path = str(project_path + r\"\\train_data\")\n",
    "output_data_path = str(project_path + r\"output_data\")\n"
   ]
  },
  {
   "cell_type": "code",
   "execution_count": 2,
   "metadata": {},
   "outputs": [
    {
     "name": "stdout",
     "output_type": "stream",
     "text": [
      "[name: \"/device:CPU:0\"\n",
      "device_type: \"CPU\"\n",
      "memory_limit: 268435456\n",
      "locality {\n",
      "}\n",
      "incarnation: 17962513698719678262\n",
      "xla_global_id: -1\n",
      ", name: \"/device:GPU:0\"\n",
      "device_type: \"GPU\"\n",
      "memory_limit: 5748293632\n",
      "locality {\n",
      "  bus_id: 1\n",
      "  links {\n",
      "  }\n",
      "}\n",
      "incarnation: 14780567611393774335\n",
      "physical_device_desc: \"device: 0, name: NVIDIA GeForce RTX 3060 Ti, pci bus id: 0000:01:00.0, compute capability: 8.6\"\n",
      "xla_global_id: 416903419\n",
      "]\n"
     ]
    }
   ],
   "source": [
    "from tensorflow.python.client import device_lib\n",
    "print(device_lib.list_local_devices())"
   ]
  },
  {
   "cell_type": "code",
   "execution_count": 3,
   "metadata": {},
   "outputs": [],
   "source": [
    "# Setup GPU\n",
    "gpus = tf.config.list_physical_devices('GPU')\n",
    "for gpu in gpus :\n",
    "    tf.config.experimental.set_memory_growth(gpu, True)"
   ]
  },
  {
   "cell_type": "code",
   "execution_count": 4,
   "metadata": {},
   "outputs": [
    {
     "name": "stdout",
     "output_type": "stream",
     "text": [
      "PhysicalDevice(name='/physical_device:GPU:0', device_type='GPU')\n"
     ]
    }
   ],
   "source": [
    "for gpu in gpus :\n",
    "    print(gpu)"
   ]
  },
  {
   "cell_type": "code",
   "execution_count": 5,
   "metadata": {},
   "outputs": [
    {
     "name": "stdout",
     "output_type": "stream",
     "text": [
      "Num GPUs Available:  1\n"
     ]
    }
   ],
   "source": [
    "print(\"Num GPUs Available: \", len(tf.config.list_physical_devices('GPU')))"
   ]
  },
  {
   "cell_type": "code",
   "execution_count": 60,
   "metadata": {},
   "outputs": [
    {
     "name": "stdout",
     "output_type": "stream",
     "text": [
      "torch.Size([4, 3, 64, 64])\n"
     ]
    }
   ],
   "source": [
    "transform = transforms.Compose([\n",
    "    transforms.ToTensor(),\n",
    "    transforms.Resize((64, 64)),\n",
    "    transforms.Normalize((0.5, 0.5, 0.5), (0.5, 0.5, 0.5))\n",
    "])\n",
    "class My_Dataset(Dataset) :\n",
    "    def __init__(self, path, transform=None) :\n",
    "        super().__init__()\n",
    "        self.image_files = os.listdir(path)\n",
    "        self.list_files = []\n",
    "        for file in self.image_files :\n",
    "            self.list_files.append(os.path.join(path, file))\n",
    "\n",
    "    # Indicate the total size of the dataset\n",
    "    def __len__(self) :\n",
    "        return len(self.image_files)\n",
    "    \n",
    "    # 1. Read from file (using numpy.fromfile, PIL.Image.open)\n",
    "    # 2. Preprocess the data (torchvision.Transform).\n",
    "    # 3. Return the data (e.g. image and label)\n",
    "    def __getitem__(self, index) :\n",
    "        image = Image.open(self.list_files[index]).convert('RGB')\n",
    "        if transform is None :\n",
    "            return image\n",
    "        else :\n",
    "            image = transform(image)\n",
    "            return image\n",
    "\n",
    "#讀取圖片，一次四張\n",
    "if __name__ == '__main__' :\n",
    "    #path_image = r\"D:\\NTUT\\Weather_AI\\self-project\\GAN\\weather-GAN\\train_data\"\n",
    "    path_image = train_data_path\n",
    "    train_data = My_Dataset(path_image, transform=transform)\n",
    "    train_dataloader = DataLoader(train_data, batch_size=4, shuffle=True)\n",
    "    for image in train_dataloader :\n",
    "        print(image.shape)\n",
    "        #4(張), 3(RGB三通道), 3600(長), 3600(寬)縮成256*256\n",
    "        break"
   ]
  },
  {
   "cell_type": "code",
   "execution_count": 61,
   "metadata": {},
   "outputs": [],
   "source": [
    "# 切割資料集\n",
    "from sklearn.model_selection import train_test_split\n",
    "\n",
    "train, test = train_test_split(image, test_size = 0.2, random_state = 42)"
   ]
  },
  {
   "cell_type": "code",
   "execution_count": 62,
   "metadata": {},
   "outputs": [
    {
     "data": {
      "text/plain": [
       "((3, 3, 64, 64), (1, 3, 64, 64))"
      ]
     },
     "execution_count": 62,
     "metadata": {},
     "output_type": "execute_result"
    }
   ],
   "source": [
    "train = np.array(train)\n",
    "test = np.array(test)\n",
    "\n",
    "train.shape, test.shape"
   ]
  },
  {
   "cell_type": "code",
   "execution_count": 63,
   "metadata": {},
   "outputs": [
    {
     "name": "stderr",
     "output_type": "stream",
     "text": [
      "Clipping input data to the valid range for imshow with RGB data ([0..1] for floats or [0..255] for integers).\n"
     ]
    },
    {
     "data": {
      "image/png": "[encoded data removed]",
      "text/plain": [
       "<Figure size 640x480 with 1 Axes>"
      ]
     },
     "metadata": {},
     "output_type": "display_data"
    }
   ],
   "source": [
    "\n",
    "plt.imshow(np.transpose(test[0], (1, 2, 0)))\n",
    "plt.axis('off')\n",
    "plt.show()"
   ]
  },
  {
   "cell_type": "code",
   "execution_count": 64,
   "metadata": {},
   "outputs": [
    {
     "name": "stderr",
     "output_type": "stream",
     "text": [
      "Clipping input data to the valid range for imshow with RGB data ([0..1] for floats or [0..255] for integers).\n"
     ]
    },
    {
     "data": {
      "image/png": "[encoded data removed]",
      "text/plain": [
       "<Figure size 640x480 with 1 Axes>"
      ]
     },
     "metadata": {},
     "output_type": "display_data"
    },
    {
     "name": "stderr",
     "output_type": "stream",
     "text": [
      "Clipping input data to the valid range for imshow with RGB data ([0..1] for floats or [0..255] for integers).\n"
     ]
    },
    {
     "data": {
      "image/png": "[encoded data removed]",
      "text/plain": [
       "<Figure size 640x480 with 1 Axes>"
      ]
     },
     "metadata": {},
     "output_type": "display_data"
    },
    {
     "name": "stderr",
     "output_type": "stream",
     "text": [
      "Clipping input data to the valid range for imshow with RGB data ([0..1] for floats or [0..255] for integers).\n"
     ]
    },
    {
     "data": {
      "image/png": "[encoded data removed]",
      "text/plain": [
       "<Figure size 640x480 with 1 Axes>"
      ]
     },
     "metadata": {},
     "output_type": "display_data"
    }
   ],
   "source": [
    "for i in range(len(train)) :\n",
    "    plt.imshow(np.transpose(train[i], (1, 2, 0)))\n",
    "    plt.axis('off')\n",
    "    plt.show()"
   ]
  },
  {
   "cell_type": "code",
   "execution_count": 11,
   "metadata": {},
   "outputs": [
    {
     "name": "stdout",
     "output_type": "stream",
     "text": [
      "[[[[-1.         -1.         -1.         ... -1.         -1.\n",
      "    -1.        ]\n",
      "   [-1.         -1.         -1.         ... -1.         -1.\n",
      "    -1.        ]\n",
      "   [-1.         -1.         -1.         ... -1.         -1.\n",
      "    -1.        ]\n",
      "   ...\n",
      "   [-1.         -1.         -1.         ... -1.         -1.\n",
      "    -1.        ]\n",
      "   [-1.         -1.         -1.         ... -1.         -1.\n",
      "    -1.        ]\n",
      "   [-1.         -1.         -1.         ... -1.         -1.\n",
      "    -1.        ]]\n",
      "\n",
      "  [[-1.         -1.         -1.         ...  0.7852942  -1.\n",
      "    -1.        ]\n",
      "   [-1.         -1.         -1.         ...  0.45294118  0.9137255\n",
      "     0.654902  ]\n",
      "   [-1.         -1.         -1.         ... -1.          0.76274514\n",
      "     0.48039222]\n",
      "   ...\n",
      "   [-1.         -1.         -1.         ... -1.         -1.\n",
      "    -1.        ]\n",
      "   [-1.         -1.         -1.         ... -1.         -1.\n",
      "    -1.        ]\n",
      "   [-1.         -1.         -1.         ... -1.         -1.\n",
      "    -1.        ]]\n",
      "\n",
      "  [[-1.         -1.         -1.         ... -1.         -1.\n",
      "    -1.        ]\n",
      "   [-1.         -1.         -1.         ... -1.         -1.\n",
      "    -1.        ]\n",
      "   [-1.         -1.         -1.         ... -1.         -1.\n",
      "    -1.        ]\n",
      "   ...\n",
      "   [-1.         -1.         -1.         ... -1.         -1.\n",
      "    -1.        ]\n",
      "   [-1.         -1.         -1.         ... -1.         -1.\n",
      "    -1.        ]\n",
      "   [-1.         -1.         -1.         ... -1.         -1.\n",
      "    -1.        ]]]\n",
      "\n",
      "\n",
      " [[[-1.         -1.         -1.         ... -1.         -1.\n",
      "    -1.        ]\n",
      "   [-1.         -1.         -1.         ... -1.         -1.\n",
      "    -1.        ]\n",
      "   [-1.         -1.         -1.         ... -1.         -1.\n",
      "    -1.        ]\n",
      "   ...\n",
      "   [-1.         -1.         -1.         ... -1.         -1.\n",
      "    -1.        ]\n",
      "   [-1.         -1.         -1.         ... -1.         -1.\n",
      "    -1.        ]\n",
      "   [-1.         -1.         -1.         ... -1.         -1.\n",
      "    -1.        ]]\n",
      "\n",
      "  [[-1.         -1.         -1.         ...  0.9029411  -1.\n",
      "    -1.        ]\n",
      "   [-1.         -1.         -1.         ...  0.9137255   0.41176474\n",
      "     0.5686275 ]\n",
      "   [-1.         -1.         -1.         ...  0.5601716   0.8166667\n",
      "     0.43137252]\n",
      "   ...\n",
      "   [-1.         -1.         -1.         ... -1.         -1.\n",
      "    -1.        ]\n",
      "   [-1.         -1.         -1.         ... -1.         -1.\n",
      "    -1.        ]\n",
      "   [-1.         -1.         -1.         ... -1.         -1.\n",
      "    -1.        ]]\n",
      "\n",
      "  [[-1.         -1.         -1.         ... -1.          1.\n",
      "    -1.        ]\n",
      "   [-1.         -1.         -1.         ... -1.         -1.\n",
      "    -1.        ]\n",
      "   [-1.         -1.         -1.         ... -1.         -1.\n",
      "    -1.        ]\n",
      "   ...\n",
      "   [-1.         -1.         -1.         ... -1.         -1.\n",
      "    -1.        ]\n",
      "   [-1.         -1.         -1.         ... -1.         -1.\n",
      "    -1.        ]\n",
      "   [-1.         -1.         -1.         ... -1.         -1.\n",
      "    -1.        ]]]\n",
      "\n",
      "\n",
      " [[[-1.         -1.         -1.         ... -1.         -1.\n",
      "    -1.        ]\n",
      "   [-1.         -1.         -1.         ... -1.         -1.\n",
      "    -1.        ]\n",
      "   [-1.         -1.         -1.         ... -1.          0.75\n",
      "    -1.        ]\n",
      "   ...\n",
      "   [-1.         -1.         -1.         ... -1.         -1.\n",
      "    -1.        ]\n",
      "   [-1.         -1.         -1.         ... -1.         -1.\n",
      "    -1.        ]\n",
      "   [-1.         -1.         -1.         ... -1.         -1.\n",
      "    -1.        ]]\n",
      "\n",
      "  [[-1.         -1.         -1.         ...  0.97843134 -1.\n",
      "    -1.        ]\n",
      "   [-1.         -1.         -1.         ...  0.33333337  0.33333337\n",
      "     0.827451  ]\n",
      "   [-1.         -1.         -1.         ...  0.32193625  0.90686274\n",
      "     0.40196073]\n",
      "   ...\n",
      "   [-1.         -1.         -1.         ... -1.         -1.\n",
      "    -1.        ]\n",
      "   [-1.         -1.         -1.         ... -1.         -1.\n",
      "    -1.        ]\n",
      "   [-1.         -1.         -1.         ... -1.         -1.\n",
      "    -1.        ]]\n",
      "\n",
      "  [[-1.         -1.         -1.         ... -1.         -1.\n",
      "    -1.        ]\n",
      "   [-1.         -1.         -1.         ... -1.         -1.\n",
      "    -1.        ]\n",
      "   [-1.         -1.         -1.         ... -1.         -1.\n",
      "    -1.        ]\n",
      "   ...\n",
      "   [-1.         -1.         -1.         ... -1.         -1.\n",
      "    -1.        ]\n",
      "   [-1.         -1.         -1.         ... -1.         -1.\n",
      "    -1.        ]\n",
      "   [-1.         -1.         -1.         ... -1.         -1.\n",
      "    -1.        ]]]]\n"
     ]
    }
   ],
   "source": [
    "print(train)"
   ]
  },
  {
   "cell_type": "code",
   "execution_count": 12,
   "metadata": {},
   "outputs": [
    {
     "data": {
      "text/plain": [
       "b'train_data\\\\09_36_26.png'"
      ]
     },
     "execution_count": 12,
     "metadata": {},
     "output_type": "execute_result"
    }
   ],
   "source": [
    "# 把所有圖片建立成一個Dataset--weather_dataset\n",
    "weather_dataset = tf.data.Dataset.list_files(\"train_data/*.png\")\n",
    "# weather_dataset = np.array(weather_dataset)\n",
    "# weather_dataset.shape\n",
    "data_iterator = weather_dataset.as_numpy_iterator()\n",
    "data_iterator.next()"
   ]
  },
  {
   "cell_type": "markdown",
   "metadata": {},
   "source": [
    "Build Nerual Network"
   ]
  },
  {
   "cell_type": "code",
   "execution_count": 13,
   "metadata": {},
   "outputs": [],
   "source": [
    "# Bring in the sequential api for the generator and discriminator\n",
    "from tensorflow.keras.models import Sequential\n",
    "# Bring in the layers for the NN\n",
    "from tensorflow.keras.layers import Conv2D, Dense, Flatten, Reshape, LeakyReLU, Dropout, UpSampling2D\n"
   ]
  },
  {
   "cell_type": "markdown",
   "metadata": {},
   "source": [
    "Build generator"
   ]
  },
  {
   "cell_type": "code",
   "execution_count": 14,
   "metadata": {},
   "outputs": [],
   "source": [
    "def build_generator() :\n",
    "    model = Sequential()\n",
    "\n",
    "    # Beginnings of a generated image\n",
    "    model.add(Dense(8*8*128, input_dim = 128))\n",
    "    model.add(LeakyReLU(0.2))\n",
    "    model.add(Reshape((8, 8, 128)))\n",
    "\n",
    "    # Upsampling block 1\n",
    "    model.add(UpSampling2D())\n",
    "    model.add(Conv2D(128, 5, padding = 'same'))\n",
    "    model.add(LeakyReLU(0.2))\n",
    "\n",
    "    # Upsampling block 2\n",
    "    model.add(UpSampling2D())\n",
    "    model.add(Conv2D(128, 5, padding = 'same'))\n",
    "    model.add(LeakyReLU(0.2))\n",
    "\n",
    "    # Upsampling block 3\n",
    "    model.add(UpSampling2D())\n",
    "    model.add(Conv2D(128, 5, padding = 'same'))\n",
    "    model.add(LeakyReLU(0.2))\n",
    "\n",
    "    # # Upsampling block 4\n",
    "    # model.add(UpSampling2D())\n",
    "    # model.add(Conv2D(128, 5, padding = 'same'))\n",
    "    # model.add(LeakyReLU(0.2))\n",
    "\n",
    "    # # Upsampling block 5\n",
    "    # model.add(UpSampling2D())\n",
    "    # model.add(Conv2D(128, 5, padding = 'same'))\n",
    "    # model.add(LeakyReLU(0.2))\n",
    "\n",
    "    # Convolution block 1\n",
    "    model.add(Conv2D(128, 4, padding = 'same'))\n",
    "    model.add(LeakyReLU(0.2))\n",
    "\n",
    "    # Convolution block 2\n",
    "    model.add(Conv2D(128, 4, padding = 'same'))\n",
    "    model.add(LeakyReLU(0.2))\n",
    "\n",
    "    #Conv layer to get to three channel, because R,G,B\n",
    "    model.add(Conv2D(3, 4, padding = 'same', activation = 'sigmoid'))\n",
    "\n",
    "    return model"
   ]
  },
  {
   "cell_type": "code",
   "execution_count": 15,
   "metadata": {},
   "outputs": [
    {
     "name": "stdout",
     "output_type": "stream",
     "text": [
      "Model: \"sequential\"\n",
      "_________________________________________________________________\n",
      " Layer (type)                Output Shape              Param #   \n",
      "=================================================================\n",
      " dense (Dense)               (None, 8192)              1056768   \n",
      "                                                                 \n",
      " leaky_re_lu (LeakyReLU)     (None, 8192)              0         \n",
      "                                                                 \n",
      " reshape (Reshape)           (None, 8, 8, 128)         0         \n",
      "                                                                 \n",
      " up_sampling2d (UpSampling2D  (None, 16, 16, 128)      0         \n",
      " )                                                               \n",
      "                                                                 \n",
      " conv2d (Conv2D)             (None, 16, 16, 128)       409728    \n",
      "                                                                 \n",
      " leaky_re_lu_1 (LeakyReLU)   (None, 16, 16, 128)       0         \n",
      "                                                                 \n",
      " up_sampling2d_1 (UpSampling  (None, 32, 32, 128)      0         \n",
      " 2D)                                                             \n",
      "                                                                 \n",
      " conv2d_1 (Conv2D)           (None, 32, 32, 128)       409728    \n",
      "                                                                 \n",
      " leaky_re_lu_2 (LeakyReLU)   (None, 32, 32, 128)       0         \n",
      "                                                                 \n",
      " up_sampling2d_2 (UpSampling  (None, 64, 64, 128)      0         \n",
      " 2D)                                                             \n",
      "                                                                 \n",
      " conv2d_2 (Conv2D)           (None, 64, 64, 128)       409728    \n",
      "                                                                 \n",
      " leaky_re_lu_3 (LeakyReLU)   (None, 64, 64, 128)       0         \n",
      "                                                                 \n",
      " conv2d_3 (Conv2D)           (None, 64, 64, 128)       262272    \n",
      "                                                                 \n",
      " leaky_re_lu_4 (LeakyReLU)   (None, 64, 64, 128)       0         \n",
      "                                                                 \n",
      " conv2d_4 (Conv2D)           (None, 64, 64, 128)       262272    \n",
      "                                                                 \n",
      " leaky_re_lu_5 (LeakyReLU)   (None, 64, 64, 128)       0         \n",
      "                                                                 \n",
      " conv2d_5 (Conv2D)           (None, 64, 64, 3)         6147      \n",
      "                                                                 \n",
      "=================================================================\n",
      "Total params: 2,816,643\n",
      "Trainable params: 2,816,643\n",
      "Non-trainable params: 0\n",
      "_________________________________________________________________\n"
     ]
    }
   ],
   "source": [
    "generator = build_generator()\n",
    "generator.summary()"
   ]
  },
  {
   "cell_type": "code",
   "execution_count": 16,
   "metadata": {},
   "outputs": [
    {
     "name": "stdout",
     "output_type": "stream",
     "text": [
      "1/1 [==============================] - 6s 6s/step\n"
     ]
    },
    {
     "data": {
      "text/plain": [
       "array([[[[0.4939935 , 0.50309026, 0.50016135],\n",
       "         [0.49472404, 0.5034991 , 0.49950096],\n",
       "         [0.49212188, 0.5046347 , 0.50073075],\n",
       "         ...,\n",
       "         [0.49763077, 0.50377643, 0.50317806],\n",
       "         [0.49698395, 0.5016394 , 0.5016236 ],\n",
       "         [0.49901062, 0.4988596 , 0.50040746]],\n",
       "\n",
       "        [[0.49246907, 0.5000525 , 0.49749532],\n",
       "         [0.49115878, 0.49715385, 0.49966583],\n",
       "         [0.489106  , 0.49966642, 0.4999984 ],\n",
       "         ...,\n",
       "         [0.49636722, 0.5008354 , 0.503287  ],\n",
       "         [0.49806204, 0.50087255, 0.5013997 ],\n",
       "         [0.4984813 , 0.49852931, 0.5009988 ]],\n",
       "\n",
       "        [[0.4911798 , 0.49995458, 0.5006536 ],\n",
       "         [0.48919618, 0.49871764, 0.50200266],\n",
       "         [0.4873778 , 0.5016716 , 0.49834314],\n",
       "         ...,\n",
       "         [0.49087223, 0.5005992 , 0.5011833 ],\n",
       "         [0.4949765 , 0.49994218, 0.5010303 ],\n",
       "         [0.497855  , 0.49758154, 0.5004236 ]],\n",
       "\n",
       "        ...,\n",
       "\n",
       "        [[0.49590114, 0.4991134 , 0.4993049 ],\n",
       "         [0.49536863, 0.49486434, 0.5001769 ],\n",
       "         [0.49242017, 0.49320602, 0.49817705],\n",
       "         ...,\n",
       "         [0.49415585, 0.49346763, 0.50045896],\n",
       "         [0.4969551 , 0.4948158 , 0.5003994 ],\n",
       "         [0.49853173, 0.4970266 , 0.49972364]],\n",
       "\n",
       "        [[0.49751556, 0.4985379 , 0.49854785],\n",
       "         [0.4968107 , 0.49591607, 0.49891302],\n",
       "         [0.4950085 , 0.4953667 , 0.49961966],\n",
       "         ...,\n",
       "         [0.49683076, 0.49724472, 0.50235236],\n",
       "         [0.4992967 , 0.49743733, 0.5007073 ],\n",
       "         [0.50012445, 0.49747136, 0.50031406]],\n",
       "\n",
       "        [[0.5002207 , 0.4991384 , 0.4992844 ],\n",
       "         [0.49907142, 0.49708703, 0.4992737 ],\n",
       "         [0.4985424 , 0.49655056, 0.49982983],\n",
       "         ...,\n",
       "         [0.49825528, 0.4997567 , 0.5016723 ],\n",
       "         [0.49994147, 0.49922243, 0.49999666],\n",
       "         [0.50017834, 0.49824795, 0.49999356]]],\n",
       "\n",
       "\n",
       "       [[[0.4932724 , 0.50435793, 0.4991447 ],\n",
       "         [0.4951277 , 0.5037248 , 0.50228876],\n",
       "         [0.49314815, 0.5047816 , 0.49975836],\n",
       "         ...,\n",
       "         [0.49477872, 0.5049559 , 0.50188905],\n",
       "         [0.49625146, 0.50160486, 0.50239384],\n",
       "         [0.499951  , 0.49830937, 0.5031178 ]],\n",
       "\n",
       "        [[0.4916346 , 0.5022636 , 0.49960917],\n",
       "         [0.49709022, 0.49930823, 0.50032055],\n",
       "         [0.49460036, 0.49892247, 0.49950957],\n",
       "         ...,\n",
       "         [0.4924455 , 0.5045836 , 0.5037995 ],\n",
       "         [0.49427202, 0.50227374, 0.50332135],\n",
       "         [0.49906036, 0.4967979 , 0.5043308 ]],\n",
       "\n",
       "        [[0.4908959 , 0.5010281 , 0.4978153 ],\n",
       "         [0.49603415, 0.5002038 , 0.49914032],\n",
       "         [0.49407694, 0.4989776 , 0.4983686 ],\n",
       "         ...,\n",
       "         [0.49185652, 0.5029419 , 0.5025139 ],\n",
       "         [0.492232  , 0.5026801 , 0.50252247],\n",
       "         [0.49631155, 0.49738118, 0.5036888 ]],\n",
       "\n",
       "        ...,\n",
       "\n",
       "        [[0.49814823, 0.49968395, 0.49944654],\n",
       "         [0.495645  , 0.49496293, 0.49729514],\n",
       "         [0.4925519 , 0.4949642 , 0.49677464],\n",
       "         ...,\n",
       "         [0.4978262 , 0.50054705, 0.5019464 ],\n",
       "         [0.49990287, 0.49969113, 0.5025956 ],\n",
       "         [0.49803117, 0.49786553, 0.5028337 ]],\n",
       "\n",
       "        [[0.4954714 , 0.4974562 , 0.49897653],\n",
       "         [0.49536923, 0.4926756 , 0.49583817],\n",
       "         [0.4942067 , 0.49438798, 0.49808595],\n",
       "         ...,\n",
       "         [0.49700573, 0.50016165, 0.50436085],\n",
       "         [0.49718118, 0.5010701 , 0.5027461 ],\n",
       "         [0.4969292 , 0.498623  , 0.5017278 ]],\n",
       "\n",
       "        [[0.49678722, 0.5004309 , 0.5007033 ],\n",
       "         [0.4973583 , 0.49636468, 0.5012559 ],\n",
       "         [0.49683395, 0.4975636 , 0.50175667],\n",
       "         ...,\n",
       "         [0.4981012 , 0.50030875, 0.50281894],\n",
       "         [0.49862206, 0.50025177, 0.5019817 ],\n",
       "         [0.49903145, 0.4993702 , 0.5011497 ]]],\n",
       "\n",
       "\n",
       "       [[[0.49538946, 0.50307715, 0.49829274],\n",
       "         [0.49692932, 0.50503033, 0.5004839 ],\n",
       "         [0.49484247, 0.5084778 , 0.5019901 ],\n",
       "         ...,\n",
       "         [0.49935007, 0.50216794, 0.5008263 ],\n",
       "         [0.49891245, 0.50225055, 0.5026555 ],\n",
       "         [0.49984413, 0.49751452, 0.50146437]],\n",
       "\n",
       "        [[0.49495417, 0.50281537, 0.49923584],\n",
       "         [0.49702823, 0.5043715 , 0.5014742 ],\n",
       "         [0.49640998, 0.50579715, 0.50295717],\n",
       "         ...,\n",
       "         [0.49748406, 0.50124687, 0.49961483],\n",
       "         [0.49889204, 0.50192565, 0.50263107],\n",
       "         [0.49931678, 0.49797451, 0.5011402 ]],\n",
       "\n",
       "        [[0.49507147, 0.5021405 , 0.5014669 ],\n",
       "         [0.4971163 , 0.50263155, 0.50301343],\n",
       "         [0.49679205, 0.50007874, 0.50526   ],\n",
       "         ...,\n",
       "         [0.49645618, 0.50040305, 0.4979643 ],\n",
       "         [0.49771675, 0.50117934, 0.5025276 ],\n",
       "         [0.49779385, 0.49709764, 0.50041455]],\n",
       "\n",
       "        ...,\n",
       "\n",
       "        [[0.49494284, 0.49982446, 0.49808908],\n",
       "         [0.49992126, 0.4995132 , 0.49613625],\n",
       "         [0.49630284, 0.49966583, 0.49718037],\n",
       "         ...,\n",
       "         [0.49647945, 0.49863982, 0.49998903],\n",
       "         [0.49776244, 0.4982625 , 0.49879965],\n",
       "         [0.49994296, 0.49819675, 0.50003654]],\n",
       "\n",
       "        [[0.4972522 , 0.4983261 , 0.49694467],\n",
       "         [0.4998729 , 0.49703318, 0.4957139 ],\n",
       "         [0.49767873, 0.49727702, 0.4953109 ],\n",
       "         ...,\n",
       "         [0.49741638, 0.4989743 , 0.5027781 ],\n",
       "         [0.49889025, 0.49814758, 0.50053734],\n",
       "         [0.5002201 , 0.49863327, 0.5000456 ]],\n",
       "\n",
       "        [[0.49918973, 0.5001001 , 0.49864897],\n",
       "         [0.49855757, 0.49855   , 0.49804968],\n",
       "         [0.49901038, 0.4976851 , 0.49855426],\n",
       "         ...,\n",
       "         [0.4979601 , 0.49888062, 0.50212556],\n",
       "         [0.49918535, 0.4987914 , 0.5009033 ],\n",
       "         [0.49952468, 0.49967512, 0.50008875]]],\n",
       "\n",
       "\n",
       "       [[[0.4942506 , 0.50114375, 0.49968198],\n",
       "         [0.4963217 , 0.5026545 , 0.5016977 ],\n",
       "         [0.4935009 , 0.5024537 , 0.5032846 ],\n",
       "         ...,\n",
       "         [0.4948975 , 0.5009605 , 0.50131863],\n",
       "         [0.49542   , 0.49774376, 0.5025731 ],\n",
       "         [0.4986129 , 0.49796754, 0.5003446 ]],\n",
       "\n",
       "        [[0.49455795, 0.5004462 , 0.4981182 ],\n",
       "         [0.4954771 , 0.50141656, 0.5014015 ],\n",
       "         [0.49308312, 0.5018544 , 0.5014672 ],\n",
       "         ...,\n",
       "         [0.49688375, 0.4989001 , 0.5030871 ],\n",
       "         [0.49606025, 0.49673486, 0.50447154],\n",
       "         [0.49901333, 0.49728423, 0.50163335]],\n",
       "\n",
       "        [[0.49314514, 0.501901  , 0.4996491 ],\n",
       "         [0.4935751 , 0.5037899 , 0.5017092 ],\n",
       "         [0.49373528, 0.50133634, 0.50454664],\n",
       "         ...,\n",
       "         [0.49623445, 0.4967116 , 0.50475955],\n",
       "         [0.49661207, 0.49647215, 0.5038244 ],\n",
       "         [0.4992405 , 0.49819458, 0.5018718 ]],\n",
       "\n",
       "        ...,\n",
       "\n",
       "        [[0.4950826 , 0.49704832, 0.49862674],\n",
       "         [0.49287018, 0.49418148, 0.50007474],\n",
       "         [0.49014625, 0.49151352, 0.5006055 ],\n",
       "         ...,\n",
       "         [0.49422094, 0.49575788, 0.49924678],\n",
       "         [0.4954742 , 0.49560863, 0.50010777],\n",
       "         [0.49716768, 0.4970433 , 0.50105613]],\n",
       "\n",
       "        [[0.49637073, 0.49524242, 0.4998371 ],\n",
       "         [0.49355096, 0.49361548, 0.49960366],\n",
       "         [0.49105993, 0.49232566, 0.4995604 ],\n",
       "         ...,\n",
       "         [0.4973318 , 0.4975654 , 0.500984  ],\n",
       "         [0.49723035, 0.49691153, 0.50175506],\n",
       "         [0.49858317, 0.4977665 , 0.5017864 ]],\n",
       "\n",
       "        [[0.49934348, 0.49737582, 0.50207496],\n",
       "         [0.49711996, 0.49580458, 0.5029703 ],\n",
       "         [0.4963627 , 0.49537113, 0.50222194],\n",
       "         ...,\n",
       "         [0.49683625, 0.49872142, 0.502762  ],\n",
       "         [0.49884307, 0.49804083, 0.5015375 ],\n",
       "         [0.49961555, 0.49811345, 0.50042945]]]], dtype=float32)"
      ]
     },
     "execution_count": 16,
     "metadata": {},
     "output_type": "execute_result"
    }
   ],
   "source": [
    "img = generator.predict(np.random.randn(4, 128))\n",
    "img"
   ]
  },
  {
   "cell_type": "code",
   "execution_count": 17,
   "metadata": {},
   "outputs": [
    {
     "data": {
      "text/plain": [
       "(4, 64, 64, 3)"
      ]
     },
     "execution_count": 17,
     "metadata": {},
     "output_type": "execute_result"
    }
   ],
   "source": [
    "img.shape"
   ]
  },
  {
   "cell_type": "code",
   "execution_count": 18,
   "metadata": {},
   "outputs": [
    {
     "data": {
      "text/plain": [
       "4"
      ]
     },
     "execution_count": 18,
     "metadata": {},
     "output_type": "execute_result"
    }
   ],
   "source": [
    "len(img)"
   ]
  },
  {
   "cell_type": "code",
   "execution_count": 19,
   "metadata": {},
   "outputs": [
    {
     "data": {
      "image/png": "[encoded data removed]",
      "text/plain": [
       "<Figure size 640x480 with 1 Axes>"
      ]
     },
     "metadata": {},
     "output_type": "display_data"
    },
    {
     "data": {
      "image/png": "[encoded data removed]",
      "text/plain": [
       "<Figure size 640x480 with 1 Axes>"
      ]
     },
     "metadata": {},
     "output_type": "display_data"
    },
    {
     "data": {
      "image/png": "[encoded data removed]",
      "text/plain": [
       "<Figure size 640x480 with 1 Axes>"
      ]
     },
     "metadata": {},
     "output_type": "display_data"
    },
    {
     "data": {
      "image/png": "[encoded data removed]",
      "text/plain": [
       "<Figure size 640x480 with 1 Axes>"
      ]
     },
     "metadata": {},
     "output_type": "display_data"
    }
   ],
   "source": [
    "for i in range(len(img)) :\n",
    "    plt.imshow(img[i])\n",
    "    plt.axis('off')\n",
    "    plt.show()"
   ]
  },
  {
   "cell_type": "markdown",
   "metadata": {},
   "source": [
    "Build Discriminator"
   ]
  },
  {
   "cell_type": "code",
   "execution_count": 20,
   "metadata": {},
   "outputs": [
    {
     "data": {
      "text/plain": [
       "(4, 64, 64, 3)"
      ]
     },
     "execution_count": 20,
     "metadata": {},
     "output_type": "execute_result"
    }
   ],
   "source": [
    "img.shape"
   ]
  },
  {
   "cell_type": "code",
   "execution_count": 21,
   "metadata": {},
   "outputs": [],
   "source": [
    "def build_discriminator() :\n",
    "    model = Sequential()\n",
    "    \n",
    "    # First Conv Block\n",
    "    model.add(Conv2D(32, 5, input_shape = (64, 64, 3)))\n",
    "    model.add(LeakyReLU(0.2))\n",
    "    # Dropout可以降低discriminator訓練的速度\n",
    "    model.add(Dropout(0.4))\n",
    "\n",
    "    # Second Conv Block\n",
    "    model.add(Conv2D(64, 5))\n",
    "    model.add(LeakyReLU(0.2))\n",
    "    model.add(Dropout(0.4))\n",
    "\n",
    "    # Third Conv Block\n",
    "    model.add(Conv2D(128, 5))\n",
    "    model.add(LeakyReLU(0.2))\n",
    "    model.add(Dropout(0.4))\n",
    "\n",
    "    # Fourth Conv Block\n",
    "    model.add(Conv2D(256, 5))\n",
    "    model.add(LeakyReLU(0.2))\n",
    "    model.add(Dropout(0.4))\n",
    "\n",
    "    # # Fifth Conv Block\n",
    "    # model.add(Conv2D(256, 5))\n",
    "    # model.add(LeakyReLU(0.2))\n",
    "    # model.add(Dropout(0.4))\n",
    "\n",
    "    # Flatten then pass to dense layer\n",
    "    model.add(Flatten())\n",
    "    model.add(Dropout(0.4))\n",
    "    model.add(Dense(1, activation = 'sigmoid'))\n",
    "\n",
    "\n",
    "    return model"
   ]
  },
  {
   "cell_type": "code",
   "execution_count": 22,
   "metadata": {},
   "outputs": [
    {
     "data": {
      "text/plain": [
       "(4, 64, 64, 3)"
      ]
     },
     "execution_count": 22,
     "metadata": {},
     "output_type": "execute_result"
    }
   ],
   "source": [
    "img.shape"
   ]
  },
  {
   "cell_type": "code",
   "execution_count": 23,
   "metadata": {},
   "outputs": [],
   "source": [
    "discriminator = build_discriminator()"
   ]
  },
  {
   "cell_type": "code",
   "execution_count": 24,
   "metadata": {},
   "outputs": [
    {
     "name": "stdout",
     "output_type": "stream",
     "text": [
      "Model: \"sequential_1\"\n",
      "_________________________________________________________________\n",
      " Layer (type)                Output Shape              Param #   \n",
      "=================================================================\n",
      " conv2d_6 (Conv2D)           (None, 60, 60, 32)        2432      \n",
      "                                                                 \n",
      " leaky_re_lu_6 (LeakyReLU)   (None, 60, 60, 32)        0         \n",
      "                                                                 \n",
      " dropout (Dropout)           (None, 60, 60, 32)        0         \n",
      "                                                                 \n",
      " conv2d_7 (Conv2D)           (None, 56, 56, 64)        51264     \n",
      "                                                                 \n",
      " leaky_re_lu_7 (LeakyReLU)   (None, 56, 56, 64)        0         \n",
      "                                                                 \n",
      " dropout_1 (Dropout)         (None, 56, 56, 64)        0         \n",
      "                                                                 \n",
      " conv2d_8 (Conv2D)           (None, 52, 52, 128)       204928    \n",
      "                                                                 \n",
      " leaky_re_lu_8 (LeakyReLU)   (None, 52, 52, 128)       0         \n",
      "                                                                 \n",
      " dropout_2 (Dropout)         (None, 52, 52, 128)       0         \n",
      "                                                                 \n",
      " conv2d_9 (Conv2D)           (None, 48, 48, 256)       819456    \n",
      "                                                                 \n",
      " leaky_re_lu_9 (LeakyReLU)   (None, 48, 48, 256)       0         \n",
      "                                                                 \n",
      " dropout_3 (Dropout)         (None, 48, 48, 256)       0         \n",
      "                                                                 \n",
      " flatten (Flatten)           (None, 589824)            0         \n",
      "                                                                 \n",
      " dropout_4 (Dropout)         (None, 589824)            0         \n",
      "                                                                 \n",
      " dense_1 (Dense)             (None, 1)                 589825    \n",
      "                                                                 \n",
      "=================================================================\n",
      "Total params: 1,667,905\n",
      "Trainable params: 1,667,905\n",
      "Non-trainable params: 0\n",
      "_________________________________________________________________\n"
     ]
    }
   ],
   "source": [
    "discriminator.summary()"
   ]
  },
  {
   "cell_type": "code",
   "execution_count": 25,
   "metadata": {},
   "outputs": [
    {
     "name": "stdout",
     "output_type": "stream",
     "text": [
      "1/1 [==============================] - 0s 90ms/step\n"
     ]
    },
    {
     "data": {
      "text/plain": [
       "array([[0.49240923],\n",
       "       [0.49208683],\n",
       "       [0.49232867],\n",
       "       [0.49219826]], dtype=float32)"
      ]
     },
     "execution_count": 25,
     "metadata": {},
     "output_type": "execute_result"
    }
   ],
   "source": [
    "discriminator.predict(img)"
   ]
  },
  {
   "cell_type": "markdown",
   "metadata": {},
   "source": [
    "Training Loop"
   ]
  },
  {
   "cell_type": "markdown",
   "metadata": {},
   "source": [
    "Setup Losses and Optimizers"
   ]
  },
  {
   "cell_type": "code",
   "execution_count": 26,
   "metadata": {},
   "outputs": [],
   "source": [
    "from tensorflow.keras.optimizers import Adam\n",
    "from tensorflow.keras.losses import BinaryCrossentropy"
   ]
  },
  {
   "cell_type": "code",
   "execution_count": 37,
   "metadata": {},
   "outputs": [],
   "source": [
    "# determine g & d's optimizer\n",
    "generator_opt = Adam(learning_rate=0.0001)\n",
    "discirminator_opt = Adam(learning_rate=0.00001)\n",
    "# determine g & d's losses\n",
    "generator_loss = BinaryCrossentropy()\n",
    "discriminator_loss = BinaryCrossentropy()"
   ]
  },
  {
   "cell_type": "markdown",
   "metadata": {},
   "source": [
    "Build Subclassed Model"
   ]
  },
  {
   "cell_type": "code",
   "execution_count": 38,
   "metadata": {},
   "outputs": [],
   "source": [
    "# improting the base model class to subclass our training step\n",
    "from tensorflow.keras.models import Model"
   ]
  },
  {
   "cell_type": "code",
   "execution_count": 39,
   "metadata": {},
   "outputs": [],
   "source": [
    "class WeatherGAN(Model) : \n",
    "    # *args = any positional arg, **kwargs = keyboard args, those two parameters are make our function flexible\n",
    "    def __init__(self, generator, discriminator, *args, **kwargs) :\n",
    "        # Pass through args and kwargs to base class\n",
    "        super().__init__(*args, **kwargs)\n",
    "\n",
    "        # Create attribute for gen and dis\n",
    "        self.generator = generator\n",
    "        self.discriminator = discriminator\n",
    "\n",
    "    def compile(self, generator_opt, discirminator_opt, generator_loss, discriminator_loss, *args, **kwargs) :\n",
    "        # Compile with base class\n",
    "        super().compile(*args, **kwargs)\n",
    "\n",
    "        # Create attributes for optimizer and losses\n",
    "        self.generator_opt = generator_opt\n",
    "        self.discriminator_opt = discirminator_opt\n",
    "        self.generator_loss = generator_loss\n",
    "        self.discriminator_loss = discriminator_loss\n",
    "\n",
    "    def train_step(self, batch) :\n",
    "        # Get the data\n",
    "        real_images = batch\n",
    "        # Use generator to prediction fake image\n",
    "        fake_images = self.generator(tf.random.normal((128, 128)), training = False)\n",
    "\n",
    "        # Train the discriminator\n",
    "        with tf.GradientTape() as d_tape :\n",
    "            # Pass the real and fake images to the discriminator model\n",
    "            real_images = tf.transpose(real_images, perm=[0, 3, 2, 1]) # Change the dimension to (None, 3, 256, 256)\n",
    "            yhat_real = self.discriminator(real_images, training = True)\n",
    "            yhat_fake = self.discriminator(fake_images, training = True)\n",
    "            yhat_real_fake = tf.concat([yhat_real, yhat_fake], axis = 0) # Predictions(label) from discriminator\n",
    "\n",
    "            # Create labels for the real and fake image\n",
    "            y_real_fake = tf.concat([tf.zeros_like(yhat_real), tf.ones_like(yhat_fake)], axis = 0) # Actual label, real image label = 0, fake image label = 1\n",
    "\n",
    "            # Add some noise to the TRUE outputs\n",
    "            noise_real = 0.15 * tf.random.uniform(tf.shape(yhat_real)) # Uniform distribution\n",
    "            noise_fake = -0.15 * tf.random.uniform(tf.shape(yhat_fake))\n",
    "            y_real_fake += tf.concat([noise_real, noise_fake], axis = 0)\n",
    "\n",
    "            # Calculate loss - BinaryCorss\n",
    "            total_d_loss = self.discriminator_loss(y_real_fake, yhat_real_fake)\n",
    "\n",
    "        # Apply backpropagation, nn learn. trainable_variables = the variable we want to calculate the gradients\n",
    "        d_gradients = d_tape.gradient(total_d_loss, self.discriminator.trainable_variables) # Calculate gradient\n",
    "        self.discriminator_opt.apply_gradients(zip(d_gradients, self.discriminator.trainable_variables)) # Apply gradients using optimizer\n",
    "\n",
    "        # Train the generator\n",
    "        with tf.GradientTape() as g_tape :\n",
    "            # Generator some nwe images\n",
    "            gene_images = self.generator(tf.random.normal((128, 128)), training = True)\n",
    "\n",
    "            # Create the predicted labels, running our gene_images through the discriminator\n",
    "            predicted_labels = self.discriminator(gene_images, training = False)\n",
    "\n",
    "            # Calculate loss - trick to training to fake out the discriminator\n",
    "            total_g_loss = self.generator_loss(tf.zeros_like(predicted_labels), predicted_labels)\n",
    "\n",
    "        # Apply backpropagation\n",
    "        g_gradients = g_tape.gradient(total_g_loss, self.generator.trainable_variables)\n",
    "        self.generator_opt.apply_gradients(zip(g_gradients, self.generator.trainable_variables))\n",
    "\n",
    "        return {\"discriminator_loss\":total_d_loss, \"generator_loss\":total_g_loss}\n",
    "    # test & evaluation something\n",
    "    def test_step(self) :\n",
    "            pass\n",
    "    "
   ]
  },
  {
   "cell_type": "code",
   "execution_count": 40,
   "metadata": {},
   "outputs": [],
   "source": [
    "# Create instance of subclass model\n",
    "weatherGan = WeatherGAN(generator, discriminator)"
   ]
  },
  {
   "cell_type": "code",
   "execution_count": 41,
   "metadata": {},
   "outputs": [],
   "source": [
    "# Compile the model\n",
    "weatherGan.compile(generator_opt, discirminator_opt, generator_loss, discriminator_loss)"
   ]
  },
  {
   "cell_type": "markdown",
   "metadata": {},
   "source": [
    "Build Callback"
   ]
  },
  {
   "cell_type": "code",
   "execution_count": 42,
   "metadata": {},
   "outputs": [],
   "source": [
    "# import os -> helps with folder navigation (import previously)\n",
    "from tensorflow.keras.preprocessing.image import array_to_img\n",
    "from tensorflow.keras.callbacks import Callback # Create out own custom callback on epoch"
   ]
  },
  {
   "cell_type": "code",
   "execution_count": 43,
   "metadata": {},
   "outputs": [],
   "source": [
    "class ModelMonitor(Callback) :\n",
    "    def __init__(self, num_img = 3, latent_dim = 128) : # latent_dim -> the random value that i passing to generator to generator a random image, num_img -> how much need to generate\n",
    "        self.num_img = num_img\n",
    "        self.latent_dim = latent_dim\n",
    "\n",
    "    def on_epoch_end(self, epoch, logs = None) :\n",
    "        random_latent_vectors = tf.random.uniform((self.num_img, self.latent_dim))\n",
    "        generated_img = self.model.generator(random_latent_vectors)\n",
    "        generated_img *= 255\n",
    "        generated_img.numpy()\n",
    "        for i in range(self.num_img) :\n",
    "            img = array_to_img(generated_img[i])\n",
    "            img.save(os.path.join('generated_images', f'generated_img_{epoch}_{i}.png'))\n"
   ]
  },
  {
   "cell_type": "markdown",
   "metadata": {},
   "source": [
    "Train"
   ]
  },
  {
   "cell_type": "code",
   "execution_count": 44,
   "metadata": {},
   "outputs": [
    {
     "data": {
      "text/plain": [
       "array([[[[-1.        , -1.        , -1.        , ..., -1.        ,\n",
       "          -1.        , -1.        ],\n",
       "         [-1.        , -1.        , -1.        , ..., -1.        ,\n",
       "          -1.        , -1.        ],\n",
       "         [-1.        , -1.        , -1.        , ..., -1.        ,\n",
       "          -1.        , -1.        ],\n",
       "         ...,\n",
       "         [-1.        , -1.        , -1.        , ..., -1.        ,\n",
       "          -1.        , -1.        ],\n",
       "         [-1.        , -1.        , -1.        , ..., -1.        ,\n",
       "          -1.        , -1.        ],\n",
       "         [-1.        , -1.        , -1.        , ..., -1.        ,\n",
       "          -1.        , -1.        ]],\n",
       "\n",
       "        [[-1.        , -1.        , -1.        , ...,  0.7852942 ,\n",
       "          -1.        , -1.        ],\n",
       "         [-1.        , -1.        , -1.        , ...,  0.45294118,\n",
       "           0.9137255 ,  0.654902  ],\n",
       "         [-1.        , -1.        , -1.        , ..., -1.        ,\n",
       "           0.76274514,  0.48039222],\n",
       "         ...,\n",
       "         [-1.        , -1.        , -1.        , ..., -1.        ,\n",
       "          -1.        , -1.        ],\n",
       "         [-1.        , -1.        , -1.        , ..., -1.        ,\n",
       "          -1.        , -1.        ],\n",
       "         [-1.        , -1.        , -1.        , ..., -1.        ,\n",
       "          -1.        , -1.        ]],\n",
       "\n",
       "        [[-1.        , -1.        , -1.        , ..., -1.        ,\n",
       "          -1.        , -1.        ],\n",
       "         [-1.        , -1.        , -1.        , ..., -1.        ,\n",
       "          -1.        , -1.        ],\n",
       "         [-1.        , -1.        , -1.        , ..., -1.        ,\n",
       "          -1.        , -1.        ],\n",
       "         ...,\n",
       "         [-1.        , -1.        , -1.        , ..., -1.        ,\n",
       "          -1.        , -1.        ],\n",
       "         [-1.        , -1.        , -1.        , ..., -1.        ,\n",
       "          -1.        , -1.        ],\n",
       "         [-1.        , -1.        , -1.        , ..., -1.        ,\n",
       "          -1.        , -1.        ]]],\n",
       "\n",
       "\n",
       "       [[[-1.        , -1.        , -1.        , ..., -1.        ,\n",
       "          -1.        , -1.        ],\n",
       "         [-1.        , -1.        , -1.        , ..., -1.        ,\n",
       "          -1.        , -1.        ],\n",
       "         [-1.        , -1.        , -1.        , ..., -1.        ,\n",
       "          -1.        , -1.        ],\n",
       "         ...,\n",
       "         [-1.        , -1.        , -1.        , ..., -1.        ,\n",
       "          -1.        , -1.        ],\n",
       "         [-1.        , -1.        , -1.        , ..., -1.        ,\n",
       "          -1.        , -1.        ],\n",
       "         [-1.        , -1.        , -1.        , ..., -1.        ,\n",
       "          -1.        , -1.        ]],\n",
       "\n",
       "        [[-1.        , -1.        , -1.        , ...,  0.9029411 ,\n",
       "          -1.        , -1.        ],\n",
       "         [-1.        , -1.        , -1.        , ...,  0.9137255 ,\n",
       "           0.41176474,  0.5686275 ],\n",
       "         [-1.        , -1.        , -1.        , ...,  0.5601716 ,\n",
       "           0.8166667 ,  0.43137252],\n",
       "         ...,\n",
       "         [-1.        , -1.        , -1.        , ..., -1.        ,\n",
       "          -1.        , -1.        ],\n",
       "         [-1.        , -1.        , -1.        , ..., -1.        ,\n",
       "          -1.        , -1.        ],\n",
       "         [-1.        , -1.        , -1.        , ..., -1.        ,\n",
       "          -1.        , -1.        ]],\n",
       "\n",
       "        [[-1.        , -1.        , -1.        , ..., -1.        ,\n",
       "           1.        , -1.        ],\n",
       "         [-1.        , -1.        , -1.        , ..., -1.        ,\n",
       "          -1.        , -1.        ],\n",
       "         [-1.        , -1.        , -1.        , ..., -1.        ,\n",
       "          -1.        , -1.        ],\n",
       "         ...,\n",
       "         [-1.        , -1.        , -1.        , ..., -1.        ,\n",
       "          -1.        , -1.        ],\n",
       "         [-1.        , -1.        , -1.        , ..., -1.        ,\n",
       "          -1.        , -1.        ],\n",
       "         [-1.        , -1.        , -1.        , ..., -1.        ,\n",
       "          -1.        , -1.        ]]],\n",
       "\n",
       "\n",
       "       [[[-1.        , -1.        , -1.        , ..., -1.        ,\n",
       "          -1.        , -1.        ],\n",
       "         [-1.        , -1.        , -1.        , ..., -1.        ,\n",
       "          -1.        , -1.        ],\n",
       "         [-1.        , -1.        , -1.        , ..., -1.        ,\n",
       "           0.75      , -1.        ],\n",
       "         ...,\n",
       "         [-1.        , -1.        , -1.        , ..., -1.        ,\n",
       "          -1.        , -1.        ],\n",
       "         [-1.        , -1.        , -1.        , ..., -1.        ,\n",
       "          -1.        , -1.        ],\n",
       "         [-1.        , -1.        , -1.        , ..., -1.        ,\n",
       "          -1.        , -1.        ]],\n",
       "\n",
       "        [[-1.        , -1.        , -1.        , ...,  0.97843134,\n",
       "          -1.        , -1.        ],\n",
       "         [-1.        , -1.        , -1.        , ...,  0.33333337,\n",
       "           0.33333337,  0.827451  ],\n",
       "         [-1.        , -1.        , -1.        , ...,  0.32193625,\n",
       "           0.90686274,  0.40196073],\n",
       "         ...,\n",
       "         [-1.        , -1.        , -1.        , ..., -1.        ,\n",
       "          -1.        , -1.        ],\n",
       "         [-1.        , -1.        , -1.        , ..., -1.        ,\n",
       "          -1.        , -1.        ],\n",
       "         [-1.        , -1.        , -1.        , ..., -1.        ,\n",
       "          -1.        , -1.        ]],\n",
       "\n",
       "        [[-1.        , -1.        , -1.        , ..., -1.        ,\n",
       "          -1.        , -1.        ],\n",
       "         [-1.        , -1.        , -1.        , ..., -1.        ,\n",
       "          -1.        , -1.        ],\n",
       "         [-1.        , -1.        , -1.        , ..., -1.        ,\n",
       "          -1.        , -1.        ],\n",
       "         ...,\n",
       "         [-1.        , -1.        , -1.        , ..., -1.        ,\n",
       "          -1.        , -1.        ],\n",
       "         [-1.        , -1.        , -1.        , ..., -1.        ,\n",
       "          -1.        , -1.        ],\n",
       "         [-1.        , -1.        , -1.        , ..., -1.        ,\n",
       "          -1.        , -1.        ]]]], dtype=float32)"
      ]
     },
     "execution_count": 44,
     "metadata": {},
     "output_type": "execute_result"
    }
   ],
   "source": [
    "train"
   ]
  },
  {
   "cell_type": "code",
   "execution_count": 45,
   "metadata": {},
   "outputs": [
    {
     "data": {
      "text/plain": [
       "(3, 3, 64, 64)"
      ]
     },
     "execution_count": 45,
     "metadata": {},
     "output_type": "execute_result"
    }
   ],
   "source": [
    "train.shape"
   ]
  },
  {
   "cell_type": "code",
   "execution_count": 46,
   "metadata": {},
   "outputs": [
    {
     "name": "stdout",
     "output_type": "stream",
     "text": [
      "Epoch 1/20\n",
      "2/2 [==============================] - 140s 66s/step - discriminator_loss: 0.4933 - generator_loss: 1.0211\n",
      "Epoch 2/20\n",
      "2/2 [==============================] - 108s 54s/step - discriminator_loss: 0.6758 - generator_loss: 0.7172\n",
      "Epoch 3/20\n",
      "2/2 [==============================] - 115s 56s/step - discriminator_loss: 0.6835 - generator_loss: 0.7075\n",
      "Epoch 4/20\n",
      "2/2 [==============================] - 82s 34s/step - discriminator_loss: 0.6826 - generator_loss: 0.7092\n",
      "Epoch 5/20\n",
      "2/2 [==============================] - 72s 36s/step - discriminator_loss: 0.6811 - generator_loss: 0.7116\n",
      "Epoch 6/20\n",
      "2/2 [==============================] - 114s 59s/step - discriminator_loss: 0.6772 - generator_loss: 0.7142\n",
      "Epoch 7/20\n",
      "2/2 [==============================] - 121s 64s/step - discriminator_loss: 0.6724 - generator_loss: 0.7169\n",
      "Epoch 8/20\n",
      "2/2 [==============================] - 137s 73s/step - discriminator_loss: 0.6693 - generator_loss: 0.7199\n",
      "Epoch 9/20\n",
      "2/2 [==============================] - 148s 73s/step - discriminator_loss: 0.6664 - generator_loss: 0.7231\n",
      "Epoch 10/20\n",
      "2/2 [==============================] - 146s 76s/step - discriminator_loss: 0.6631 - generator_loss: 0.7266\n",
      "Epoch 11/20\n",
      "2/2 [==============================] - 151s 75s/step - discriminator_loss: 0.6611 - generator_loss: 0.7304\n",
      "Epoch 12/20\n",
      "2/2 [==============================] - 140s 79s/step - discriminator_loss: 0.6582 - generator_loss: 0.7346\n",
      "Epoch 13/20\n",
      "2/2 [==============================] - 146s 70s/step - discriminator_loss: 0.6538 - generator_loss: 0.7393\n",
      "Epoch 14/20\n",
      "2/2 [==============================] - 150s 74s/step - discriminator_loss: 0.6491 - generator_loss: 0.7445\n",
      "Epoch 15/20\n",
      "2/2 [==============================] - 148s 74s/step - discriminator_loss: 0.6453 - generator_loss: 0.7504\n",
      "Epoch 16/20\n",
      "2/2 [==============================] - 138s 70s/step - discriminator_loss: 0.6407 - generator_loss: 0.7571\n",
      "Epoch 17/20\n",
      "2/2 [==============================] - 132s 69s/step - discriminator_loss: 0.6349 - generator_loss: 0.7646\n",
      "Epoch 18/20\n",
      "2/2 [==============================] - 191s 120s/step - discriminator_loss: 0.6304 - generator_loss: 0.7732\n",
      "Epoch 19/20\n",
      "2/2 [==============================] - 48s 21s/step - discriminator_loss: 0.6221 - generator_loss: 0.7829\n",
      "Epoch 20/20\n",
      "2/2 [==============================] - 57s 29s/step - discriminator_loss: 0.6162 - generator_loss: 0.7941\n"
     ]
    }
   ],
   "source": [
    "# Recommend 2000 epochs\n",
    "#hist = weatherGan.fit(train, batch_size=8, epochs=20)\n",
    "hist = weatherGan.fit(train, batch_size=2, epochs=20, callbacks=[ModelMonitor()])"
   ]
  }
 ],
 "metadata": {
  "kernelspec": {
   "display_name": "Python 3",
   "language": "python",
   "name": "python3"
  },
  "language_info": {
   "codemirror_mode": {
    "name": "ipython",
    "version": 3
   },
   "file_extension": ".py",
   "mimetype": "text/x-python",
   "name": "python",
   "nbconvert_exporter": "python",
   "pygments_lexer": "ipython3",
   "version": "3.7.16"
  },
  "orig_nbformat": 4
 },
 "nbformat": 4,
 "nbformat_minor": 2
}
