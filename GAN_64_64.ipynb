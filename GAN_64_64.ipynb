{
 "cells": [
  {
   "cell_type": "code",
   "execution_count": 1,
   "metadata": {},
   "outputs": [],
   "source": [
    "from torch.utils.data import Dataset, DataLoader\n",
    "from torchvision import datasets\n",
    "from torchvision import transforms\n",
    "from torchvision.io import read_image\n",
    "import tensorflow as tf\n",
    "import numpy as np\n",
    "import os\n",
    "import pandas as pd #資料處理\n",
    "import torch\n",
    "import matplotlib.pyplot as plt\n",
    "from PIL import Image\n",
    "\n",
    "# 設定dataset路徑\n",
    "project_path = r\"D:\\NTUT\\Weather_AI\\self-project\\GAN\\weather-GAN\"\n",
    "train_data_path = str(project_path + r\"\\train_data\")\n",
    "output_data_path = str(project_path + r\"output_data\")\n"
   ]
  },
  {
   "cell_type": "code",
   "execution_count": 2,
   "metadata": {},
   "outputs": [
    {
     "name": "stdout",
     "output_type": "stream",
     "text": [
      "[name: \"/device:CPU:0\"\n",
      "device_type: \"CPU\"\n",
      "memory_limit: 268435456\n",
      "locality {\n",
      "}\n",
      "incarnation: 10818737941196378014\n",
      "xla_global_id: -1\n",
      ", name: \"/device:GPU:0\"\n",
      "device_type: \"GPU\"\n",
      "memory_limit: 5748293632\n",
      "locality {\n",
      "  bus_id: 1\n",
      "  links {\n",
      "  }\n",
      "}\n",
      "incarnation: 2168900686485008454\n",
      "physical_device_desc: \"device: 0, name: NVIDIA GeForce RTX 3060 Ti, pci bus id: 0000:01:00.0, compute capability: 8.6\"\n",
      "xla_global_id: 416903419\n",
      "]\n"
     ]
    }
   ],
   "source": [
    "from tensorflow.python.client import device_lib\n",
    "print(device_lib.list_local_devices())"
   ]
  },
  {
   "cell_type": "code",
   "execution_count": 3,
   "metadata": {},
   "outputs": [],
   "source": [
    "# Setup GPU\n",
    "gpus = tf.config.list_physical_devices('GPU')\n",
    "for gpu in gpus :\n",
    "    tf.config.experimental.set_memory_growth(gpu, True)"
   ]
  },
  {
   "cell_type": "code",
   "execution_count": 4,
   "metadata": {},
   "outputs": [
    {
     "name": "stdout",
     "output_type": "stream",
     "text": [
      "PhysicalDevice(name='/physical_device:GPU:0', device_type='GPU')\n"
     ]
    }
   ],
   "source": [
    "for gpu in gpus :\n",
    "    print(gpu)"
   ]
  },
  {
   "cell_type": "code",
   "execution_count": 5,
   "metadata": {},
   "outputs": [
    {
     "name": "stdout",
     "output_type": "stream",
     "text": [
      "Num GPUs Available:  1\n"
     ]
    }
   ],
   "source": [
    "print(\"Num GPUs Available: \", len(tf.config.list_physical_devices('GPU')))"
   ]
  },
  {
   "cell_type": "code",
   "execution_count": 6,
   "metadata": {},
   "outputs": [
    {
     "name": "stdout",
     "output_type": "stream",
     "text": [
      "torch.Size([10, 3, 64, 64])\n"
     ]
    }
   ],
   "source": [
    "transform = transforms.Compose([\n",
    "    transforms.ToTensor(),\n",
    "    transforms.Resize((64, 64)),\n",
    "    transforms.Normalize((0.5, 0.5, 0.5), (0.5, 0.5, 0.5))\n",
    "])\n",
    "class My_Dataset(Dataset) :\n",
    "    def __init__(self, path, transform=None) :\n",
    "        super().__init__()\n",
    "        self.image_files = os.listdir(path)\n",
    "        self.list_files = []\n",
    "        for file in self.image_files :\n",
    "            self.list_files.append(os.path.join(path, file))\n",
    "\n",
    "    # Indicate the total size of the dataset\n",
    "    def __len__(self) :\n",
    "        return len(self.image_files)\n",
    "    \n",
    "    # 1. Read from file (using numpy.fromfile, PIL.Image.open)\n",
    "    # 2. Preprocess the data (torchvision.Transform).\n",
    "    # 3. Return the data (e.g. image and label)\n",
    "    def __getitem__(self, index) :\n",
    "        image = Image.open(self.list_files[index]).convert('RGB')\n",
    "        if transform is None :\n",
    "            return image\n",
    "        else :\n",
    "            image = transform(image)\n",
    "            return image\n",
    "\n",
    "#讀取圖片，一次四張\n",
    "if __name__ == '__main__' :\n",
    "    #path_image = r\"D:\\NTUT\\Weather_AI\\self-project\\GAN\\weather-GAN\\train_data\"\n",
    "    path_image = train_data_path\n",
    "    train_data = My_Dataset(path_image, transform=transform)\n",
    "    train_dataloader = DataLoader(train_data, batch_size=10, shuffle=True)\n",
    "    for image in train_dataloader :\n",
    "        print(image.shape)\n",
    "        #4(張), 3(RGB三通道), 3600(長), 3600(寬)縮成256*256\n",
    "        break"
   ]
  },
  {
   "cell_type": "code",
   "execution_count": 7,
   "metadata": {},
   "outputs": [],
   "source": [
    "# 切割資料集\n",
    "from sklearn.model_selection import train_test_split\n",
    "\n",
    "train, test = train_test_split(image, test_size = 0.2, random_state = 42)"
   ]
  },
  {
   "cell_type": "code",
   "execution_count": 8,
   "metadata": {},
   "outputs": [
    {
     "data": {
      "text/plain": [
       "((8, 3, 64, 64), (2, 3, 64, 64))"
      ]
     },
     "execution_count": 8,
     "metadata": {},
     "output_type": "execute_result"
    }
   ],
   "source": [
    "train = np.array(train)\n",
    "test = np.array(test)\n",
    "\n",
    "train.shape, test.shape"
   ]
  },
  {
   "cell_type": "code",
   "execution_count": 9,
   "metadata": {},
   "outputs": [
    {
     "name": "stderr",
     "output_type": "stream",
     "text": [
      "Clipping input data to the valid range for imshow with RGB data ([0..1] for floats or [0..255] for integers).\n"
     ]
    },
    {
     "data": {
      "image/png": "[encoded data removed]",
      "text/plain": [
       "<Figure size 640x480 with 1 Axes>"
      ]
     },
     "metadata": {},
     "output_type": "display_data"
    }
   ],
   "source": [
    "\n",
    "plt.imshow(np.transpose(test[0], (1, 2, 0)))\n",
    "plt.axis('off')\n",
    "plt.show()"
   ]
  },
  {
   "cell_type": "code",
   "execution_count": 10,
   "metadata": {},
   "outputs": [
    {
     "name": "stderr",
     "output_type": "stream",
     "text": [
      "Clipping input data to the valid range for imshow with RGB data ([0..1] for floats or [0..255] for integers).\n"
     ]
    },
    {
     "data": {
      "image/png": "[encoded data removed]",
      "text/plain": [
       "<Figure size 640x480 with 1 Axes>"
      ]
     },
     "metadata": {},
     "output_type": "display_data"
    },
    {
     "name": "stderr",
     "output_type": "stream",
     "text": [
      "Clipping input data to the valid range for imshow with RGB data ([0..1] for floats or [0..255] for integers).\n"
     ]
    },
    {
     "data": {
      "image/png": "[encoded data removed]",
      "text/plain": [
       "<Figure size 640x480 with 1 Axes>"
      ]
     },
     "metadata": {},
     "output_type": "display_data"
    },
    {
     "name": "stderr",
     "output_type": "stream",
     "text": [
      "Clipping input data to the valid range for imshow with RGB data ([0..1] for floats or [0..255] for integers).\n"
     ]
    },
    {
     "data": {
      "image/png": "[encoded data removed]",
      "text/plain": [
       "<Figure size 640x480 with 1 Axes>"
      ]
     },
     "metadata": {},
     "output_type": "display_data"
    },
    {
     "name": "stderr",
     "output_type": "stream",
     "text": [
      "Clipping input data to the valid range for imshow with RGB data ([0..1] for floats or [0..255] for integers).\n"
     ]
    },
    {
     "data": {
      "image/png": "[encoded data removed]",
      "text/plain": [
       "<Figure size 640x480 with 1 Axes>"
      ]
     },
     "metadata": {},
     "output_type": "display_data"
    },
    {
     "name": "stderr",
     "output_type": "stream",
     "text": [
      "Clipping input data to the valid range for imshow with RGB data ([0..1] for floats or [0..255] for integers).\n"
     ]
    },
    {
     "data": {
      "image/png": "[encoded data removed]",
      "text/plain": [
       "<Figure size 640x480 with 1 Axes>"
      ]
     },
     "metadata": {},
     "output_type": "display_data"
    },
    {
     "name": "stderr",
     "output_type": "stream",
     "text": [
      "Clipping input data to the valid range for imshow with RGB data ([0..1] for floats or [0..255] for integers).\n"
     ]
    },
    {
     "data": {
      "image/png": "[encoded data removed]",
      "text/plain": [
       "<Figure size 640x480 with 1 Axes>"
      ]
     },
     "metadata": {},
     "output_type": "display_data"
    },
    {
     "name": "stderr",
     "output_type": "stream",
     "text": [
      "Clipping input data to the valid range for imshow with RGB data ([0..1] for floats or [0..255] for integers).\n"
     ]
    },
    {
     "data": {
      "image/png": "[encoded data removed]",
      "text/plain": [
       "<Figure size 640x480 with 1 Axes>"
      ]
     },
     "metadata": {},
     "output_type": "display_data"
    },
    {
     "name": "stderr",
     "output_type": "stream",
     "text": [
      "Clipping input data to the valid range for imshow with RGB data ([0..1] for floats or [0..255] for integers).\n"
     ]
    },
    {
     "data": {
      "image/png": "[encoded data removed]",
      "text/plain": [
       "<Figure size 640x480 with 1 Axes>"
      ]
     },
     "metadata": {},
     "output_type": "display_data"
    }
   ],
   "source": [
    "for i in range(len(train)) :\n",
    "    plt.imshow(np.transpose(train[i], (1, 2, 0)))\n",
    "    plt.axis('off')\n",
    "    plt.show()"
   ]
  },
  {
   "cell_type": "code",
   "execution_count": 11,
   "metadata": {},
   "outputs": [
    {
     "name": "stdout",
     "output_type": "stream",
     "text": [
      "[[[[-1.         -1.         -1.         ... -1.         -1.\n",
      "    -1.        ]\n",
      "   [-1.         -1.         -1.         ... -1.         -1.\n",
      "    -1.        ]\n",
      "   [-1.         -1.         -1.         ... -1.         -1.\n",
      "    -1.        ]\n",
      "   ...\n",
      "   [-1.         -1.         -1.         ... -1.         -1.\n",
      "    -1.        ]\n",
      "   [-1.         -1.         -1.         ... -1.         -1.\n",
      "    -1.        ]\n",
      "   [-1.         -1.         -1.         ... -1.         -1.\n",
      "    -1.        ]]\n",
      "\n",
      "  [[-1.         -1.         -1.         ...  0.9892156  -1.\n",
      "    -1.        ]\n",
      "   [-1.         -1.         -1.         ...  1.          0.654902\n",
      "    -1.        ]\n",
      "   [-1.         -1.         -1.         ...  0.761397    0.43137252\n",
      "     0.74117637]\n",
      "   ...\n",
      "   [-1.         -1.         -1.         ... -1.         -1.\n",
      "    -1.        ]\n",
      "   [-1.         -1.         -1.         ... -1.         -1.\n",
      "    -1.        ]\n",
      "   [-1.         -1.         -1.         ... -1.         -1.\n",
      "    -1.        ]]\n",
      "\n",
      "  [[-1.         -1.         -1.         ... -1.         -1.\n",
      "    -1.        ]\n",
      "   [-1.         -1.         -1.         ... -1.         -1.\n",
      "    -1.        ]\n",
      "   [-1.         -1.         -1.         ... -1.         -1.\n",
      "    -1.        ]\n",
      "   ...\n",
      "   [-1.         -1.         -1.         ... -1.         -1.\n",
      "    -1.        ]\n",
      "   [-1.         -1.         -1.         ... -1.         -1.\n",
      "    -1.        ]\n",
      "   [-1.         -1.         -1.         ... -1.         -1.\n",
      "    -1.        ]]]\n",
      "\n",
      "\n",
      " [[[-1.         -1.         -1.         ... -1.         -1.\n",
      "    -1.        ]\n",
      "   [-1.         -1.         -1.         ... -1.         -1.\n",
      "    -1.        ]\n",
      "   [-1.         -1.         -1.         ... -1.          0.75\n",
      "    -1.        ]\n",
      "   ...\n",
      "   [-1.         -1.         -1.         ... -1.         -1.\n",
      "    -1.        ]\n",
      "   [-1.         -1.         -1.         ... -1.         -1.\n",
      "    -1.        ]\n",
      "   [-1.         -1.         -1.         ... -1.         -1.\n",
      "    -1.        ]]\n",
      "\n",
      "  [[-1.         -1.         -1.         ...  0.97843134 -1.\n",
      "    -1.        ]\n",
      "   [-1.         -1.         -1.         ...  0.33333337  0.33333337\n",
      "     0.827451  ]\n",
      "   [-1.         -1.         -1.         ...  0.32193625  0.90686274\n",
      "     0.40196073]\n",
      "   ...\n",
      "   [-1.         -1.         -1.         ... -1.         -1.\n",
      "    -1.        ]\n",
      "   [-1.         -1.         -1.         ... -1.         -1.\n",
      "    -1.        ]\n",
      "   [-1.         -1.         -1.         ... -1.         -1.\n",
      "    -1.        ]]\n",
      "\n",
      "  [[-1.         -1.         -1.         ... -1.         -1.\n",
      "    -1.        ]\n",
      "   [-1.         -1.         -1.         ... -1.         -1.\n",
      "    -1.        ]\n",
      "   [-1.         -1.         -1.         ... -1.         -1.\n",
      "    -1.        ]\n",
      "   ...\n",
      "   [-1.         -1.         -1.         ... -1.         -1.\n",
      "    -1.        ]\n",
      "   [-1.         -1.         -1.         ... -1.         -1.\n",
      "    -1.        ]\n",
      "   [-1.         -1.         -1.         ... -1.         -1.\n",
      "    -1.        ]]]\n",
      "\n",
      "\n",
      " [[[-1.         -1.         -1.         ... -1.         -1.\n",
      "    -1.        ]\n",
      "   [-1.         -1.         -1.         ... -1.         -1.\n",
      "    -1.        ]\n",
      "   [-1.         -1.         -1.         ... -1.         -1.\n",
      "    -1.        ]\n",
      "   ...\n",
      "   [-1.         -1.         -1.         ... -1.         -1.\n",
      "    -1.        ]\n",
      "   [-1.         -1.         -1.         ... -1.         -1.\n",
      "    -1.        ]\n",
      "   [-1.         -1.         -1.         ... -1.         -1.\n",
      "    -1.        ]]\n",
      "\n",
      "  [[-1.         -1.         -1.         ...  0.9029411  -1.\n",
      "    -1.        ]\n",
      "   [-1.         -1.         -1.         ...  0.9137255   0.41176474\n",
      "     0.5686275 ]\n",
      "   [-1.         -1.         -1.         ...  0.5601716   0.8166667\n",
      "     0.43137252]\n",
      "   ...\n",
      "   [-1.         -1.         -1.         ... -1.         -1.\n",
      "    -1.        ]\n",
      "   [-1.         -1.         -1.         ... -1.         -1.\n",
      "    -1.        ]\n",
      "   [-1.         -1.         -1.         ... -1.         -1.\n",
      "    -1.        ]]\n",
      "\n",
      "  [[-1.         -1.         -1.         ... -1.          1.\n",
      "    -1.        ]\n",
      "   [-1.         -1.         -1.         ... -1.         -1.\n",
      "    -1.        ]\n",
      "   [-1.         -1.         -1.         ... -1.         -1.\n",
      "    -1.        ]\n",
      "   ...\n",
      "   [-1.         -1.         -1.         ... -1.         -1.\n",
      "    -1.        ]\n",
      "   [-1.         -1.         -1.         ... -1.         -1.\n",
      "    -1.        ]\n",
      "   [-1.         -1.         -1.         ... -1.         -1.\n",
      "    -1.        ]]]\n",
      "\n",
      "\n",
      " ...\n",
      "\n",
      "\n",
      " [[[-1.         -1.         -1.         ... -1.         -1.\n",
      "    -1.        ]\n",
      "   [-1.         -1.         -1.         ... -1.         -1.\n",
      "    -1.        ]\n",
      "   [-1.         -1.         -1.         ... -1.         -1.\n",
      "    -1.        ]\n",
      "   ...\n",
      "   [-1.         -1.         -1.         ... -1.         -1.\n",
      "    -1.        ]\n",
      "   [-1.         -1.         -1.         ... -1.         -1.\n",
      "    -1.        ]\n",
      "   [-1.         -1.         -1.         ... -1.         -1.\n",
      "    -1.        ]]\n",
      "\n",
      "  [[-1.         -1.         -1.         ... -1.         -1.\n",
      "    -1.        ]\n",
      "   [-1.         -1.         -1.         ... -1.         -1.\n",
      "    -1.        ]\n",
      "   [-1.         -1.         -1.         ... -1.         -1.\n",
      "    -1.        ]\n",
      "   ...\n",
      "   [-1.         -1.         -1.         ... -1.         -1.\n",
      "    -1.        ]\n",
      "   [-1.         -1.         -1.         ... -1.         -1.\n",
      "    -1.        ]\n",
      "   [-1.         -1.         -1.         ... -1.         -1.\n",
      "    -1.        ]]\n",
      "\n",
      "  [[-1.         -1.         -1.         ... -1.         -1.\n",
      "    -1.        ]\n",
      "   [-1.         -1.         -1.         ... -1.         -1.\n",
      "    -1.        ]\n",
      "   [-1.         -1.         -1.         ... -1.         -1.\n",
      "    -1.        ]\n",
      "   ...\n",
      "   [-1.         -1.         -1.         ... -1.         -1.\n",
      "    -1.        ]\n",
      "   [-1.         -1.         -1.         ... -1.         -1.\n",
      "    -1.        ]\n",
      "   [-1.         -1.         -1.         ... -1.         -1.\n",
      "    -1.        ]]]\n",
      "\n",
      "\n",
      " [[[-1.         -1.         -1.         ... -1.         -1.\n",
      "    -1.        ]\n",
      "   [-1.         -1.         -1.         ... -1.         -1.\n",
      "    -1.        ]\n",
      "   [-1.         -1.         -1.         ... -1.         -1.\n",
      "    -1.        ]\n",
      "   ...\n",
      "   [-1.         -1.         -1.         ... -1.         -1.\n",
      "    -1.        ]\n",
      "   [-1.         -1.         -1.         ... -1.         -1.\n",
      "    -1.        ]\n",
      "   [-1.         -1.         -1.         ... -1.         -1.\n",
      "    -1.        ]]\n",
      "\n",
      "  [[-1.         -1.         -1.         ... -1.         -1.\n",
      "    -1.        ]\n",
      "   [-1.         -1.         -1.         ... -1.         -1.\n",
      "    -1.        ]\n",
      "   [-1.         -1.         -1.         ... -0.02120095 -1.\n",
      "    -1.        ]\n",
      "   ...\n",
      "   [-1.         -1.         -1.         ... -1.         -1.\n",
      "    -1.        ]\n",
      "   [-1.         -1.         -1.         ... -1.         -1.\n",
      "    -1.        ]\n",
      "   [-1.         -1.         -1.         ... -1.         -1.\n",
      "    -1.        ]]\n",
      "\n",
      "  [[-1.         -1.         -1.         ... -1.         -1.\n",
      "    -1.        ]\n",
      "   [-1.         -1.         -1.         ... -1.         -1.\n",
      "    -1.        ]\n",
      "   [-1.         -1.         -1.         ...  0.78125    -1.\n",
      "    -1.        ]\n",
      "   ...\n",
      "   [-1.         -1.         -1.         ... -1.         -1.\n",
      "    -1.        ]\n",
      "   [-1.         -1.         -1.         ... -1.         -1.\n",
      "    -1.        ]\n",
      "   [-1.         -1.         -1.         ... -1.         -1.\n",
      "    -1.        ]]]\n",
      "\n",
      "\n",
      " [[[-1.         -1.         -1.         ... -1.         -1.\n",
      "    -1.        ]\n",
      "   [-1.         -1.         -1.         ... -1.         -1.\n",
      "    -1.        ]\n",
      "   [-1.         -1.         -1.         ... -1.         -1.\n",
      "    -1.        ]\n",
      "   ...\n",
      "   [-1.         -1.         -1.         ... -1.         -1.\n",
      "    -1.        ]\n",
      "   [-1.         -1.         -1.         ... -1.         -1.\n",
      "    -1.        ]\n",
      "   [-1.         -1.         -1.         ... -1.         -1.\n",
      "    -1.        ]]\n",
      "\n",
      "  [[-1.         -1.         -1.         ... -1.         -1.\n",
      "    -1.        ]\n",
      "   [-1.         -1.         -1.         ... -1.         -1.\n",
      "    -1.        ]\n",
      "   [-1.         -1.         -1.         ... -1.         -0.9647059\n",
      "    -1.        ]\n",
      "   ...\n",
      "   [-1.         -1.         -1.         ... -1.         -1.\n",
      "    -1.        ]\n",
      "   [-1.         -1.         -1.         ... -1.         -1.\n",
      "    -1.        ]\n",
      "   [-1.         -1.         -1.         ... -1.         -1.\n",
      "    -1.        ]]\n",
      "\n",
      "  [[-1.         -1.         -1.         ... -1.         -1.\n",
      "    -1.        ]\n",
      "   [-1.         -1.         -1.         ... -1.         -1.\n",
      "    -1.        ]\n",
      "   [-1.         -1.         -1.         ... -1.         -0.75\n",
      "    -1.        ]\n",
      "   ...\n",
      "   [-1.         -1.         -1.         ... -1.         -1.\n",
      "    -1.        ]\n",
      "   [-1.         -1.         -1.         ... -1.         -1.\n",
      "    -1.        ]\n",
      "   [-1.         -1.         -1.         ... -1.         -1.\n",
      "    -1.        ]]]]\n"
     ]
    }
   ],
   "source": [
    "print(train)"
   ]
  },
  {
   "cell_type": "code",
   "execution_count": 12,
   "metadata": {},
   "outputs": [
    {
     "data": {
      "text/plain": [
       "b'train_data\\\\08_06_44.png'"
      ]
     },
     "execution_count": 12,
     "metadata": {},
     "output_type": "execute_result"
    }
   ],
   "source": [
    "# 把所有圖片建立成一個Dataset--weather_dataset\n",
    "weather_dataset = tf.data.Dataset.list_files(\"train_data/*.png\")\n",
    "# weather_dataset = np.array(weather_dataset)\n",
    "# weather_dataset.shape\n",
    "data_iterator = weather_dataset.as_numpy_iterator()\n",
    "data_iterator.next()"
   ]
  },
  {
   "cell_type": "markdown",
   "metadata": {},
   "source": [
    "Build Nerual Network"
   ]
  },
  {
   "cell_type": "code",
   "execution_count": 13,
   "metadata": {},
   "outputs": [],
   "source": [
    "# Bring in the sequential api for the generator and discriminator\n",
    "from tensorflow.keras.models import Sequential\n",
    "# Bring in the layers for the NN\n",
    "from tensorflow.keras.layers import Conv2D, Dense, Flatten, Reshape, LeakyReLU, Dropout, UpSampling2D\n"
   ]
  },
  {
   "cell_type": "markdown",
   "metadata": {},
   "source": [
    "Build generator"
   ]
  },
  {
   "cell_type": "code",
   "execution_count": 14,
   "metadata": {},
   "outputs": [],
   "source": [
    "def build_generator() :\n",
    "    model = Sequential()\n",
    "\n",
    "    # Beginnings of a generated image\n",
    "    model.add(Dense(8*8*128, input_dim = 128))\n",
    "    model.add(LeakyReLU(0.2))\n",
    "    model.add(Reshape((8, 8, 128)))\n",
    "\n",
    "    # Upsampling block 1\n",
    "    model.add(UpSampling2D())\n",
    "    model.add(Conv2D(128, 5, padding = 'same'))\n",
    "    model.add(LeakyReLU(0.2))\n",
    "\n",
    "    # Upsampling block 2\n",
    "    model.add(UpSampling2D())\n",
    "    model.add(Conv2D(128, 5, padding = 'same'))\n",
    "    model.add(LeakyReLU(0.2))\n",
    "\n",
    "    # Upsampling block 3\n",
    "    model.add(UpSampling2D())\n",
    "    model.add(Conv2D(128, 5, padding = 'same'))\n",
    "    model.add(LeakyReLU(0.2))\n",
    "\n",
    "    # # Upsampling block 4\n",
    "    # model.add(UpSampling2D())\n",
    "    # model.add(Conv2D(128, 5, padding = 'same'))\n",
    "    # model.add(LeakyReLU(0.2))\n",
    "\n",
    "    # # Upsampling block 5\n",
    "    # model.add(UpSampling2D())\n",
    "    # model.add(Conv2D(128, 5, padding = 'same'))\n",
    "    # model.add(LeakyReLU(0.2))\n",
    "\n",
    "    # Convolution block 1\n",
    "    model.add(Conv2D(128, 4, padding = 'same'))\n",
    "    model.add(LeakyReLU(0.2))\n",
    "\n",
    "    # Convolution block 2\n",
    "    model.add(Conv2D(128, 4, padding = 'same'))\n",
    "    model.add(LeakyReLU(0.2))\n",
    "\n",
    "    #Conv layer to get to three channel, because R,G,B\n",
    "    model.add(Conv2D(3, 4, padding = 'same', activation = 'sigmoid'))\n",
    "\n",
    "    return model"
   ]
  },
  {
   "cell_type": "code",
   "execution_count": 15,
   "metadata": {},
   "outputs": [
    {
     "name": "stdout",
     "output_type": "stream",
     "text": [
      "Model: \"sequential\"\n",
      "_________________________________________________________________\n",
      " Layer (type)                Output Shape              Param #   \n",
      "=================================================================\n",
      " dense (Dense)               (None, 8192)              1056768   \n",
      "                                                                 \n",
      " leaky_re_lu (LeakyReLU)     (None, 8192)              0         \n",
      "                                                                 \n",
      " reshape (Reshape)           (None, 8, 8, 128)         0         \n",
      "                                                                 \n",
      " up_sampling2d (UpSampling2D  (None, 16, 16, 128)      0         \n",
      " )                                                               \n",
      "                                                                 \n",
      " conv2d (Conv2D)             (None, 16, 16, 128)       409728    \n",
      "                                                                 \n",
      " leaky_re_lu_1 (LeakyReLU)   (None, 16, 16, 128)       0         \n",
      "                                                                 \n",
      " up_sampling2d_1 (UpSampling  (None, 32, 32, 128)      0         \n",
      " 2D)                                                             \n",
      "                                                                 \n",
      " conv2d_1 (Conv2D)           (None, 32, 32, 128)       409728    \n",
      "                                                                 \n",
      " leaky_re_lu_2 (LeakyReLU)   (None, 32, 32, 128)       0         \n",
      "                                                                 \n",
      " up_sampling2d_2 (UpSampling  (None, 64, 64, 128)      0         \n",
      " 2D)                                                             \n",
      "                                                                 \n",
      " conv2d_2 (Conv2D)           (None, 64, 64, 128)       409728    \n",
      "                                                                 \n",
      " leaky_re_lu_3 (LeakyReLU)   (None, 64, 64, 128)       0         \n",
      "                                                                 \n",
      " conv2d_3 (Conv2D)           (None, 64, 64, 128)       262272    \n",
      "                                                                 \n",
      " leaky_re_lu_4 (LeakyReLU)   (None, 64, 64, 128)       0         \n",
      "                                                                 \n",
      " conv2d_4 (Conv2D)           (None, 64, 64, 128)       262272    \n",
      "                                                                 \n",
      " leaky_re_lu_5 (LeakyReLU)   (None, 64, 64, 128)       0         \n",
      "                                                                 \n",
      " conv2d_5 (Conv2D)           (None, 64, 64, 3)         6147      \n",
      "                                                                 \n",
      "=================================================================\n",
      "Total params: 2,816,643\n",
      "Trainable params: 2,816,643\n",
      "Non-trainable params: 0\n",
      "_________________________________________________________________\n"
     ]
    }
   ],
   "source": [
    "generator = build_generator()\n",
    "generator.summary()"
   ]
  },
  {
   "cell_type": "code",
   "execution_count": 16,
   "metadata": {},
   "outputs": [
    {
     "name": "stdout",
     "output_type": "stream",
     "text": [
      "1/1 [==============================] - 6s 6s/step\n"
     ]
    },
    {
     "data": {
      "text/plain": [
       "array([[[[0.49830323, 0.5019061 , 0.5025879 ],\n",
       "         [0.49951577, 0.5036308 , 0.5016715 ],\n",
       "         [0.50271237, 0.5041533 , 0.5017859 ],\n",
       "         ...,\n",
       "         [0.5028996 , 0.49990645, 0.49933654],\n",
       "         [0.5012671 , 0.5011315 , 0.5014554 ],\n",
       "         [0.50146675, 0.49962404, 0.5011763 ]],\n",
       "\n",
       "        [[0.4967941 , 0.5011988 , 0.5030851 ],\n",
       "         [0.49941108, 0.50627947, 0.50523865],\n",
       "         [0.50319445, 0.50562453, 0.502272  ],\n",
       "         ...,\n",
       "         [0.5038187 , 0.5011405 , 0.49905005],\n",
       "         [0.50072664, 0.5003614 , 0.50288695],\n",
       "         [0.5016787 , 0.49885014, 0.5004355 ]],\n",
       "\n",
       "        [[0.49641106, 0.49990872, 0.50047815],\n",
       "         [0.4977361 , 0.5049169 , 0.50312215],\n",
       "         [0.50200576, 0.5060365 , 0.50259984],\n",
       "         ...,\n",
       "         [0.50377727, 0.50132895, 0.49961615],\n",
       "         [0.50161374, 0.50131476, 0.50309443],\n",
       "         [0.50378007, 0.4988475 , 0.500627  ]],\n",
       "\n",
       "        ...,\n",
       "\n",
       "        [[0.49653423, 0.5012865 , 0.49921095],\n",
       "         [0.49547705, 0.5010128 , 0.49976563],\n",
       "         [0.49688834, 0.5036317 , 0.4986259 ],\n",
       "         ...,\n",
       "         [0.4956712 , 0.5042513 , 0.500362  ],\n",
       "         [0.49952605, 0.5020899 , 0.501146  ],\n",
       "         [0.4999622 , 0.50062376, 0.5017447 ]],\n",
       "\n",
       "        [[0.4969452 , 0.5007339 , 0.49904352],\n",
       "         [0.49707726, 0.5013866 , 0.49863747],\n",
       "         [0.4985872 , 0.5024825 , 0.49883768],\n",
       "         ...,\n",
       "         [0.49678028, 0.50176847, 0.49820307],\n",
       "         [0.4981961 , 0.5002912 , 0.49847433],\n",
       "         [0.49855343, 0.5006055 , 0.500176  ]],\n",
       "\n",
       "        [[0.4977606 , 0.49944907, 0.4992999 ],\n",
       "         [0.4973327 , 0.50098836, 0.4984937 ],\n",
       "         [0.4960247 , 0.50118065, 0.49907297],\n",
       "         ...,\n",
       "         [0.49815822, 0.50160706, 0.49959263],\n",
       "         [0.4990118 , 0.5005436 , 0.4986776 ],\n",
       "         [0.49986258, 0.49998856, 0.5001636 ]]],\n",
       "\n",
       "\n",
       "       [[[0.50087094, 0.5028445 , 0.501568  ],\n",
       "         [0.50015146, 0.50167763, 0.5021039 ],\n",
       "         [0.4997424 , 0.4989127 , 0.5034606 ],\n",
       "         ...,\n",
       "         [0.5007908 , 0.5013766 , 0.4987818 ],\n",
       "         [0.49959907, 0.5012623 , 0.5011612 ],\n",
       "         [0.50055104, 0.4998655 , 0.5008856 ]],\n",
       "\n",
       "        [[0.50187707, 0.50026983, 0.5009187 ],\n",
       "         [0.50263035, 0.5016494 , 0.5019176 ],\n",
       "         [0.5049101 , 0.49933726, 0.5036373 ],\n",
       "         ...,\n",
       "         [0.50160617, 0.50257266, 0.49845994],\n",
       "         [0.5022653 , 0.5008205 , 0.50155056],\n",
       "         [0.5021107 , 0.4979477 , 0.5008393 ]],\n",
       "\n",
       "        [[0.50098395, 0.49919295, 0.5014166 ],\n",
       "         [0.5024262 , 0.5015702 , 0.5023654 ],\n",
       "         [0.50423855, 0.49986282, 0.5052196 ],\n",
       "         ...,\n",
       "         [0.50444186, 0.50360125, 0.50278574],\n",
       "         [0.5036851 , 0.5000451 , 0.503183  ],\n",
       "         [0.5027428 , 0.49751475, 0.50323325]],\n",
       "\n",
       "        ...,\n",
       "\n",
       "        [[0.49839407, 0.499506  , 0.5020488 ],\n",
       "         [0.4999224 , 0.49943012, 0.5007189 ],\n",
       "         [0.5006922 , 0.50032115, 0.50170624],\n",
       "         ...,\n",
       "         [0.4997287 , 0.5009931 , 0.50061065],\n",
       "         [0.50085837, 0.50011086, 0.5006623 ],\n",
       "         [0.4998451 , 0.5002921 , 0.5000239 ]],\n",
       "\n",
       "        [[0.49864796, 0.4998302 , 0.4991929 ],\n",
       "         [0.49996102, 0.49950036, 0.4981325 ],\n",
       "         [0.49945807, 0.499543  , 0.5006274 ],\n",
       "         ...,\n",
       "         [0.5002391 , 0.5003121 , 0.49949244],\n",
       "         [0.5005335 , 0.4991624 , 0.49923494],\n",
       "         [0.4995504 , 0.49984902, 0.49915624]],\n",
       "\n",
       "        [[0.50043905, 0.49876466, 0.49952653],\n",
       "         [0.50084436, 0.50011826, 0.49793267],\n",
       "         [0.49986866, 0.499855  , 0.49807233],\n",
       "         ...,\n",
       "         [0.49842733, 0.50105333, 0.499771  ],\n",
       "         [0.49911568, 0.5003501 , 0.49988177],\n",
       "         [0.49910754, 0.5000156 , 0.5001377 ]]],\n",
       "\n",
       "\n",
       "       [[[0.49491563, 0.50376725, 0.5009945 ],\n",
       "         [0.49817443, 0.5040646 , 0.5038404 ],\n",
       "         [0.5011256 , 0.50507575, 0.5042564 ],\n",
       "         ...,\n",
       "         [0.5009719 , 0.4988601 , 0.5026708 ],\n",
       "         [0.50156695, 0.49796194, 0.5030693 ],\n",
       "         [0.5015925 , 0.4997873 , 0.5015845 ]],\n",
       "\n",
       "        [[0.49819916, 0.5031724 , 0.4995811 ],\n",
       "         [0.49914572, 0.5036846 , 0.5027245 ],\n",
       "         [0.5003549 , 0.5012734 , 0.5017874 ],\n",
       "         ...,\n",
       "         [0.49964988, 0.49836978, 0.5031654 ],\n",
       "         [0.5012924 , 0.4991945 , 0.5027281 ],\n",
       "         [0.50085187, 0.49992108, 0.5010726 ]],\n",
       "\n",
       "        [[0.49880067, 0.5026979 , 0.50041634],\n",
       "         [0.49768263, 0.5028886 , 0.504366  ],\n",
       "         [0.4961779 , 0.5029078 , 0.501092  ],\n",
       "         ...,\n",
       "         [0.497996  , 0.4997299 , 0.50296366],\n",
       "         [0.49880284, 0.4985231 , 0.5016227 ],\n",
       "         [0.500496  , 0.49968657, 0.5012032 ]],\n",
       "\n",
       "        ...,\n",
       "\n",
       "        [[0.4960453 , 0.5002708 , 0.5019361 ],\n",
       "         [0.49559116, 0.50110245, 0.5013947 ],\n",
       "         [0.4976197 , 0.5026034 , 0.5010837 ],\n",
       "         ...,\n",
       "         [0.49922153, 0.50288403, 0.5027241 ],\n",
       "         [0.5014831 , 0.5010604 , 0.50206983],\n",
       "         [0.49979755, 0.49980208, 0.5028269 ]],\n",
       "\n",
       "        [[0.49657124, 0.4991194 , 0.50067246],\n",
       "         [0.4960921 , 0.49984032, 0.50002223],\n",
       "         [0.49632952, 0.50146705, 0.499467  ],\n",
       "         ...,\n",
       "         [0.5007301 , 0.5001787 , 0.5030294 ],\n",
       "         [0.5013924 , 0.49976814, 0.50191647],\n",
       "         [0.5004621 , 0.5000198 , 0.5023478 ]],\n",
       "\n",
       "        [[0.4997667 , 0.4986862 , 0.5009935 ],\n",
       "         [0.49979696, 0.49898902, 0.49893144],\n",
       "         [0.49946782, 0.49878144, 0.49862722],\n",
       "         ...,\n",
       "         [0.49995738, 0.50031245, 0.50048304],\n",
       "         [0.49964547, 0.49969894, 0.49936947],\n",
       "         [0.5000559 , 0.5000176 , 0.5009189 ]]],\n",
       "\n",
       "\n",
       "       [[[0.5005506 , 0.49992746, 0.50087506],\n",
       "         [0.5015158 , 0.5025897 , 0.5024962 ],\n",
       "         [0.50231063, 0.5017034 , 0.5040955 ],\n",
       "         ...,\n",
       "         [0.5030652 , 0.5002805 , 0.50102454],\n",
       "         [0.50023746, 0.500225  , 0.5007267 ],\n",
       "         [0.4998949 , 0.4995839 , 0.5008767 ]],\n",
       "\n",
       "        [[0.50100774, 0.5030966 , 0.50204444],\n",
       "         [0.5016729 , 0.5027107 , 0.50226945],\n",
       "         [0.50186014, 0.50018764, 0.50433993],\n",
       "         ...,\n",
       "         [0.50373113, 0.49793538, 0.49913532],\n",
       "         [0.49964863, 0.4973232 , 0.50009805],\n",
       "         [0.49920067, 0.49828157, 0.5004483 ]],\n",
       "\n",
       "        [[0.500855  , 0.50012493, 0.5026761 ],\n",
       "         [0.50113183, 0.50020134, 0.5034997 ],\n",
       "         [0.50251585, 0.4984053 , 0.50409   ],\n",
       "         ...,\n",
       "         [0.50294983, 0.4984816 , 0.4985642 ],\n",
       "         [0.49985495, 0.4982734 , 0.5009622 ],\n",
       "         [0.49973997, 0.49922284, 0.5012349 ]],\n",
       "\n",
       "        ...,\n",
       "\n",
       "        [[0.5004468 , 0.50317353, 0.49803615],\n",
       "         [0.49934044, 0.50281245, 0.49784118],\n",
       "         [0.4975282 , 0.5033297 , 0.4990764 ],\n",
       "         ...,\n",
       "         [0.5000552 , 0.49794945, 0.50086325],\n",
       "         [0.4999839 , 0.4988441 , 0.50053746],\n",
       "         [0.500115  , 0.49999332, 0.5006405 ]],\n",
       "\n",
       "        [[0.4992619 , 0.5007441 , 0.4984559 ],\n",
       "         [0.49946138, 0.50270706, 0.497174  ],\n",
       "         [0.49866533, 0.5015306 , 0.49676663],\n",
       "         ...,\n",
       "         [0.49970037, 0.4981585 , 0.50107515],\n",
       "         [0.5001822 , 0.49823612, 0.49975896],\n",
       "         [0.49983388, 0.4994822 , 0.50044924]],\n",
       "\n",
       "        [[0.49888134, 0.50037163, 0.5013956 ],\n",
       "         [0.49867293, 0.50055385, 0.50010544],\n",
       "         [0.49961376, 0.50112796, 0.4999255 ],\n",
       "         ...,\n",
       "         [0.4999845 , 0.4993911 , 0.49977848],\n",
       "         [0.50002545, 0.49913508, 0.49961   ],\n",
       "         [0.50023305, 0.49962774, 0.50063896]]]], dtype=float32)"
      ]
     },
     "execution_count": 16,
     "metadata": {},
     "output_type": "execute_result"
    }
   ],
   "source": [
    "img = generator.predict(np.random.randn(4, 128))\n",
    "img"
   ]
  },
  {
   "cell_type": "code",
   "execution_count": 17,
   "metadata": {},
   "outputs": [
    {
     "data": {
      "text/plain": [
       "(4, 64, 64, 3)"
      ]
     },
     "execution_count": 17,
     "metadata": {},
     "output_type": "execute_result"
    }
   ],
   "source": [
    "img.shape"
   ]
  },
  {
   "cell_type": "code",
   "execution_count": 18,
   "metadata": {},
   "outputs": [
    {
     "data": {
      "text/plain": [
       "4"
      ]
     },
     "execution_count": 18,
     "metadata": {},
     "output_type": "execute_result"
    }
   ],
   "source": [
    "len(img)"
   ]
  },
  {
   "cell_type": "code",
   "execution_count": 19,
   "metadata": {},
   "outputs": [],
   "source": [
    "# for i in range(len(img)) :\n",
    "#     plt.imshow(img[i])\n",
    "#     plt.axis('off')\n",
    "#     plt.show()"
   ]
  },
  {
   "cell_type": "markdown",
   "metadata": {},
   "source": [
    "Build Discriminator"
   ]
  },
  {
   "cell_type": "code",
   "execution_count": 20,
   "metadata": {},
   "outputs": [
    {
     "data": {
      "text/plain": [
       "(4, 64, 64, 3)"
      ]
     },
     "execution_count": 20,
     "metadata": {},
     "output_type": "execute_result"
    }
   ],
   "source": [
    "img.shape"
   ]
  },
  {
   "cell_type": "code",
   "execution_count": 21,
   "metadata": {},
   "outputs": [],
   "source": [
    "def build_discriminator() :\n",
    "    model = Sequential()\n",
    "    \n",
    "    # First Conv Block\n",
    "    model.add(Conv2D(32, 5, input_shape = (64, 64, 3)))\n",
    "    model.add(LeakyReLU(0.2))\n",
    "    # Dropout可以降低discriminator訓練的速度\n",
    "    model.add(Dropout(0.4))\n",
    "\n",
    "    # Second Conv Block\n",
    "    model.add(Conv2D(64, 5))\n",
    "    model.add(LeakyReLU(0.2))\n",
    "    model.add(Dropout(0.4))\n",
    "\n",
    "    # Third Conv Block\n",
    "    model.add(Conv2D(128, 5))\n",
    "    model.add(LeakyReLU(0.2))\n",
    "    model.add(Dropout(0.4))\n",
    "\n",
    "    # Fourth Conv Block\n",
    "    model.add(Conv2D(256, 5))\n",
    "    model.add(LeakyReLU(0.2))\n",
    "    model.add(Dropout(0.4))\n",
    "\n",
    "    # # Fifth Conv Block\n",
    "    # model.add(Conv2D(256, 5))\n",
    "    # model.add(LeakyReLU(0.2))\n",
    "    # model.add(Dropout(0.4))\n",
    "\n",
    "    # Flatten then pass to dense layer\n",
    "    model.add(Flatten())\n",
    "    model.add(Dropout(0.4))\n",
    "    model.add(Dense(1, activation = 'sigmoid'))\n",
    "\n",
    "\n",
    "    return model"
   ]
  },
  {
   "cell_type": "code",
   "execution_count": 22,
   "metadata": {},
   "outputs": [
    {
     "data": {
      "text/plain": [
       "(4, 64, 64, 3)"
      ]
     },
     "execution_count": 22,
     "metadata": {},
     "output_type": "execute_result"
    }
   ],
   "source": [
    "img.shape"
   ]
  },
  {
   "cell_type": "code",
   "execution_count": 23,
   "metadata": {},
   "outputs": [],
   "source": [
    "discriminator = build_discriminator()"
   ]
  },
  {
   "cell_type": "code",
   "execution_count": 24,
   "metadata": {},
   "outputs": [
    {
     "name": "stdout",
     "output_type": "stream",
     "text": [
      "Model: \"sequential_1\"\n",
      "_________________________________________________________________\n",
      " Layer (type)                Output Shape              Param #   \n",
      "=================================================================\n",
      " conv2d_6 (Conv2D)           (None, 60, 60, 32)        2432      \n",
      "                                                                 \n",
      " leaky_re_lu_6 (LeakyReLU)   (None, 60, 60, 32)        0         \n",
      "                                                                 \n",
      " dropout (Dropout)           (None, 60, 60, 32)        0         \n",
      "                                                                 \n",
      " conv2d_7 (Conv2D)           (None, 56, 56, 64)        51264     \n",
      "                                                                 \n",
      " leaky_re_lu_7 (LeakyReLU)   (None, 56, 56, 64)        0         \n",
      "                                                                 \n",
      " dropout_1 (Dropout)         (None, 56, 56, 64)        0         \n",
      "                                                                 \n",
      " conv2d_8 (Conv2D)           (None, 52, 52, 128)       204928    \n",
      "                                                                 \n",
      " leaky_re_lu_8 (LeakyReLU)   (None, 52, 52, 128)       0         \n",
      "                                                                 \n",
      " dropout_2 (Dropout)         (None, 52, 52, 128)       0         \n",
      "                                                                 \n",
      " conv2d_9 (Conv2D)           (None, 48, 48, 256)       819456    \n",
      "                                                                 \n",
      " leaky_re_lu_9 (LeakyReLU)   (None, 48, 48, 256)       0         \n",
      "                                                                 \n",
      " dropout_3 (Dropout)         (None, 48, 48, 256)       0         \n",
      "                                                                 \n",
      " flatten (Flatten)           (None, 589824)            0         \n",
      "                                                                 \n",
      " dropout_4 (Dropout)         (None, 589824)            0         \n",
      "                                                                 \n",
      " dense_1 (Dense)             (None, 1)                 589825    \n",
      "                                                                 \n",
      "=================================================================\n",
      "Total params: 1,667,905\n",
      "Trainable params: 1,667,905\n",
      "Non-trainable params: 0\n",
      "_________________________________________________________________\n"
     ]
    }
   ],
   "source": [
    "discriminator.summary()"
   ]
  },
  {
   "cell_type": "code",
   "execution_count": 25,
   "metadata": {},
   "outputs": [
    {
     "name": "stdout",
     "output_type": "stream",
     "text": [
      "1/1 [==============================] - 3s 3s/step\n"
     ]
    },
    {
     "data": {
      "text/plain": [
       "array([[0.5044374 ],\n",
       "       [0.50439006],\n",
       "       [0.50441325],\n",
       "       [0.5044054 ]], dtype=float32)"
      ]
     },
     "execution_count": 25,
     "metadata": {},
     "output_type": "execute_result"
    }
   ],
   "source": [
    "discriminator.predict(img)"
   ]
  },
  {
   "cell_type": "markdown",
   "metadata": {},
   "source": [
    "Training Loop"
   ]
  },
  {
   "cell_type": "markdown",
   "metadata": {},
   "source": [
    "Setup Losses and Optimizers"
   ]
  },
  {
   "cell_type": "code",
   "execution_count": 26,
   "metadata": {},
   "outputs": [],
   "source": [
    "from tensorflow.keras.optimizers import Adam\n",
    "from tensorflow.keras.losses import BinaryCrossentropy"
   ]
  },
  {
   "cell_type": "code",
   "execution_count": 27,
   "metadata": {},
   "outputs": [],
   "source": [
    "# determine g & d's optimizer\n",
    "generator_opt = Adam(learning_rate=0.0001)\n",
    "discirminator_opt = Adam(learning_rate=0.00001)\n",
    "# determine g & d's losses\n",
    "generator_loss = BinaryCrossentropy()\n",
    "discriminator_loss = BinaryCrossentropy()"
   ]
  },
  {
   "cell_type": "markdown",
   "metadata": {},
   "source": [
    "Build Subclassed Model"
   ]
  },
  {
   "cell_type": "code",
   "execution_count": 28,
   "metadata": {},
   "outputs": [],
   "source": [
    "# improting the base model class to subclass our training step\n",
    "from tensorflow.keras.models import Model"
   ]
  },
  {
   "cell_type": "code",
   "execution_count": 29,
   "metadata": {},
   "outputs": [],
   "source": [
    "class WeatherGAN(Model) : \n",
    "    # *args = any positional arg, **kwargs = keyboard args, those two parameters are make our function flexible\n",
    "    def __init__(self, generator, discriminator, *args, **kwargs) :\n",
    "        # Pass through args and kwargs to base class\n",
    "        super().__init__(*args, **kwargs)\n",
    "\n",
    "        # Create attribute for gen and dis\n",
    "        self.generator = generator\n",
    "        self.discriminator = discriminator\n",
    "\n",
    "    def compile(self, generator_opt, discirminator_opt, generator_loss, discriminator_loss, *args, **kwargs) :\n",
    "        # Compile with base class\n",
    "        super().compile(*args, **kwargs)\n",
    "\n",
    "        # Create attributes for optimizer and losses\n",
    "        self.generator_opt = generator_opt\n",
    "        self.discriminator_opt = discirminator_opt\n",
    "        self.generator_loss = generator_loss\n",
    "        self.discriminator_loss = discriminator_loss\n",
    "\n",
    "    def train_step(self, batch) :\n",
    "        # Get the data\n",
    "        real_images = batch\n",
    "        # Use generator to prediction fake image\n",
    "        fake_images = self.generator(tf.random.normal((128, 128)), training = False)\n",
    "\n",
    "        # Train the discriminator\n",
    "        with tf.GradientTape() as d_tape :\n",
    "            # Pass the real and fake images to the discriminator model\n",
    "            real_images = tf.transpose(real_images, perm=[0, 3, 2, 1]) # Change the dimension to (None, 3, 256, 256)\n",
    "            yhat_real = self.discriminator(real_images, training = True)\n",
    "            yhat_fake = self.discriminator(fake_images, training = True)\n",
    "            yhat_real_fake = tf.concat([yhat_real, yhat_fake], axis = 0) # Predictions(label) from discriminator\n",
    "\n",
    "            # Create labels for the real and fake image\n",
    "            y_real_fake = tf.concat([tf.zeros_like(yhat_real), tf.ones_like(yhat_fake)], axis = 0) # Actual label, real image label = 0, fake image label = 1\n",
    "\n",
    "            # Add some noise to the TRUE outputs\n",
    "            noise_real = 0.15 * tf.random.uniform(tf.shape(yhat_real)) # Uniform distribution\n",
    "            noise_fake = -0.15 * tf.random.uniform(tf.shape(yhat_fake))\n",
    "            y_real_fake += tf.concat([noise_real, noise_fake], axis = 0)\n",
    "\n",
    "            # Calculate loss - BinaryCorss\n",
    "            total_d_loss = self.discriminator_loss(y_real_fake, yhat_real_fake)\n",
    "\n",
    "        # Apply backpropagation, nn learn. trainable_variables = the variable we want to calculate the gradients\n",
    "        d_gradients = d_tape.gradient(total_d_loss, self.discriminator.trainable_variables) # Calculate gradient\n",
    "        self.discriminator_opt.apply_gradients(zip(d_gradients, self.discriminator.trainable_variables)) # Apply gradients using optimizer\n",
    "\n",
    "        # Train the generator\n",
    "        with tf.GradientTape() as g_tape :\n",
    "            # Generator some nwe images\n",
    "            gene_images = self.generator(tf.random.normal((128, 128)), training = True)\n",
    "\n",
    "            # Create the predicted labels, running our gene_images through the discriminator\n",
    "            predicted_labels = self.discriminator(gene_images, training = False)\n",
    "\n",
    "            # Calculate loss - trick to training to fake out the discriminator\n",
    "            total_g_loss = self.generator_loss(tf.zeros_like(predicted_labels), predicted_labels)\n",
    "\n",
    "        # Apply backpropagation\n",
    "        g_gradients = g_tape.gradient(total_g_loss, self.generator.trainable_variables)\n",
    "        self.generator_opt.apply_gradients(zip(g_gradients, self.generator.trainable_variables))\n",
    "\n",
    "        return {\"discriminator_loss\":total_d_loss, \"generator_loss\":total_g_loss}\n",
    "    # test & evaluation something\n",
    "    def test_step(self) :\n",
    "            pass\n",
    "    "
   ]
  },
  {
   "cell_type": "code",
   "execution_count": 30,
   "metadata": {},
   "outputs": [],
   "source": [
    "# Create instance of subclass model\n",
    "weatherGan = WeatherGAN(generator, discriminator)"
   ]
  },
  {
   "cell_type": "code",
   "execution_count": 31,
   "metadata": {},
   "outputs": [],
   "source": [
    "# Compile the model\n",
    "weatherGan.compile(generator_opt, discirminator_opt, generator_loss, discriminator_loss)"
   ]
  },
  {
   "cell_type": "markdown",
   "metadata": {},
   "source": [
    "Build Callback"
   ]
  },
  {
   "cell_type": "code",
   "execution_count": 32,
   "metadata": {},
   "outputs": [],
   "source": [
    "# import os -> helps with folder navigation (import previously)\n",
    "from tensorflow.keras.preprocessing.image import array_to_img\n",
    "from tensorflow.keras.callbacks import Callback # Create out own custom callback on epoch"
   ]
  },
  {
   "cell_type": "code",
   "execution_count": 33,
   "metadata": {},
   "outputs": [],
   "source": [
    "class ModelMonitor(Callback) :\n",
    "    def __init__(self, num_img = 3, latent_dim = 128) : # latent_dim -> the random value that i passing to generator to generator a random image, num_img -> how much need to generate\n",
    "        self.num_img = num_img\n",
    "        self.latent_dim = latent_dim\n",
    "\n",
    "    def on_epoch_end(self, epoch, logs = None) :\n",
    "        random_latent_vectors = tf.random.uniform((self.num_img, self.latent_dim))\n",
    "        generated_img = self.model.generator(random_latent_vectors)\n",
    "        generated_img *= 255\n",
    "        generated_img.numpy()\n",
    "        for i in range(self.num_img) :\n",
    "            img = array_to_img(generated_img[i])\n",
    "            img.save(os.path.join('generated_images', f'generated_img_{epoch}_{i}.png'))\n"
   ]
  },
  {
   "cell_type": "markdown",
   "metadata": {},
   "source": [
    "Train"
   ]
  },
  {
   "cell_type": "code",
   "execution_count": 34,
   "metadata": {},
   "outputs": [
    {
     "data": {
      "text/plain": [
       "array([[[[-1.        , -1.        , -1.        , ..., -1.        ,\n",
       "          -1.        , -1.        ],\n",
       "         [-1.        , -1.        , -1.        , ..., -1.        ,\n",
       "          -1.        , -1.        ],\n",
       "         [-1.        , -1.        , -1.        , ..., -1.        ,\n",
       "          -1.        , -1.        ],\n",
       "         ...,\n",
       "         [-1.        , -1.        , -1.        , ..., -1.        ,\n",
       "          -1.        , -1.        ],\n",
       "         [-1.        , -1.        , -1.        , ..., -1.        ,\n",
       "          -1.        , -1.        ],\n",
       "         [-1.        , -1.        , -1.        , ..., -1.        ,\n",
       "          -1.        , -1.        ]],\n",
       "\n",
       "        [[-1.        , -1.        , -1.        , ...,  0.9892156 ,\n",
       "          -1.        , -1.        ],\n",
       "         [-1.        , -1.        , -1.        , ...,  1.        ,\n",
       "           0.654902  , -1.        ],\n",
       "         [-1.        , -1.        , -1.        , ...,  0.761397  ,\n",
       "           0.43137252,  0.74117637],\n",
       "         ...,\n",
       "         [-1.        , -1.        , -1.        , ..., -1.        ,\n",
       "          -1.        , -1.        ],\n",
       "         [-1.        , -1.        , -1.        , ..., -1.        ,\n",
       "          -1.        , -1.        ],\n",
       "         [-1.        , -1.        , -1.        , ..., -1.        ,\n",
       "          -1.        , -1.        ]],\n",
       "\n",
       "        [[-1.        , -1.        , -1.        , ..., -1.        ,\n",
       "          -1.        , -1.        ],\n",
       "         [-1.        , -1.        , -1.        , ..., -1.        ,\n",
       "          -1.        , -1.        ],\n",
       "         [-1.        , -1.        , -1.        , ..., -1.        ,\n",
       "          -1.        , -1.        ],\n",
       "         ...,\n",
       "         [-1.        , -1.        , -1.        , ..., -1.        ,\n",
       "          -1.        , -1.        ],\n",
       "         [-1.        , -1.        , -1.        , ..., -1.        ,\n",
       "          -1.        , -1.        ],\n",
       "         [-1.        , -1.        , -1.        , ..., -1.        ,\n",
       "          -1.        , -1.        ]]],\n",
       "\n",
       "\n",
       "       [[[-1.        , -1.        , -1.        , ..., -1.        ,\n",
       "          -1.        , -1.        ],\n",
       "         [-1.        , -1.        , -1.        , ..., -1.        ,\n",
       "          -1.        , -1.        ],\n",
       "         [-1.        , -1.        , -1.        , ..., -1.        ,\n",
       "           0.75      , -1.        ],\n",
       "         ...,\n",
       "         [-1.        , -1.        , -1.        , ..., -1.        ,\n",
       "          -1.        , -1.        ],\n",
       "         [-1.        , -1.        , -1.        , ..., -1.        ,\n",
       "          -1.        , -1.        ],\n",
       "         [-1.        , -1.        , -1.        , ..., -1.        ,\n",
       "          -1.        , -1.        ]],\n",
       "\n",
       "        [[-1.        , -1.        , -1.        , ...,  0.97843134,\n",
       "          -1.        , -1.        ],\n",
       "         [-1.        , -1.        , -1.        , ...,  0.33333337,\n",
       "           0.33333337,  0.827451  ],\n",
       "         [-1.        , -1.        , -1.        , ...,  0.32193625,\n",
       "           0.90686274,  0.40196073],\n",
       "         ...,\n",
       "         [-1.        , -1.        , -1.        , ..., -1.        ,\n",
       "          -1.        , -1.        ],\n",
       "         [-1.        , -1.        , -1.        , ..., -1.        ,\n",
       "          -1.        , -1.        ],\n",
       "         [-1.        , -1.        , -1.        , ..., -1.        ,\n",
       "          -1.        , -1.        ]],\n",
       "\n",
       "        [[-1.        , -1.        , -1.        , ..., -1.        ,\n",
       "          -1.        , -1.        ],\n",
       "         [-1.        , -1.        , -1.        , ..., -1.        ,\n",
       "          -1.        , -1.        ],\n",
       "         [-1.        , -1.        , -1.        , ..., -1.        ,\n",
       "          -1.        , -1.        ],\n",
       "         ...,\n",
       "         [-1.        , -1.        , -1.        , ..., -1.        ,\n",
       "          -1.        , -1.        ],\n",
       "         [-1.        , -1.        , -1.        , ..., -1.        ,\n",
       "          -1.        , -1.        ],\n",
       "         [-1.        , -1.        , -1.        , ..., -1.        ,\n",
       "          -1.        , -1.        ]]],\n",
       "\n",
       "\n",
       "       [[[-1.        , -1.        , -1.        , ..., -1.        ,\n",
       "          -1.        , -1.        ],\n",
       "         [-1.        , -1.        , -1.        , ..., -1.        ,\n",
       "          -1.        , -1.        ],\n",
       "         [-1.        , -1.        , -1.        , ..., -1.        ,\n",
       "          -1.        , -1.        ],\n",
       "         ...,\n",
       "         [-1.        , -1.        , -1.        , ..., -1.        ,\n",
       "          -1.        , -1.        ],\n",
       "         [-1.        , -1.        , -1.        , ..., -1.        ,\n",
       "          -1.        , -1.        ],\n",
       "         [-1.        , -1.        , -1.        , ..., -1.        ,\n",
       "          -1.        , -1.        ]],\n",
       "\n",
       "        [[-1.        , -1.        , -1.        , ...,  0.9029411 ,\n",
       "          -1.        , -1.        ],\n",
       "         [-1.        , -1.        , -1.        , ...,  0.9137255 ,\n",
       "           0.41176474,  0.5686275 ],\n",
       "         [-1.        , -1.        , -1.        , ...,  0.5601716 ,\n",
       "           0.8166667 ,  0.43137252],\n",
       "         ...,\n",
       "         [-1.        , -1.        , -1.        , ..., -1.        ,\n",
       "          -1.        , -1.        ],\n",
       "         [-1.        , -1.        , -1.        , ..., -1.        ,\n",
       "          -1.        , -1.        ],\n",
       "         [-1.        , -1.        , -1.        , ..., -1.        ,\n",
       "          -1.        , -1.        ]],\n",
       "\n",
       "        [[-1.        , -1.        , -1.        , ..., -1.        ,\n",
       "           1.        , -1.        ],\n",
       "         [-1.        , -1.        , -1.        , ..., -1.        ,\n",
       "          -1.        , -1.        ],\n",
       "         [-1.        , -1.        , -1.        , ..., -1.        ,\n",
       "          -1.        , -1.        ],\n",
       "         ...,\n",
       "         [-1.        , -1.        , -1.        , ..., -1.        ,\n",
       "          -1.        , -1.        ],\n",
       "         [-1.        , -1.        , -1.        , ..., -1.        ,\n",
       "          -1.        , -1.        ],\n",
       "         [-1.        , -1.        , -1.        , ..., -1.        ,\n",
       "          -1.        , -1.        ]]],\n",
       "\n",
       "\n",
       "       ...,\n",
       "\n",
       "\n",
       "       [[[-1.        , -1.        , -1.        , ..., -1.        ,\n",
       "          -1.        , -1.        ],\n",
       "         [-1.        , -1.        , -1.        , ..., -1.        ,\n",
       "          -1.        , -1.        ],\n",
       "         [-1.        , -1.        , -1.        , ..., -1.        ,\n",
       "          -1.        , -1.        ],\n",
       "         ...,\n",
       "         [-1.        , -1.        , -1.        , ..., -1.        ,\n",
       "          -1.        , -1.        ],\n",
       "         [-1.        , -1.        , -1.        , ..., -1.        ,\n",
       "          -1.        , -1.        ],\n",
       "         [-1.        , -1.        , -1.        , ..., -1.        ,\n",
       "          -1.        , -1.        ]],\n",
       "\n",
       "        [[-1.        , -1.        , -1.        , ..., -1.        ,\n",
       "          -1.        , -1.        ],\n",
       "         [-1.        , -1.        , -1.        , ..., -1.        ,\n",
       "          -1.        , -1.        ],\n",
       "         [-1.        , -1.        , -1.        , ..., -1.        ,\n",
       "          -1.        , -1.        ],\n",
       "         ...,\n",
       "         [-1.        , -1.        , -1.        , ..., -1.        ,\n",
       "          -1.        , -1.        ],\n",
       "         [-1.        , -1.        , -1.        , ..., -1.        ,\n",
       "          -1.        , -1.        ],\n",
       "         [-1.        , -1.        , -1.        , ..., -1.        ,\n",
       "          -1.        , -1.        ]],\n",
       "\n",
       "        [[-1.        , -1.        , -1.        , ..., -1.        ,\n",
       "          -1.        , -1.        ],\n",
       "         [-1.        , -1.        , -1.        , ..., -1.        ,\n",
       "          -1.        , -1.        ],\n",
       "         [-1.        , -1.        , -1.        , ..., -1.        ,\n",
       "          -1.        , -1.        ],\n",
       "         ...,\n",
       "         [-1.        , -1.        , -1.        , ..., -1.        ,\n",
       "          -1.        , -1.        ],\n",
       "         [-1.        , -1.        , -1.        , ..., -1.        ,\n",
       "          -1.        , -1.        ],\n",
       "         [-1.        , -1.        , -1.        , ..., -1.        ,\n",
       "          -1.        , -1.        ]]],\n",
       "\n",
       "\n",
       "       [[[-1.        , -1.        , -1.        , ..., -1.        ,\n",
       "          -1.        , -1.        ],\n",
       "         [-1.        , -1.        , -1.        , ..., -1.        ,\n",
       "          -1.        , -1.        ],\n",
       "         [-1.        , -1.        , -1.        , ..., -1.        ,\n",
       "          -1.        , -1.        ],\n",
       "         ...,\n",
       "         [-1.        , -1.        , -1.        , ..., -1.        ,\n",
       "          -1.        , -1.        ],\n",
       "         [-1.        , -1.        , -1.        , ..., -1.        ,\n",
       "          -1.        , -1.        ],\n",
       "         [-1.        , -1.        , -1.        , ..., -1.        ,\n",
       "          -1.        , -1.        ]],\n",
       "\n",
       "        [[-1.        , -1.        , -1.        , ..., -1.        ,\n",
       "          -1.        , -1.        ],\n",
       "         [-1.        , -1.        , -1.        , ..., -1.        ,\n",
       "          -1.        , -1.        ],\n",
       "         [-1.        , -1.        , -1.        , ..., -0.02120095,\n",
       "          -1.        , -1.        ],\n",
       "         ...,\n",
       "         [-1.        , -1.        , -1.        , ..., -1.        ,\n",
       "          -1.        , -1.        ],\n",
       "         [-1.        , -1.        , -1.        , ..., -1.        ,\n",
       "          -1.        , -1.        ],\n",
       "         [-1.        , -1.        , -1.        , ..., -1.        ,\n",
       "          -1.        , -1.        ]],\n",
       "\n",
       "        [[-1.        , -1.        , -1.        , ..., -1.        ,\n",
       "          -1.        , -1.        ],\n",
       "         [-1.        , -1.        , -1.        , ..., -1.        ,\n",
       "          -1.        , -1.        ],\n",
       "         [-1.        , -1.        , -1.        , ...,  0.78125   ,\n",
       "          -1.        , -1.        ],\n",
       "         ...,\n",
       "         [-1.        , -1.        , -1.        , ..., -1.        ,\n",
       "          -1.        , -1.        ],\n",
       "         [-1.        , -1.        , -1.        , ..., -1.        ,\n",
       "          -1.        , -1.        ],\n",
       "         [-1.        , -1.        , -1.        , ..., -1.        ,\n",
       "          -1.        , -1.        ]]],\n",
       "\n",
       "\n",
       "       [[[-1.        , -1.        , -1.        , ..., -1.        ,\n",
       "          -1.        , -1.        ],\n",
       "         [-1.        , -1.        , -1.        , ..., -1.        ,\n",
       "          -1.        , -1.        ],\n",
       "         [-1.        , -1.        , -1.        , ..., -1.        ,\n",
       "          -1.        , -1.        ],\n",
       "         ...,\n",
       "         [-1.        , -1.        , -1.        , ..., -1.        ,\n",
       "          -1.        , -1.        ],\n",
       "         [-1.        , -1.        , -1.        , ..., -1.        ,\n",
       "          -1.        , -1.        ],\n",
       "         [-1.        , -1.        , -1.        , ..., -1.        ,\n",
       "          -1.        , -1.        ]],\n",
       "\n",
       "        [[-1.        , -1.        , -1.        , ..., -1.        ,\n",
       "          -1.        , -1.        ],\n",
       "         [-1.        , -1.        , -1.        , ..., -1.        ,\n",
       "          -1.        , -1.        ],\n",
       "         [-1.        , -1.        , -1.        , ..., -1.        ,\n",
       "          -0.9647059 , -1.        ],\n",
       "         ...,\n",
       "         [-1.        , -1.        , -1.        , ..., -1.        ,\n",
       "          -1.        , -1.        ],\n",
       "         [-1.        , -1.        , -1.        , ..., -1.        ,\n",
       "          -1.        , -1.        ],\n",
       "         [-1.        , -1.        , -1.        , ..., -1.        ,\n",
       "          -1.        , -1.        ]],\n",
       "\n",
       "        [[-1.        , -1.        , -1.        , ..., -1.        ,\n",
       "          -1.        , -1.        ],\n",
       "         [-1.        , -1.        , -1.        , ..., -1.        ,\n",
       "          -1.        , -1.        ],\n",
       "         [-1.        , -1.        , -1.        , ..., -1.        ,\n",
       "          -0.75      , -1.        ],\n",
       "         ...,\n",
       "         [-1.        , -1.        , -1.        , ..., -1.        ,\n",
       "          -1.        , -1.        ],\n",
       "         [-1.        , -1.        , -1.        , ..., -1.        ,\n",
       "          -1.        , -1.        ],\n",
       "         [-1.        , -1.        , -1.        , ..., -1.        ,\n",
       "          -1.        , -1.        ]]]], dtype=float32)"
      ]
     },
     "execution_count": 34,
     "metadata": {},
     "output_type": "execute_result"
    }
   ],
   "source": [
    "train"
   ]
  },
  {
   "cell_type": "code",
   "execution_count": 35,
   "metadata": {},
   "outputs": [
    {
     "data": {
      "text/plain": [
       "(8, 3, 64, 64)"
      ]
     },
     "execution_count": 35,
     "metadata": {},
     "output_type": "execute_result"
    }
   ],
   "source": [
    "train.shape"
   ]
  },
  {
   "cell_type": "code",
   "execution_count": 36,
   "metadata": {},
   "outputs": [
    {
     "name": "stdout",
     "output_type": "stream",
     "text": [
      "Epoch 1/10\n"
     ]
    },
    {
     "name": "stdout",
     "output_type": "stream",
     "text": [
      "4/4 [==============================] - 727s 28s/step - discriminator_loss: 0.6074 - generator_loss: 0.8267\n",
      "Epoch 2/10\n",
      "4/4 [==============================] - 121s 32s/step - discriminator_loss: 0.5640 - generator_loss: 0.8554\n",
      "Epoch 3/10\n",
      "4/4 [==============================] - 99s 24s/step - discriminator_loss: 0.7110 - generator_loss: 0.7078\n",
      "Epoch 4/10\n",
      "4/4 [==============================] - 107s 28s/step - discriminator_loss: 0.7234 - generator_loss: 0.6994\n",
      "Epoch 5/10\n",
      "4/4 [==============================] - 92s 23s/step - discriminator_loss: 0.7164 - generator_loss: 0.7019\n",
      "Epoch 6/10\n",
      "4/4 [==============================] - 99s 25s/step - discriminator_loss: 0.7131 - generator_loss: 0.7045\n",
      "Epoch 7/10\n",
      "4/4 [==============================] - 92s 23s/step - discriminator_loss: 0.7029 - generator_loss: 0.7069\n",
      "Epoch 8/10\n",
      "4/4 [==============================] - 86s 21s/step - discriminator_loss: 0.6942 - generator_loss: 0.7092\n",
      "Epoch 9/10\n",
      "4/4 [==============================] - 89s 22s/step - discriminator_loss: 0.6849 - generator_loss: 0.7114\n",
      "Epoch 10/10\n",
      "4/4 [==============================] - 96s 23s/step - discriminator_loss: 0.6769 - generator_loss: 0.7138\n"
     ]
    }
   ],
   "source": [
    "# Recommend 2000 epochs\n",
    "#hist = weatherGan.fit(train, batch_size=8, epochs=20)\n",
    "hist = weatherGan.fit(train, batch_size=2, epochs=10, callbacks=[ModelMonitor()])"
   ]
  }
 ],
 "metadata": {
  "kernelspec": {
   "display_name": "Python 3",
   "language": "python",
   "name": "python3"
  },
  "language_info": {
   "codemirror_mode": {
    "name": "ipython",
    "version": 3
   },
   "file_extension": ".py",
   "mimetype": "text/x-python",
   "name": "python",
   "nbconvert_exporter": "python",
   "pygments_lexer": "ipython3",
   "version": "3.7.16"
  },
  "orig_nbformat": 4
 },
 "nbformat": 4,
 "nbformat_minor": 2
}
