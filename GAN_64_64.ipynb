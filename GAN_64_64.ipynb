{
 "cells": [
  {
   "cell_type": "code",
   "execution_count": 3,
   "metadata": {},
   "outputs": [],
   "source": [
    "from torch.utils.data import Dataset, DataLoader\n",
    "from torchvision import datasets\n",
    "from torchvision import transforms\n",
    "from torchvision.io import read_image\n",
    "import tensorflow as tf\n",
    "import numpy as np\n",
    "import os\n",
    "import pandas as pd #資料處理\n",
    "import torch\n",
    "import matplotlib.pyplot as plt\n",
    "from PIL import Image\n",
    "\n",
    "# 設定dataset路徑\n",
    "project_path = r\"D:\\NTUT\\Weather_AI\\self-project\\GAN\\weather-GAN\"\n",
    "train_data_path = str(project_path + r\"\\train_data\")\n",
    "output_data_path = str(project_path + r\"output_data\")\n"
   ]
  },
  {
   "cell_type": "code",
   "execution_count": 4,
   "metadata": {},
   "outputs": [
    {
     "name": "stdout",
     "output_type": "stream",
     "text": [
      "[name: \"/device:CPU:0\"\n",
      "device_type: \"CPU\"\n",
      "memory_limit: 268435456\n",
      "locality {\n",
      "}\n",
      "incarnation: 11395340718627821256\n",
      "xla_global_id: -1\n",
      ", name: \"/device:GPU:0\"\n",
      "device_type: \"GPU\"\n",
      "memory_limit: 5748293632\n",
      "locality {\n",
      "  bus_id: 1\n",
      "  links {\n",
      "  }\n",
      "}\n",
      "incarnation: 1969875704909194924\n",
      "physical_device_desc: \"device: 0, name: NVIDIA GeForce RTX 3060 Ti, pci bus id: 0000:01:00.0, compute capability: 8.6\"\n",
      "xla_global_id: 416903419\n",
      "]\n"
     ]
    }
   ],
   "source": [
    "from tensorflow.python.client import device_lib\n",
    "print(device_lib.list_local_devices())"
   ]
  },
  {
   "cell_type": "code",
   "execution_count": 5,
   "metadata": {},
   "outputs": [],
   "source": [
    "# Setup GPU\n",
    "gpus = tf.config.list_physical_devices('GPU')\n",
    "for gpu in gpus :\n",
    "    tf.config.experimental.set_memory_growth(gpu, True)"
   ]
  },
  {
   "cell_type": "code",
   "execution_count": 6,
   "metadata": {},
   "outputs": [
    {
     "name": "stdout",
     "output_type": "stream",
     "text": [
      "PhysicalDevice(name='/physical_device:GPU:0', device_type='GPU')\n"
     ]
    }
   ],
   "source": [
    "for gpu in gpus :\n",
    "    print(gpu)"
   ]
  },
  {
   "cell_type": "code",
   "execution_count": 7,
   "metadata": {},
   "outputs": [
    {
     "name": "stdout",
     "output_type": "stream",
     "text": [
      "Num GPUs Available:  1\n"
     ]
    }
   ],
   "source": [
    "print(\"Num GPUs Available: \", len(tf.config.list_physical_devices('GPU')))"
   ]
  },
  {
   "cell_type": "code",
   "execution_count": 8,
   "metadata": {},
   "outputs": [
    {
     "name": "stdout",
     "output_type": "stream",
     "text": [
      "torch.Size([10, 3, 64, 64])\n"
     ]
    }
   ],
   "source": [
    "transform = transforms.Compose([\n",
    "    transforms.ToTensor(),\n",
    "    transforms.Resize((64, 64)),\n",
    "    transforms.Normalize((0.5, 0.5, 0.5), (0.5, 0.5, 0.5))\n",
    "])\n",
    "class My_Dataset(Dataset) :\n",
    "    def __init__(self, path, transform=None) :\n",
    "        super().__init__()\n",
    "        self.image_files = os.listdir(path)\n",
    "        self.list_files = []\n",
    "        for file in self.image_files :\n",
    "            self.list_files.append(os.path.join(path, file))\n",
    "\n",
    "    # Indicate the total size of the dataset\n",
    "    def __len__(self) :\n",
    "        return len(self.image_files)\n",
    "    \n",
    "    # 1. Read from file (using numpy.fromfile, PIL.Image.open)\n",
    "    # 2. Preprocess the data (torchvision.Transform).\n",
    "    # 3. Return the data (e.g. image and label)\n",
    "    def __getitem__(self, index) :\n",
    "        image = Image.open(self.list_files[index]).convert('RGB')\n",
    "        if transform is None :\n",
    "            return image\n",
    "        else :\n",
    "            image = transform(image)\n",
    "            return image\n",
    "\n",
    "#讀取圖片，一次四張\n",
    "if __name__ == '__main__' :\n",
    "    #path_image = r\"D:\\NTUT\\Weather_AI\\self-project\\GAN\\weather-GAN\\train_data\"\n",
    "    path_image = train_data_path\n",
    "    train_data = My_Dataset(path_image, transform=transform)\n",
    "    train_dataloader = DataLoader(train_data, batch_size=10, shuffle=True)\n",
    "    for image in train_dataloader :\n",
    "        print(image.shape)\n",
    "        #4(張), 3(RGB三通道), 3600(長), 3600(寬)縮成256*256\n",
    "        break"
   ]
  },
  {
   "cell_type": "code",
   "execution_count": 9,
   "metadata": {},
   "outputs": [],
   "source": [
    "# 切割資料集\n",
    "from sklearn.model_selection import train_test_split\n",
    "\n",
    "train, test = train_test_split(image, test_size = 0.2, random_state = 42)"
   ]
  },
  {
   "cell_type": "code",
   "execution_count": 10,
   "metadata": {},
   "outputs": [
    {
     "data": {
      "text/plain": [
       "((8, 3, 64, 64), (2, 3, 64, 64))"
      ]
     },
     "execution_count": 10,
     "metadata": {},
     "output_type": "execute_result"
    }
   ],
   "source": [
    "train = np.array(train)\n",
    "test = np.array(test)\n",
    "\n",
    "train.shape, test.shape"
   ]
  },
  {
   "cell_type": "code",
   "execution_count": 11,
   "metadata": {},
   "outputs": [
    {
     "name": "stderr",
     "output_type": "stream",
     "text": [
      "Clipping input data to the valid range for imshow with RGB data ([0..1] for floats or [0..255] for integers).\n"
     ]
    },
    {
     "data": {
      "image/png": "[encoded data removed]",
      "text/plain": [
       "<Figure size 640x480 with 1 Axes>"
      ]
     },
     "metadata": {},
     "output_type": "display_data"
    }
   ],
   "source": [
    "\n",
    "plt.imshow(np.transpose(test[0], (1, 2, 0)))\n",
    "plt.axis('off')\n",
    "plt.show()"
   ]
  },
  {
   "cell_type": "code",
   "execution_count": 12,
   "metadata": {},
   "outputs": [
    {
     "name": "stderr",
     "output_type": "stream",
     "text": [
      "Clipping input data to the valid range for imshow with RGB data ([0..1] for floats or [0..255] for integers).\n"
     ]
    },
    {
     "data": {
      "image/png": "[encoded data removed]",
      "text/plain": [
       "<Figure size 640x480 with 1 Axes>"
      ]
     },
     "metadata": {},
     "output_type": "display_data"
    },
    {
     "name": "stderr",
     "output_type": "stream",
     "text": [
      "Clipping input data to the valid range for imshow with RGB data ([0..1] for floats or [0..255] for integers).\n"
     ]
    },
    {
     "data": {
      "image/png": "[encoded data removed]",
      "text/plain": [
       "<Figure size 640x480 with 1 Axes>"
      ]
     },
     "metadata": {},
     "output_type": "display_data"
    },
    {
     "name": "stderr",
     "output_type": "stream",
     "text": [
      "Clipping input data to the valid range for imshow with RGB data ([0..1] for floats or [0..255] for integers).\n"
     ]
    },
    {
     "data": {
      "image/png": "[encoded data removed]",
      "text/plain": [
       "<Figure size 640x480 with 1 Axes>"
      ]
     },
     "metadata": {},
     "output_type": "display_data"
    },
    {
     "name": "stderr",
     "output_type": "stream",
     "text": [
      "Clipping input data to the valid range for imshow with RGB data ([0..1] for floats or [0..255] for integers).\n"
     ]
    },
    {
     "data": {
      "image/png": "[encoded data removed]",
      "text/plain": [
       "<Figure size 640x480 with 1 Axes>"
      ]
     },
     "metadata": {},
     "output_type": "display_data"
    },
    {
     "name": "stderr",
     "output_type": "stream",
     "text": [
      "Clipping input data to the valid range for imshow with RGB data ([0..1] for floats or [0..255] for integers).\n"
     ]
    },
    {
     "data": {
      "image/png": "[encoded data removed]",
      "text/plain": [
       "<Figure size 640x480 with 1 Axes>"
      ]
     },
     "metadata": {},
     "output_type": "display_data"
    },
    {
     "name": "stderr",
     "output_type": "stream",
     "text": [
      "Clipping input data to the valid range for imshow with RGB data ([0..1] for floats or [0..255] for integers).\n"
     ]
    },
    {
     "data": {
      "image/png": "[encoded data removed]",
      "text/plain": [
       "<Figure size 640x480 with 1 Axes>"
      ]
     },
     "metadata": {},
     "output_type": "display_data"
    },
    {
     "name": "stderr",
     "output_type": "stream",
     "text": [
      "Clipping input data to the valid range for imshow with RGB data ([0..1] for floats or [0..255] for integers).\n"
     ]
    },
    {
     "data": {
      "image/png": "[encoded data removed]",
      "text/plain": [
       "<Figure size 640x480 with 1 Axes>"
      ]
     },
     "metadata": {},
     "output_type": "display_data"
    },
    {
     "name": "stderr",
     "output_type": "stream",
     "text": [
      "Clipping input data to the valid range for imshow with RGB data ([0..1] for floats or [0..255] for integers).\n"
     ]
    },
    {
     "data": {
      "image/png": "[encoded data removed]",
      "text/plain": [
       "<Figure size 640x480 with 1 Axes>"
      ]
     },
     "metadata": {},
     "output_type": "display_data"
    }
   ],
   "source": [
    "for i in range(len(train)) :\n",
    "    plt.imshow(np.transpose(train[i], (1, 2, 0)))\n",
    "    plt.axis('off')\n",
    "    plt.show()"
   ]
  },
  {
   "cell_type": "code",
   "execution_count": 13,
   "metadata": {},
   "outputs": [
    {
     "name": "stdout",
     "output_type": "stream",
     "text": [
      "[[[[-1.         -1.         -1.         ... -1.         -1.\n",
      "    -1.        ]\n",
      "   [-1.         -1.         -1.         ... -1.         -1.\n",
      "    -1.        ]\n",
      "   [-1.         -1.         -1.         ... -1.         -1.\n",
      "    -1.        ]\n",
      "   ...\n",
      "   [-1.         -1.         -1.         ... -1.         -1.\n",
      "    -1.        ]\n",
      "   [-1.         -1.         -1.         ... -1.         -1.\n",
      "    -1.        ]\n",
      "   [-1.         -1.         -1.         ... -1.         -1.\n",
      "    -1.        ]]\n",
      "\n",
      "  [[-1.         -1.         -1.         ... -1.         -1.\n",
      "    -1.        ]\n",
      "   [-1.         -1.         -1.         ... -1.         -1.\n",
      "    -1.        ]\n",
      "   [-1.         -1.         -1.         ... -1.         -1.\n",
      "    -1.        ]\n",
      "   ...\n",
      "   [-1.         -1.          0.4876225  ... -1.         -1.\n",
      "    -1.        ]\n",
      "   [-1.         -1.         -1.         ... -1.         -1.\n",
      "    -1.        ]\n",
      "   [-1.         -1.         -1.         ... -1.         -1.\n",
      "    -1.        ]]\n",
      "\n",
      "  [[-1.         -1.         -1.         ... -1.         -1.\n",
      "    -1.        ]\n",
      "   [-1.         -1.         -1.         ... -1.         -1.\n",
      "    -1.        ]\n",
      "   [-1.         -1.         -1.         ... -1.         -1.\n",
      "    -1.        ]\n",
      "   ...\n",
      "   [-1.         -1.         -1.         ... -1.         -1.\n",
      "    -1.        ]\n",
      "   [-1.         -1.         -1.         ... -1.         -1.\n",
      "    -1.        ]\n",
      "   [-1.         -1.         -1.         ... -1.         -1.\n",
      "    -1.        ]]]\n",
      "\n",
      "\n",
      " [[[-1.         -1.         -1.         ... -1.         -1.\n",
      "    -1.        ]\n",
      "   [-1.         -1.         -1.         ... -1.         -1.\n",
      "    -1.        ]\n",
      "   [-1.         -1.         -1.         ... -1.         -1.\n",
      "    -1.        ]\n",
      "   ...\n",
      "   [-1.         -1.         -0.95625    ... -1.         -1.\n",
      "    -1.        ]\n",
      "   [-1.         -1.         -1.         ... -1.         -1.\n",
      "    -1.        ]\n",
      "   [-1.         -1.         -1.         ... -1.         -1.\n",
      "    -1.        ]]\n",
      "\n",
      "  [[-1.         -1.         -1.         ... -1.         -1.\n",
      "    -1.        ]\n",
      "   [-1.         -1.         -1.         ... -1.         -1.\n",
      "    -1.        ]\n",
      "   [-1.         -1.         -1.         ... -1.         -1.\n",
      "    -1.        ]\n",
      "   ...\n",
      "   [-1.         -1.          0.1957109  ... -1.         -1.\n",
      "    -1.        ]\n",
      "   [-1.         -1.         -1.         ... -1.         -1.\n",
      "    -1.        ]\n",
      "   [-1.         -1.          0.48039222 ... -1.         -1.\n",
      "    -1.        ]]\n",
      "\n",
      "  [[-1.         -1.         -1.         ... -1.         -1.\n",
      "    -1.        ]\n",
      "   [-1.         -1.         -1.         ... -1.         -1.\n",
      "    -1.        ]\n",
      "   [-1.         -1.         -1.         ... -1.         -1.\n",
      "    -1.        ]\n",
      "   ...\n",
      "   [-1.         -1.         -1.         ... -1.         -1.\n",
      "    -1.        ]\n",
      "   [-1.         -1.         -1.         ... -1.         -1.\n",
      "    -1.        ]\n",
      "   [-1.         -1.         -1.         ... -1.         -1.\n",
      "    -1.        ]]]\n",
      "\n",
      "\n",
      " [[[-1.         -1.         -1.         ... -1.         -1.\n",
      "    -1.        ]\n",
      "   [-1.         -1.         -1.         ... -1.         -1.\n",
      "    -1.        ]\n",
      "   [-1.         -1.         -1.         ... -1.         -1.\n",
      "    -1.        ]\n",
      "   ...\n",
      "   [-1.         -1.         -1.         ... -1.         -1.\n",
      "    -1.        ]\n",
      "   [-1.         -1.         -1.         ... -1.         -1.\n",
      "    -1.        ]\n",
      "   [-1.         -1.         -1.         ... -1.         -1.\n",
      "    -1.        ]]\n",
      "\n",
      "  [[-1.         -1.         -1.         ... -1.         -1.\n",
      "    -1.        ]\n",
      "   [-1.         -1.         -1.         ... -1.         -1.\n",
      "    -1.        ]\n",
      "   [-1.         -1.         -1.         ... -1.         -1.\n",
      "    -1.        ]\n",
      "   ...\n",
      "   [-1.         -1.          0.54558825 ... -1.         -1.\n",
      "    -1.        ]\n",
      "   [-1.         -1.          0.30392158 ... -1.         -1.\n",
      "    -1.        ]\n",
      "   [-1.         -1.         -1.         ... -1.         -1.\n",
      "    -1.        ]]\n",
      "\n",
      "  [[-1.         -1.         -1.         ... -1.         -1.\n",
      "    -1.        ]\n",
      "   [-1.         -1.         -1.         ... -1.         -1.\n",
      "    -1.        ]\n",
      "   [-1.         -1.         -1.         ... -1.         -1.\n",
      "    -1.        ]\n",
      "   ...\n",
      "   [-1.         -1.         -1.         ... -1.         -1.\n",
      "    -1.        ]\n",
      "   [-1.         -1.         -1.         ... -1.         -1.\n",
      "    -1.        ]\n",
      "   [-1.         -1.         -1.         ... -1.         -1.\n",
      "    -1.        ]]]\n",
      "\n",
      "\n",
      " ...\n",
      "\n",
      "\n",
      " [[[-1.         -1.         -1.         ... -1.         -1.\n",
      "    -1.        ]\n",
      "   [-1.         -1.         -1.         ... -1.         -1.\n",
      "    -1.        ]\n",
      "   [-1.         -1.         -1.         ... -1.         -1.\n",
      "    -1.        ]\n",
      "   ...\n",
      "   [-1.         -1.         -1.         ... -1.         -1.\n",
      "    -1.        ]\n",
      "   [-1.         -1.         -1.         ... -1.         -1.\n",
      "    -1.        ]\n",
      "   [-1.         -1.         -1.         ... -1.         -1.\n",
      "    -1.        ]]\n",
      "\n",
      "  [[-1.         -1.         -1.         ... -1.         -1.\n",
      "    -1.        ]\n",
      "   [-1.         -1.         -1.         ... -1.         -1.\n",
      "    -1.        ]\n",
      "   [-1.         -1.         -1.         ... -1.         -1.\n",
      "    -1.        ]\n",
      "   ...\n",
      "   [ 0.33333337  0.80588245 -1.         ... -1.         -1.\n",
      "    -1.        ]\n",
      "   [ 0.41176474  0.654902    0.7303922  ... -1.         -1.\n",
      "    -1.        ]\n",
      "   [-1.         -1.          0.61176467 ... -1.         -1.\n",
      "    -1.        ]]\n",
      "\n",
      "  [[-1.         -1.         -1.         ... -1.         -1.\n",
      "    -1.        ]\n",
      "   [-1.         -1.         -1.         ... -1.         -1.\n",
      "    -1.        ]\n",
      "   [-1.         -1.         -1.         ... -1.         -1.\n",
      "    -1.        ]\n",
      "   ...\n",
      "   [-1.         -1.         -1.         ... -1.         -1.\n",
      "    -1.        ]\n",
      "   [-1.         -1.         -1.         ... -1.         -1.\n",
      "    -1.        ]\n",
      "   [-1.         -1.         -1.         ... -1.         -1.\n",
      "    -1.        ]]]\n",
      "\n",
      "\n",
      " [[[-1.         -1.         -1.         ... -1.         -1.\n",
      "    -1.        ]\n",
      "   [-1.         -1.         -1.         ... -1.         -1.\n",
      "    -1.        ]\n",
      "   [-1.         -1.         -1.         ... -1.         -1.\n",
      "    -1.        ]\n",
      "   ...\n",
      "   [-1.         -1.         -0.40625    ... -1.         -1.\n",
      "    -1.        ]\n",
      "   [-1.         -1.          1.         ... -1.         -1.\n",
      "    -1.        ]\n",
      "   [-1.         -1.         -1.         ... -1.         -1.\n",
      "    -1.        ]]\n",
      "\n",
      "  [[-1.         -1.         -1.         ... -1.         -1.\n",
      "    -1.        ]\n",
      "   [-1.         -1.         -1.         ... -1.         -1.\n",
      "    -1.        ]\n",
      "   [-1.         -1.         -1.         ... -1.         -1.\n",
      "    -1.        ]\n",
      "   ...\n",
      "   [-1.          0.687255    0.41151953 ... -1.         -1.\n",
      "    -1.        ]\n",
      "   [-1.          0.5686275   0.98921573 ... -1.         -1.\n",
      "    -1.        ]\n",
      "   [-1.         -1.          0.71960783 ... -1.         -1.\n",
      "    -1.        ]]\n",
      "\n",
      "  [[-1.         -1.         -1.         ... -1.         -1.\n",
      "    -1.        ]\n",
      "   [-1.         -1.         -1.         ... -1.         -1.\n",
      "    -1.        ]\n",
      "   [-1.         -1.         -1.         ... -1.         -1.\n",
      "    -1.        ]\n",
      "   ...\n",
      "   [-1.         -1.         -1.         ... -1.         -1.\n",
      "    -1.        ]\n",
      "   [-1.         -1.         -1.         ... -1.         -1.\n",
      "    -1.        ]\n",
      "   [-1.         -1.         -1.         ... -1.         -1.\n",
      "    -1.        ]]]\n",
      "\n",
      "\n",
      " [[[-1.         -1.         -1.         ... -1.         -1.\n",
      "    -1.        ]\n",
      "   [-1.         -1.         -1.         ... -1.         -1.\n",
      "    -1.        ]\n",
      "   [-1.         -1.         -1.         ... -1.         -1.\n",
      "    -1.        ]\n",
      "   ...\n",
      "   [-1.         -1.         -1.         ... -1.         -1.\n",
      "    -1.        ]\n",
      "   [-1.         -1.         -1.         ... -1.         -1.\n",
      "    -1.        ]\n",
      "   [-1.         -1.         -0.95       ... -1.         -1.\n",
      "    -1.        ]]\n",
      "\n",
      "  [[-1.         -1.         -1.         ... -1.         -1.\n",
      "    -1.        ]\n",
      "   [-1.         -1.         -1.         ... -1.         -1.\n",
      "    -1.        ]\n",
      "   [-1.         -1.         -1.         ... -1.         -1.\n",
      "    -1.        ]\n",
      "   ...\n",
      "   [-1.          0.16666675  0.6196079  ... -1.         -1.\n",
      "    -1.        ]\n",
      "   [-1.          0.827451    0.4705882  ... -1.         -1.\n",
      "    -1.        ]\n",
      "   [-1.         -1.          0.40294123 ... -1.         -1.\n",
      "    -1.        ]]\n",
      "\n",
      "  [[-1.         -1.         -1.         ... -1.         -1.\n",
      "    -1.        ]\n",
      "   [-1.         -1.         -1.         ... -1.         -1.\n",
      "    -1.        ]\n",
      "   [-1.         -1.         -1.         ... -1.         -1.\n",
      "    -1.        ]\n",
      "   ...\n",
      "   [-1.         -1.         -0.96875    ... -1.         -1.\n",
      "    -1.        ]\n",
      "   [-1.         -1.         -1.         ... -1.         -1.\n",
      "    -1.        ]\n",
      "   [-1.         -1.         -1.         ... -1.         -1.\n",
      "    -1.        ]]]]\n"
     ]
    }
   ],
   "source": [
    "print(train)"
   ]
  },
  {
   "cell_type": "code",
   "execution_count": 14,
   "metadata": {},
   "outputs": [
    {
     "data": {
      "text/plain": [
       "b'train_data\\\\837.jpg'"
      ]
     },
     "execution_count": 14,
     "metadata": {},
     "output_type": "execute_result"
    }
   ],
   "source": [
    "# 把所有圖片建立成一個Dataset--weather_dataset\n",
    "weather_dataset = tf.data.Dataset.list_files(\"train_data/*.jpg\")\n",
    "# weather_dataset = np.array(weather_dataset)\n",
    "# weather_dataset.shape\n",
    "data_iterator = weather_dataset.as_numpy_iterator()\n",
    "data_iterator.next()"
   ]
  },
  {
   "cell_type": "markdown",
   "metadata": {},
   "source": [
    "Build Nerual Network"
   ]
  },
  {
   "cell_type": "code",
   "execution_count": 15,
   "metadata": {},
   "outputs": [],
   "source": [
    "# Bring in the sequential api for the generator and discriminator\n",
    "from tensorflow.keras.models import Sequential\n",
    "# Bring in the layers for the NN\n",
    "from tensorflow.keras.layers import Conv2D, Dense, Flatten, Reshape, LeakyReLU, Dropout, UpSampling2D\n"
   ]
  },
  {
   "cell_type": "markdown",
   "metadata": {},
   "source": [
    "Build generator"
   ]
  },
  {
   "cell_type": "code",
   "execution_count": 16,
   "metadata": {},
   "outputs": [],
   "source": [
    "def build_generator() :\n",
    "    model = Sequential()\n",
    "\n",
    "    # Beginnings of a generated image\n",
    "    model.add(Dense(8*8*128, input_dim = 128))\n",
    "    model.add(LeakyReLU(0.2))\n",
    "    model.add(Reshape((8, 8, 128)))\n",
    "\n",
    "    # Upsampling block 1\n",
    "    model.add(UpSampling2D())\n",
    "    model.add(Conv2D(128, 5, padding = 'same'))\n",
    "    model.add(LeakyReLU(0.2))\n",
    "\n",
    "    # Upsampling block 2\n",
    "    model.add(UpSampling2D())\n",
    "    model.add(Conv2D(128, 5, padding = 'same'))\n",
    "    model.add(LeakyReLU(0.2))\n",
    "\n",
    "    # Upsampling block 3\n",
    "    model.add(UpSampling2D())\n",
    "    model.add(Conv2D(128, 5, padding = 'same'))\n",
    "    model.add(LeakyReLU(0.2))\n",
    "\n",
    "    # # Upsampling block 4\n",
    "    # model.add(UpSampling2D())\n",
    "    # model.add(Conv2D(128, 5, padding = 'same'))\n",
    "    # model.add(LeakyReLU(0.2))\n",
    "\n",
    "    # # Upsampling block 5\n",
    "    # model.add(UpSampling2D())\n",
    "    # model.add(Conv2D(128, 5, padding = 'same'))\n",
    "    # model.add(LeakyReLU(0.2))\n",
    "\n",
    "    # Convolution block 1\n",
    "    model.add(Conv2D(128, 4, padding = 'same'))\n",
    "    model.add(LeakyReLU(0.2))\n",
    "\n",
    "    # Convolution block 2\n",
    "    model.add(Conv2D(128, 4, padding = 'same'))\n",
    "    model.add(LeakyReLU(0.2))\n",
    "\n",
    "    #Conv layer to get to three channel, because R,G,B\n",
    "    model.add(Conv2D(3, 4, padding = 'same', activation = 'sigmoid'))\n",
    "\n",
    "    return model"
   ]
  },
  {
   "cell_type": "code",
   "execution_count": 17,
   "metadata": {},
   "outputs": [
    {
     "name": "stdout",
     "output_type": "stream",
     "text": [
      "Model: \"sequential\"\n",
      "_________________________________________________________________\n",
      " Layer (type)                Output Shape              Param #   \n",
      "=================================================================\n",
      " dense (Dense)               (None, 8192)              1056768   \n",
      "                                                                 \n",
      " leaky_re_lu (LeakyReLU)     (None, 8192)              0         \n",
      "                                                                 \n",
      " reshape (Reshape)           (None, 8, 8, 128)         0         \n",
      "                                                                 \n",
      " up_sampling2d (UpSampling2D  (None, 16, 16, 128)      0         \n",
      " )                                                               \n",
      "                                                                 \n",
      " conv2d (Conv2D)             (None, 16, 16, 128)       409728    \n",
      "                                                                 \n",
      " leaky_re_lu_1 (LeakyReLU)   (None, 16, 16, 128)       0         \n",
      "                                                                 \n",
      " up_sampling2d_1 (UpSampling  (None, 32, 32, 128)      0         \n",
      " 2D)                                                             \n",
      "                                                                 \n",
      " conv2d_1 (Conv2D)           (None, 32, 32, 128)       409728    \n",
      "                                                                 \n",
      " leaky_re_lu_2 (LeakyReLU)   (None, 32, 32, 128)       0         \n",
      "                                                                 \n",
      " up_sampling2d_2 (UpSampling  (None, 64, 64, 128)      0         \n",
      " 2D)                                                             \n",
      "                                                                 \n",
      " conv2d_2 (Conv2D)           (None, 64, 64, 128)       409728    \n",
      "                                                                 \n",
      " leaky_re_lu_3 (LeakyReLU)   (None, 64, 64, 128)       0         \n",
      "                                                                 \n",
      " conv2d_3 (Conv2D)           (None, 64, 64, 128)       262272    \n",
      "                                                                 \n",
      " leaky_re_lu_4 (LeakyReLU)   (None, 64, 64, 128)       0         \n",
      "                                                                 \n",
      " conv2d_4 (Conv2D)           (None, 64, 64, 128)       262272    \n",
      "                                                                 \n",
      " leaky_re_lu_5 (LeakyReLU)   (None, 64, 64, 128)       0         \n",
      "                                                                 \n",
      " conv2d_5 (Conv2D)           (None, 64, 64, 3)         6147      \n",
      "                                                                 \n",
      "=================================================================\n",
      "Total params: 2,816,643\n",
      "Trainable params: 2,816,643\n",
      "Non-trainable params: 0\n",
      "_________________________________________________________________\n"
     ]
    }
   ],
   "source": [
    "generator = build_generator()\n",
    "generator.summary()"
   ]
  },
  {
   "cell_type": "code",
   "execution_count": 18,
   "metadata": {},
   "outputs": [
    {
     "name": "stdout",
     "output_type": "stream",
     "text": [
      "1/1 [==============================] - 4s 4s/step\n"
     ]
    },
    {
     "data": {
      "text/plain": [
       "array([[[[0.5046213 , 0.501214  , 0.49368125],\n",
       "         [0.50738233, 0.50062174, 0.49452257],\n",
       "         [0.5108559 , 0.5055995 , 0.4952845 ],\n",
       "         ...,\n",
       "         [0.50577706, 0.5041008 , 0.50336677],\n",
       "         [0.5070772 , 0.50258565, 0.5027028 ],\n",
       "         [0.50442094, 0.50015384, 0.5030067 ]],\n",
       "\n",
       "        [[0.50468034, 0.50046164, 0.4940913 ],\n",
       "         [0.50668377, 0.49594146, 0.4934772 ],\n",
       "         [0.5055417 , 0.50086147, 0.4948278 ],\n",
       "         ...,\n",
       "         [0.5022819 , 0.5021623 , 0.50110376],\n",
       "         [0.50456434, 0.50209254, 0.5015728 ],\n",
       "         [0.5039874 , 0.49875358, 0.5034525 ]],\n",
       "\n",
       "        [[0.5039023 , 0.5046405 , 0.49290267],\n",
       "         [0.5042382 , 0.49777624, 0.4896163 ],\n",
       "         [0.50036865, 0.5007762 , 0.492722  ],\n",
       "         ...,\n",
       "         [0.5032239 , 0.50270903, 0.50338686],\n",
       "         [0.50559217, 0.50276124, 0.50224817],\n",
       "         [0.5043171 , 0.49876708, 0.50480014]],\n",
       "\n",
       "        ...,\n",
       "\n",
       "        [[0.5099585 , 0.501906  , 0.49977252],\n",
       "         [0.506615  , 0.50345856, 0.5002763 ],\n",
       "         [0.502835  , 0.50138056, 0.4992043 ],\n",
       "         ...,\n",
       "         [0.50265354, 0.5027814 , 0.5040014 ],\n",
       "         [0.5017099 , 0.5007001 , 0.50210345],\n",
       "         [0.5023582 , 0.5008744 , 0.50301343]],\n",
       "\n",
       "        [[0.5043411 , 0.50271225, 0.5015774 ],\n",
       "         [0.503701  , 0.503401  , 0.500357  ],\n",
       "         [0.5025244 , 0.5025477 , 0.49876115],\n",
       "         ...,\n",
       "         [0.5001145 , 0.50289226, 0.502729  ],\n",
       "         [0.50037944, 0.50115514, 0.50050724],\n",
       "         [0.5002943 , 0.499308  , 0.49971002]],\n",
       "\n",
       "        [[0.50152475, 0.49964228, 0.49937072],\n",
       "         [0.5026813 , 0.49880883, 0.4988817 ],\n",
       "         [0.5024296 , 0.49900967, 0.497757  ],\n",
       "         ...,\n",
       "         [0.5006373 , 0.49900135, 0.49987128],\n",
       "         [0.5004268 , 0.49914923, 0.49952343],\n",
       "         [0.49994063, 0.4988486 , 0.5002291 ]]],\n",
       "\n",
       "\n",
       "       [[[0.5040075 , 0.4984089 , 0.49428776],\n",
       "         [0.5074039 , 0.49773544, 0.49794212],\n",
       "         [0.5130068 , 0.49817705, 0.49673733],\n",
       "         ...,\n",
       "         [0.5014005 , 0.5021596 , 0.50478595],\n",
       "         [0.5002742 , 0.5011447 , 0.5025326 ],\n",
       "         [0.49920648, 0.50073886, 0.50123644]],\n",
       "\n",
       "        [[0.5047847 , 0.49758875, 0.49656397],\n",
       "         [0.5110451 , 0.49431264, 0.49945754],\n",
       "         [0.5149371 , 0.4973886 , 0.4996906 ],\n",
       "         ...,\n",
       "         [0.50163245, 0.50113475, 0.5097749 ],\n",
       "         [0.50123966, 0.50291616, 0.5064327 ],\n",
       "         [0.499723  , 0.5015916 , 0.5053671 ]],\n",
       "\n",
       "        [[0.5091296 , 0.50251746, 0.49279448],\n",
       "         [0.5155257 , 0.49932334, 0.4944722 ],\n",
       "         [0.5134807 , 0.50280017, 0.49449947],\n",
       "         ...,\n",
       "         [0.50452924, 0.5009053 , 0.51133573],\n",
       "         [0.5046412 , 0.5042864 , 0.50703293],\n",
       "         [0.49932274, 0.5026741 , 0.506034  ]],\n",
       "\n",
       "        ...,\n",
       "\n",
       "        [[0.5066834 , 0.49873388, 0.49921504],\n",
       "         [0.5055447 , 0.49999577, 0.50209874],\n",
       "         [0.50512475, 0.49805856, 0.5024221 ],\n",
       "         ...,\n",
       "         [0.5015042 , 0.49825847, 0.5023178 ],\n",
       "         [0.4985047 , 0.50015026, 0.5001437 ],\n",
       "         [0.49844974, 0.49930686, 0.5011444 ]],\n",
       "\n",
       "        [[0.5017409 , 0.49938837, 0.5004111 ],\n",
       "         [0.5002061 , 0.49943006, 0.5021109 ],\n",
       "         [0.4995709 , 0.497366  , 0.5024246 ],\n",
       "         ...,\n",
       "         [0.5011425 , 0.49804908, 0.501955  ],\n",
       "         [0.4997704 , 0.49869984, 0.49957585],\n",
       "         [0.49986508, 0.49857488, 0.50036645]],\n",
       "\n",
       "        [[0.5012328 , 0.49890235, 0.4988804 ],\n",
       "         [0.5013234 , 0.49894115, 0.4975858 ],\n",
       "         [0.49990657, 0.4979566 , 0.49911454],\n",
       "         ...,\n",
       "         [0.5011407 , 0.4964399 , 0.4990279 ],\n",
       "         [0.5002354 , 0.49796152, 0.49785772],\n",
       "         [0.500131  , 0.49807358, 0.49925986]]],\n",
       "\n",
       "\n",
       "       [[[0.5082861 , 0.4968881 , 0.4979163 ],\n",
       "         [0.5146979 , 0.4972901 , 0.49874005],\n",
       "         [0.5170269 , 0.50083417, 0.5002759 ],\n",
       "         ...,\n",
       "         [0.5069703 , 0.50130177, 0.5057813 ],\n",
       "         [0.5040459 , 0.50154686, 0.5026624 ],\n",
       "         [0.50416625, 0.49911654, 0.50291103]],\n",
       "\n",
       "        [[0.5036445 , 0.49368352, 0.49966317],\n",
       "         [0.5081473 , 0.4976367 , 0.50290996],\n",
       "         [0.50967693, 0.5016213 , 0.5047302 ],\n",
       "         ...,\n",
       "         [0.506736  , 0.501556  , 0.5084649 ],\n",
       "         [0.5054603 , 0.5045328 , 0.50498646],\n",
       "         [0.5053739 , 0.499987  , 0.5054197 ]],\n",
       "\n",
       "        [[0.50363636, 0.49716187, 0.5030099 ],\n",
       "         [0.5093813 , 0.50495243, 0.506935  ],\n",
       "         [0.5131717 , 0.5049032 , 0.50435996],\n",
       "         ...,\n",
       "         [0.5093661 , 0.50038177, 0.50914335],\n",
       "         [0.50657284, 0.50340945, 0.5066448 ],\n",
       "         [0.50554067, 0.4986626 , 0.5062137 ]],\n",
       "\n",
       "        ...,\n",
       "\n",
       "        [[0.5080856 , 0.5013211 , 0.49893606],\n",
       "         [0.5088382 , 0.49912345, 0.500013  ],\n",
       "         [0.51007706, 0.5001668 , 0.49692342],\n",
       "         ...,\n",
       "         [0.5019023 , 0.4994061 , 0.50243354],\n",
       "         [0.5009676 , 0.4998333 , 0.50118685],\n",
       "         [0.50251085, 0.5002581 , 0.50297105]],\n",
       "\n",
       "        [[0.5057883 , 0.5003591 , 0.50123197],\n",
       "         [0.5061705 , 0.5016518 , 0.5006115 ],\n",
       "         [0.50599533, 0.49947223, 0.50174737],\n",
       "         ...,\n",
       "         [0.49971822, 0.4997885 , 0.5006715 ],\n",
       "         [0.49940747, 0.4997743 , 0.49924737],\n",
       "         [0.49967524, 0.49916443, 0.50050104]],\n",
       "\n",
       "        [[0.5026678 , 0.4994263 , 0.49833527],\n",
       "         [0.5004195 , 0.49928126, 0.49845612],\n",
       "         [0.50065386, 0.4981444 , 0.5001074 ],\n",
       "         ...,\n",
       "         [0.49991027, 0.49703577, 0.49824136],\n",
       "         [0.4998383 , 0.49726298, 0.4993968 ],\n",
       "         [0.50015914, 0.49785897, 0.50000775]]],\n",
       "\n",
       "\n",
       "       [[[0.50102425, 0.50079554, 0.4930557 ],\n",
       "         [0.5075758 , 0.502592  , 0.4943359 ],\n",
       "         [0.50677234, 0.5069432 , 0.4957699 ],\n",
       "         ...,\n",
       "         [0.50378174, 0.5025462 , 0.50726795],\n",
       "         [0.50361425, 0.50313663, 0.5042769 ],\n",
       "         [0.50312114, 0.5011733 , 0.5036967 ]],\n",
       "\n",
       "        [[0.49947223, 0.49800292, 0.49122855],\n",
       "         [0.50264424, 0.4981057 , 0.4934285 ],\n",
       "         [0.5046    , 0.5016494 , 0.4965621 ],\n",
       "         ...,\n",
       "         [0.5012463 , 0.5014199 , 0.5088294 ],\n",
       "         [0.50386155, 0.5029864 , 0.506046  ],\n",
       "         [0.5035113 , 0.5012461 , 0.50542665]],\n",
       "\n",
       "        [[0.5023742 , 0.49815375, 0.4898904 ],\n",
       "         [0.5040644 , 0.49743167, 0.49157467],\n",
       "         [0.5050986 , 0.5002144 , 0.49481905],\n",
       "         ...,\n",
       "         [0.50296223, 0.50367916, 0.51148856],\n",
       "         [0.50492907, 0.50555354, 0.50801504],\n",
       "         [0.5043601 , 0.5031146 , 0.506351  ]],\n",
       "\n",
       "        ...,\n",
       "\n",
       "        [[0.5038403 , 0.49849442, 0.5020916 ],\n",
       "         [0.5019876 , 0.49972108, 0.50183415],\n",
       "         [0.505174  , 0.4996605 , 0.50013715],\n",
       "         ...,\n",
       "         [0.5000592 , 0.49610233, 0.50059605],\n",
       "         [0.49994695, 0.49853826, 0.49984223],\n",
       "         [0.50135255, 0.50131387, 0.5019067 ]],\n",
       "\n",
       "        [[0.5024337 , 0.49836847, 0.5036197 ],\n",
       "         [0.500475  , 0.49932536, 0.5039767 ],\n",
       "         [0.50295407, 0.49909815, 0.50303143],\n",
       "         ...,\n",
       "         [0.49890128, 0.49785656, 0.50006324],\n",
       "         [0.4992586 , 0.49921575, 0.5003579 ],\n",
       "         [0.5001745 , 0.49985173, 0.5012203 ]],\n",
       "\n",
       "        [[0.500048  , 0.4981877 , 0.50082093],\n",
       "         [0.49901134, 0.4997156 , 0.5002153 ],\n",
       "         [0.49968946, 0.49796394, 0.501662  ],\n",
       "         ...,\n",
       "         [0.49962738, 0.49732715, 0.500202  ],\n",
       "         [0.49943233, 0.49907807, 0.49996465],\n",
       "         [0.50002563, 0.49951792, 0.5002915 ]]]], dtype=float32)"
      ]
     },
     "execution_count": 18,
     "metadata": {},
     "output_type": "execute_result"
    }
   ],
   "source": [
    "img = generator.predict(np.random.randn(4, 128))\n",
    "img"
   ]
  },
  {
   "cell_type": "code",
   "execution_count": 19,
   "metadata": {},
   "outputs": [
    {
     "data": {
      "text/plain": [
       "(4, 64, 64, 3)"
      ]
     },
     "execution_count": 19,
     "metadata": {},
     "output_type": "execute_result"
    }
   ],
   "source": [
    "img.shape"
   ]
  },
  {
   "cell_type": "code",
   "execution_count": 20,
   "metadata": {},
   "outputs": [
    {
     "data": {
      "text/plain": [
       "4"
      ]
     },
     "execution_count": 20,
     "metadata": {},
     "output_type": "execute_result"
    }
   ],
   "source": [
    "len(img)"
   ]
  },
  {
   "cell_type": "code",
   "execution_count": 21,
   "metadata": {},
   "outputs": [],
   "source": [
    "# for i in range(len(img)) :\n",
    "#     plt.imshow(img[i])\n",
    "#     plt.axis('off')\n",
    "#     plt.show()"
   ]
  },
  {
   "cell_type": "markdown",
   "metadata": {},
   "source": [
    "Build Discriminator"
   ]
  },
  {
   "cell_type": "code",
   "execution_count": 22,
   "metadata": {},
   "outputs": [
    {
     "data": {
      "text/plain": [
       "(4, 64, 64, 3)"
      ]
     },
     "execution_count": 22,
     "metadata": {},
     "output_type": "execute_result"
    }
   ],
   "source": [
    "img.shape"
   ]
  },
  {
   "cell_type": "code",
   "execution_count": 23,
   "metadata": {},
   "outputs": [],
   "source": [
    "def build_discriminator() :\n",
    "    model = Sequential()\n",
    "    \n",
    "    # First Conv Block\n",
    "    model.add(Conv2D(32, 5, input_shape = (64, 64, 3)))\n",
    "    model.add(LeakyReLU(0.2))\n",
    "    # Dropout可以降低discriminator訓練的速度\n",
    "    model.add(Dropout(0.4))\n",
    "\n",
    "    # Second Conv Block\n",
    "    model.add(Conv2D(64, 5))\n",
    "    model.add(LeakyReLU(0.2))\n",
    "    model.add(Dropout(0.4))\n",
    "\n",
    "    # Third Conv Block\n",
    "    model.add(Conv2D(128, 5))\n",
    "    model.add(LeakyReLU(0.2))\n",
    "    model.add(Dropout(0.4))\n",
    "\n",
    "    # Fourth Conv Block\n",
    "    model.add(Conv2D(256, 5))\n",
    "    model.add(LeakyReLU(0.2))\n",
    "    model.add(Dropout(0.4))\n",
    "\n",
    "    # # Fifth Conv Block\n",
    "    # model.add(Conv2D(256, 5))\n",
    "    # model.add(LeakyReLU(0.2))\n",
    "    # model.add(Dropout(0.4))\n",
    "\n",
    "    # Flatten then pass to dense layer\n",
    "    model.add(Flatten())\n",
    "    model.add(Dropout(0.4))\n",
    "    model.add(Dense(1, activation = 'sigmoid'))\n",
    "\n",
    "\n",
    "    return model"
   ]
  },
  {
   "cell_type": "code",
   "execution_count": 24,
   "metadata": {},
   "outputs": [
    {
     "data": {
      "text/plain": [
       "(4, 64, 64, 3)"
      ]
     },
     "execution_count": 24,
     "metadata": {},
     "output_type": "execute_result"
    }
   ],
   "source": [
    "img.shape"
   ]
  },
  {
   "cell_type": "code",
   "execution_count": 25,
   "metadata": {},
   "outputs": [],
   "source": [
    "discriminator = build_discriminator()"
   ]
  },
  {
   "cell_type": "code",
   "execution_count": 26,
   "metadata": {},
   "outputs": [
    {
     "name": "stdout",
     "output_type": "stream",
     "text": [
      "Model: \"sequential_1\"\n",
      "_________________________________________________________________\n",
      " Layer (type)                Output Shape              Param #   \n",
      "=================================================================\n",
      " conv2d_6 (Conv2D)           (None, 60, 60, 32)        2432      \n",
      "                                                                 \n",
      " leaky_re_lu_6 (LeakyReLU)   (None, 60, 60, 32)        0         \n",
      "                                                                 \n",
      " dropout (Dropout)           (None, 60, 60, 32)        0         \n",
      "                                                                 \n",
      " conv2d_7 (Conv2D)           (None, 56, 56, 64)        51264     \n",
      "                                                                 \n",
      " leaky_re_lu_7 (LeakyReLU)   (None, 56, 56, 64)        0         \n",
      "                                                                 \n",
      " dropout_1 (Dropout)         (None, 56, 56, 64)        0         \n",
      "                                                                 \n",
      " conv2d_8 (Conv2D)           (None, 52, 52, 128)       204928    \n",
      "                                                                 \n",
      " leaky_re_lu_8 (LeakyReLU)   (None, 52, 52, 128)       0         \n",
      "                                                                 \n",
      " dropout_2 (Dropout)         (None, 52, 52, 128)       0         \n",
      "                                                                 \n",
      " conv2d_9 (Conv2D)           (None, 48, 48, 256)       819456    \n",
      "                                                                 \n",
      " leaky_re_lu_9 (LeakyReLU)   (None, 48, 48, 256)       0         \n",
      "                                                                 \n",
      " dropout_3 (Dropout)         (None, 48, 48, 256)       0         \n",
      "                                                                 \n",
      " flatten (Flatten)           (None, 589824)            0         \n",
      "                                                                 \n",
      " dropout_4 (Dropout)         (None, 589824)            0         \n",
      "                                                                 \n",
      " dense_1 (Dense)             (None, 1)                 589825    \n",
      "                                                                 \n",
      "=================================================================\n",
      "Total params: 1,667,905\n",
      "Trainable params: 1,667,905\n",
      "Non-trainable params: 0\n",
      "_________________________________________________________________\n"
     ]
    }
   ],
   "source": [
    "discriminator.summary()"
   ]
  },
  {
   "cell_type": "code",
   "execution_count": 27,
   "metadata": {},
   "outputs": [
    {
     "name": "stdout",
     "output_type": "stream",
     "text": [
      "1/1 [==============================] - 0s 87ms/step\n"
     ]
    },
    {
     "data": {
      "text/plain": [
       "array([[0.49867707],\n",
       "       [0.49890175],\n",
       "       [0.498848  ],\n",
       "       [0.49874574]], dtype=float32)"
      ]
     },
     "execution_count": 27,
     "metadata": {},
     "output_type": "execute_result"
    }
   ],
   "source": [
    "discriminator.predict(img)"
   ]
  },
  {
   "cell_type": "markdown",
   "metadata": {},
   "source": [
    "Training Loop"
   ]
  },
  {
   "cell_type": "markdown",
   "metadata": {},
   "source": [
    "Setup Losses and Optimizers"
   ]
  },
  {
   "cell_type": "code",
   "execution_count": 28,
   "metadata": {},
   "outputs": [],
   "source": [
    "from tensorflow.keras.optimizers import Adam\n",
    "from tensorflow.keras.losses import BinaryCrossentropy"
   ]
  },
  {
   "cell_type": "code",
   "execution_count": 29,
   "metadata": {},
   "outputs": [],
   "source": [
    "# determine g & d's optimizer\n",
    "generator_opt = Adam(learning_rate=0.0001)\n",
    "discirminator_opt = Adam(learning_rate=0.00001)\n",
    "# determine g & d's losses\n",
    "generator_loss = BinaryCrossentropy()\n",
    "discriminator_loss = BinaryCrossentropy()"
   ]
  },
  {
   "cell_type": "markdown",
   "metadata": {},
   "source": [
    "Build Subclassed Model"
   ]
  },
  {
   "cell_type": "code",
   "execution_count": 30,
   "metadata": {},
   "outputs": [],
   "source": [
    "# improting the base model class to subclass our training step\n",
    "from tensorflow.keras.models import Model"
   ]
  },
  {
   "cell_type": "code",
   "execution_count": 31,
   "metadata": {},
   "outputs": [],
   "source": [
    "class WeatherGAN(Model) : \n",
    "    # *args = any positional arg, **kwargs = keyboard args, those two parameters are make our function flexible\n",
    "    def __init__(self, generator, discriminator, *args, **kwargs) :\n",
    "        # Pass through args and kwargs to base class\n",
    "        super().__init__(*args, **kwargs)\n",
    "\n",
    "        # Create attribute for gen and dis\n",
    "        self.generator = generator\n",
    "        self.discriminator = discriminator\n",
    "\n",
    "    def compile(self, generator_opt, discirminator_opt, generator_loss, discriminator_loss, *args, **kwargs) :\n",
    "        # Compile with base class\n",
    "        super().compile(*args, **kwargs)\n",
    "\n",
    "        # Create attributes for optimizer and losses\n",
    "        self.generator_opt = generator_opt\n",
    "        self.discriminator_opt = discirminator_opt\n",
    "        self.generator_loss = generator_loss\n",
    "        self.discriminator_loss = discriminator_loss\n",
    "\n",
    "    def train_step(self, batch) :\n",
    "        # Get the data\n",
    "        real_images = batch\n",
    "        # Use generator to prediction fake image\n",
    "        fake_images = self.generator(tf.random.normal((128, 128)), training = False)\n",
    "\n",
    "        # Train the discriminator\n",
    "        with tf.GradientTape() as d_tape :\n",
    "            # Pass the real and fake images to the discriminator model\n",
    "            real_images = tf.transpose(real_images, perm=[0, 3, 2, 1]) # Change the dimension to (None, 3, 256, 256)\n",
    "            yhat_real = self.discriminator(real_images, training = True)\n",
    "            yhat_fake = self.discriminator(fake_images, training = True)\n",
    "            yhat_real_fake = tf.concat([yhat_real, yhat_fake], axis = 0) # Predictions(label) from discriminator\n",
    "\n",
    "            # Create labels for the real and fake image\n",
    "            y_real_fake = tf.concat([tf.zeros_like(yhat_real), tf.ones_like(yhat_fake)], axis = 0) # Actual label, real image label = 0, fake image label = 1\n",
    "\n",
    "            # Add some noise to the TRUE outputs\n",
    "            noise_real = 0.15 * tf.random.uniform(tf.shape(yhat_real)) # Uniform distribution\n",
    "            noise_fake = -0.15 * tf.random.uniform(tf.shape(yhat_fake))\n",
    "            y_real_fake += tf.concat([noise_real, noise_fake], axis = 0)\n",
    "\n",
    "            # Calculate loss - BinaryCorss\n",
    "            total_d_loss = self.discriminator_loss(y_real_fake, yhat_real_fake)\n",
    "\n",
    "        # Apply backpropagation, nn learn. trainable_variables = the variable we want to calculate the gradients\n",
    "        d_gradients = d_tape.gradient(total_d_loss, self.discriminator.trainable_variables) # Calculate gradient\n",
    "        self.discriminator_opt.apply_gradients(zip(d_gradients, self.discriminator.trainable_variables)) # Apply gradients using optimizer\n",
    "\n",
    "        # Train the generator\n",
    "        with tf.GradientTape() as g_tape :\n",
    "            # Generator some nwe images\n",
    "            gene_images = self.generator(tf.random.normal((128, 128)), training = True)\n",
    "\n",
    "            # Create the predicted labels, running our gene_images through the discriminator\n",
    "            predicted_labels = self.discriminator(gene_images, training = False)\n",
    "\n",
    "            # Calculate loss - trick to training to fake out the discriminator\n",
    "            total_g_loss = self.generator_loss(tf.zeros_like(predicted_labels), predicted_labels)\n",
    "\n",
    "        # Apply backpropagation\n",
    "        g_gradients = g_tape.gradient(total_g_loss, self.generator.trainable_variables)\n",
    "        self.generator_opt.apply_gradients(zip(g_gradients, self.generator.trainable_variables))\n",
    "\n",
    "        return {\"discriminator_loss\":total_d_loss, \"generator_loss\":total_g_loss}\n",
    "    # test & evaluation something\n",
    "    def test_step(self) :\n",
    "            pass\n",
    "    "
   ]
  },
  {
   "cell_type": "code",
   "execution_count": 32,
   "metadata": {},
   "outputs": [],
   "source": [
    "# Create instance of subclass model\n",
    "weatherGan = WeatherGAN(generator, discriminator)"
   ]
  },
  {
   "cell_type": "code",
   "execution_count": 33,
   "metadata": {},
   "outputs": [],
   "source": [
    "# Compile the model\n",
    "weatherGan.compile(generator_opt, discirminator_opt, generator_loss, discriminator_loss)"
   ]
  },
  {
   "cell_type": "markdown",
   "metadata": {},
   "source": [
    "Build Callback"
   ]
  },
  {
   "cell_type": "code",
   "execution_count": 34,
   "metadata": {},
   "outputs": [],
   "source": [
    "# import os -> helps with folder navigation (import previously)\n",
    "from tensorflow.keras.preprocessing.image import array_to_img\n",
    "from tensorflow.keras.callbacks import Callback # Create out own custom callback on epoch"
   ]
  },
  {
   "cell_type": "code",
   "execution_count": 35,
   "metadata": {},
   "outputs": [],
   "source": [
    "class ModelMonitor(Callback) :\n",
    "    def __init__(self, num_img = 3, latent_dim = 128) : # latent_dim -> the random value that i passing to generator to generator a random image, num_img -> how much need to generate\n",
    "        self.num_img = num_img\n",
    "        self.latent_dim = latent_dim\n",
    "\n",
    "    def on_epoch_end(self, epoch, logs = None) :\n",
    "        random_latent_vectors = tf.random.uniform((self.num_img, self.latent_dim))\n",
    "        generated_img = self.model.generator(random_latent_vectors)\n",
    "        generated_img *= 255\n",
    "        generated_img.numpy()\n",
    "        for i in range(self.num_img) :\n",
    "            img = array_to_img(generated_img[i])\n",
    "            img.save(os.path.join('generated_images_64_64', f'generated_img_{epoch}_{i}.png'))\n"
   ]
  },
  {
   "cell_type": "markdown",
   "metadata": {},
   "source": [
    "Train"
   ]
  },
  {
   "cell_type": "code",
   "execution_count": 36,
   "metadata": {},
   "outputs": [
    {
     "data": {
      "text/plain": [
       "array([[[[-1.        , -1.        , -1.        , ..., -1.        ,\n",
       "          -1.        , -1.        ],\n",
       "         [-1.        , -1.        , -1.        , ..., -1.        ,\n",
       "          -1.        , -1.        ],\n",
       "         [-1.        , -1.        , -1.        , ..., -1.        ,\n",
       "          -1.        , -1.        ],\n",
       "         ...,\n",
       "         [-1.        , -1.        , -1.        , ..., -1.        ,\n",
       "          -1.        , -1.        ],\n",
       "         [-1.        , -1.        , -1.        , ..., -1.        ,\n",
       "          -1.        , -1.        ],\n",
       "         [-1.        , -1.        , -1.        , ..., -1.        ,\n",
       "          -1.        , -1.        ]],\n",
       "\n",
       "        [[-1.        , -1.        , -1.        , ..., -1.        ,\n",
       "          -1.        , -1.        ],\n",
       "         [-1.        , -1.        , -1.        , ..., -1.        ,\n",
       "          -1.        , -1.        ],\n",
       "         [-1.        , -1.        , -1.        , ..., -1.        ,\n",
       "          -1.        , -1.        ],\n",
       "         ...,\n",
       "         [-1.        , -1.        ,  0.4876225 , ..., -1.        ,\n",
       "          -1.        , -1.        ],\n",
       "         [-1.        , -1.        , -1.        , ..., -1.        ,\n",
       "          -1.        , -1.        ],\n",
       "         [-1.        , -1.        , -1.        , ..., -1.        ,\n",
       "          -1.        , -1.        ]],\n",
       "\n",
       "        [[-1.        , -1.        , -1.        , ..., -1.        ,\n",
       "          -1.        , -1.        ],\n",
       "         [-1.        , -1.        , -1.        , ..., -1.        ,\n",
       "          -1.        , -1.        ],\n",
       "         [-1.        , -1.        , -1.        , ..., -1.        ,\n",
       "          -1.        , -1.        ],\n",
       "         ...,\n",
       "         [-1.        , -1.        , -1.        , ..., -1.        ,\n",
       "          -1.        , -1.        ],\n",
       "         [-1.        , -1.        , -1.        , ..., -1.        ,\n",
       "          -1.        , -1.        ],\n",
       "         [-1.        , -1.        , -1.        , ..., -1.        ,\n",
       "          -1.        , -1.        ]]],\n",
       "\n",
       "\n",
       "       [[[-1.        , -1.        , -1.        , ..., -1.        ,\n",
       "          -1.        , -1.        ],\n",
       "         [-1.        , -1.        , -1.        , ..., -1.        ,\n",
       "          -1.        , -1.        ],\n",
       "         [-1.        , -1.        , -1.        , ..., -1.        ,\n",
       "          -1.        , -1.        ],\n",
       "         ...,\n",
       "         [-1.        , -1.        , -0.95625   , ..., -1.        ,\n",
       "          -1.        , -1.        ],\n",
       "         [-1.        , -1.        , -1.        , ..., -1.        ,\n",
       "          -1.        , -1.        ],\n",
       "         [-1.        , -1.        , -1.        , ..., -1.        ,\n",
       "          -1.        , -1.        ]],\n",
       "\n",
       "        [[-1.        , -1.        , -1.        , ..., -1.        ,\n",
       "          -1.        , -1.        ],\n",
       "         [-1.        , -1.        , -1.        , ..., -1.        ,\n",
       "          -1.        , -1.        ],\n",
       "         [-1.        , -1.        , -1.        , ..., -1.        ,\n",
       "          -1.        , -1.        ],\n",
       "         ...,\n",
       "         [-1.        , -1.        ,  0.1957109 , ..., -1.        ,\n",
       "          -1.        , -1.        ],\n",
       "         [-1.        , -1.        , -1.        , ..., -1.        ,\n",
       "          -1.        , -1.        ],\n",
       "         [-1.        , -1.        ,  0.48039222, ..., -1.        ,\n",
       "          -1.        , -1.        ]],\n",
       "\n",
       "        [[-1.        , -1.        , -1.        , ..., -1.        ,\n",
       "          -1.        , -1.        ],\n",
       "         [-1.        , -1.        , -1.        , ..., -1.        ,\n",
       "          -1.        , -1.        ],\n",
       "         [-1.        , -1.        , -1.        , ..., -1.        ,\n",
       "          -1.        , -1.        ],\n",
       "         ...,\n",
       "         [-1.        , -1.        , -1.        , ..., -1.        ,\n",
       "          -1.        , -1.        ],\n",
       "         [-1.        , -1.        , -1.        , ..., -1.        ,\n",
       "          -1.        , -1.        ],\n",
       "         [-1.        , -1.        , -1.        , ..., -1.        ,\n",
       "          -1.        , -1.        ]]],\n",
       "\n",
       "\n",
       "       [[[-1.        , -1.        , -1.        , ..., -1.        ,\n",
       "          -1.        , -1.        ],\n",
       "         [-1.        , -1.        , -1.        , ..., -1.        ,\n",
       "          -1.        , -1.        ],\n",
       "         [-1.        , -1.        , -1.        , ..., -1.        ,\n",
       "          -1.        , -1.        ],\n",
       "         ...,\n",
       "         [-1.        , -1.        , -1.        , ..., -1.        ,\n",
       "          -1.        , -1.        ],\n",
       "         [-1.        , -1.        , -1.        , ..., -1.        ,\n",
       "          -1.        , -1.        ],\n",
       "         [-1.        , -1.        , -1.        , ..., -1.        ,\n",
       "          -1.        , -1.        ]],\n",
       "\n",
       "        [[-1.        , -1.        , -1.        , ..., -1.        ,\n",
       "          -1.        , -1.        ],\n",
       "         [-1.        , -1.        , -1.        , ..., -1.        ,\n",
       "          -1.        , -1.        ],\n",
       "         [-1.        , -1.        , -1.        , ..., -1.        ,\n",
       "          -1.        , -1.        ],\n",
       "         ...,\n",
       "         [-1.        , -1.        ,  0.54558825, ..., -1.        ,\n",
       "          -1.        , -1.        ],\n",
       "         [-1.        , -1.        ,  0.30392158, ..., -1.        ,\n",
       "          -1.        , -1.        ],\n",
       "         [-1.        , -1.        , -1.        , ..., -1.        ,\n",
       "          -1.        , -1.        ]],\n",
       "\n",
       "        [[-1.        , -1.        , -1.        , ..., -1.        ,\n",
       "          -1.        , -1.        ],\n",
       "         [-1.        , -1.        , -1.        , ..., -1.        ,\n",
       "          -1.        , -1.        ],\n",
       "         [-1.        , -1.        , -1.        , ..., -1.        ,\n",
       "          -1.        , -1.        ],\n",
       "         ...,\n",
       "         [-1.        , -1.        , -1.        , ..., -1.        ,\n",
       "          -1.        , -1.        ],\n",
       "         [-1.        , -1.        , -1.        , ..., -1.        ,\n",
       "          -1.        , -1.        ],\n",
       "         [-1.        , -1.        , -1.        , ..., -1.        ,\n",
       "          -1.        , -1.        ]]],\n",
       "\n",
       "\n",
       "       ...,\n",
       "\n",
       "\n",
       "       [[[-1.        , -1.        , -1.        , ..., -1.        ,\n",
       "          -1.        , -1.        ],\n",
       "         [-1.        , -1.        , -1.        , ..., -1.        ,\n",
       "          -1.        , -1.        ],\n",
       "         [-1.        , -1.        , -1.        , ..., -1.        ,\n",
       "          -1.        , -1.        ],\n",
       "         ...,\n",
       "         [-1.        , -1.        , -1.        , ..., -1.        ,\n",
       "          -1.        , -1.        ],\n",
       "         [-1.        , -1.        , -1.        , ..., -1.        ,\n",
       "          -1.        , -1.        ],\n",
       "         [-1.        , -1.        , -1.        , ..., -1.        ,\n",
       "          -1.        , -1.        ]],\n",
       "\n",
       "        [[-1.        , -1.        , -1.        , ..., -1.        ,\n",
       "          -1.        , -1.        ],\n",
       "         [-1.        , -1.        , -1.        , ..., -1.        ,\n",
       "          -1.        , -1.        ],\n",
       "         [-1.        , -1.        , -1.        , ..., -1.        ,\n",
       "          -1.        , -1.        ],\n",
       "         ...,\n",
       "         [ 0.33333337,  0.80588245, -1.        , ..., -1.        ,\n",
       "          -1.        , -1.        ],\n",
       "         [ 0.41176474,  0.654902  ,  0.7303922 , ..., -1.        ,\n",
       "          -1.        , -1.        ],\n",
       "         [-1.        , -1.        ,  0.61176467, ..., -1.        ,\n",
       "          -1.        , -1.        ]],\n",
       "\n",
       "        [[-1.        , -1.        , -1.        , ..., -1.        ,\n",
       "          -1.        , -1.        ],\n",
       "         [-1.        , -1.        , -1.        , ..., -1.        ,\n",
       "          -1.        , -1.        ],\n",
       "         [-1.        , -1.        , -1.        , ..., -1.        ,\n",
       "          -1.        , -1.        ],\n",
       "         ...,\n",
       "         [-1.        , -1.        , -1.        , ..., -1.        ,\n",
       "          -1.        , -1.        ],\n",
       "         [-1.        , -1.        , -1.        , ..., -1.        ,\n",
       "          -1.        , -1.        ],\n",
       "         [-1.        , -1.        , -1.        , ..., -1.        ,\n",
       "          -1.        , -1.        ]]],\n",
       "\n",
       "\n",
       "       [[[-1.        , -1.        , -1.        , ..., -1.        ,\n",
       "          -1.        , -1.        ],\n",
       "         [-1.        , -1.        , -1.        , ..., -1.        ,\n",
       "          -1.        , -1.        ],\n",
       "         [-1.        , -1.        , -1.        , ..., -1.        ,\n",
       "          -1.        , -1.        ],\n",
       "         ...,\n",
       "         [-1.        , -1.        , -0.40625   , ..., -1.        ,\n",
       "          -1.        , -1.        ],\n",
       "         [-1.        , -1.        ,  1.        , ..., -1.        ,\n",
       "          -1.        , -1.        ],\n",
       "         [-1.        , -1.        , -1.        , ..., -1.        ,\n",
       "          -1.        , -1.        ]],\n",
       "\n",
       "        [[-1.        , -1.        , -1.        , ..., -1.        ,\n",
       "          -1.        , -1.        ],\n",
       "         [-1.        , -1.        , -1.        , ..., -1.        ,\n",
       "          -1.        , -1.        ],\n",
       "         [-1.        , -1.        , -1.        , ..., -1.        ,\n",
       "          -1.        , -1.        ],\n",
       "         ...,\n",
       "         [-1.        ,  0.687255  ,  0.41151953, ..., -1.        ,\n",
       "          -1.        , -1.        ],\n",
       "         [-1.        ,  0.5686275 ,  0.98921573, ..., -1.        ,\n",
       "          -1.        , -1.        ],\n",
       "         [-1.        , -1.        ,  0.71960783, ..., -1.        ,\n",
       "          -1.        , -1.        ]],\n",
       "\n",
       "        [[-1.        , -1.        , -1.        , ..., -1.        ,\n",
       "          -1.        , -1.        ],\n",
       "         [-1.        , -1.        , -1.        , ..., -1.        ,\n",
       "          -1.        , -1.        ],\n",
       "         [-1.        , -1.        , -1.        , ..., -1.        ,\n",
       "          -1.        , -1.        ],\n",
       "         ...,\n",
       "         [-1.        , -1.        , -1.        , ..., -1.        ,\n",
       "          -1.        , -1.        ],\n",
       "         [-1.        , -1.        , -1.        , ..., -1.        ,\n",
       "          -1.        , -1.        ],\n",
       "         [-1.        , -1.        , -1.        , ..., -1.        ,\n",
       "          -1.        , -1.        ]]],\n",
       "\n",
       "\n",
       "       [[[-1.        , -1.        , -1.        , ..., -1.        ,\n",
       "          -1.        , -1.        ],\n",
       "         [-1.        , -1.        , -1.        , ..., -1.        ,\n",
       "          -1.        , -1.        ],\n",
       "         [-1.        , -1.        , -1.        , ..., -1.        ,\n",
       "          -1.        , -1.        ],\n",
       "         ...,\n",
       "         [-1.        , -1.        , -1.        , ..., -1.        ,\n",
       "          -1.        , -1.        ],\n",
       "         [-1.        , -1.        , -1.        , ..., -1.        ,\n",
       "          -1.        , -1.        ],\n",
       "         [-1.        , -1.        , -0.95      , ..., -1.        ,\n",
       "          -1.        , -1.        ]],\n",
       "\n",
       "        [[-1.        , -1.        , -1.        , ..., -1.        ,\n",
       "          -1.        , -1.        ],\n",
       "         [-1.        , -1.        , -1.        , ..., -1.        ,\n",
       "          -1.        , -1.        ],\n",
       "         [-1.        , -1.        , -1.        , ..., -1.        ,\n",
       "          -1.        , -1.        ],\n",
       "         ...,\n",
       "         [-1.        ,  0.16666675,  0.6196079 , ..., -1.        ,\n",
       "          -1.        , -1.        ],\n",
       "         [-1.        ,  0.827451  ,  0.4705882 , ..., -1.        ,\n",
       "          -1.        , -1.        ],\n",
       "         [-1.        , -1.        ,  0.40294123, ..., -1.        ,\n",
       "          -1.        , -1.        ]],\n",
       "\n",
       "        [[-1.        , -1.        , -1.        , ..., -1.        ,\n",
       "          -1.        , -1.        ],\n",
       "         [-1.        , -1.        , -1.        , ..., -1.        ,\n",
       "          -1.        , -1.        ],\n",
       "         [-1.        , -1.        , -1.        , ..., -1.        ,\n",
       "          -1.        , -1.        ],\n",
       "         ...,\n",
       "         [-1.        , -1.        , -0.96875   , ..., -1.        ,\n",
       "          -1.        , -1.        ],\n",
       "         [-1.        , -1.        , -1.        , ..., -1.        ,\n",
       "          -1.        , -1.        ],\n",
       "         [-1.        , -1.        , -1.        , ..., -1.        ,\n",
       "          -1.        , -1.        ]]]], dtype=float32)"
      ]
     },
     "execution_count": 36,
     "metadata": {},
     "output_type": "execute_result"
    }
   ],
   "source": [
    "train"
   ]
  },
  {
   "cell_type": "code",
   "execution_count": 37,
   "metadata": {},
   "outputs": [
    {
     "data": {
      "text/plain": [
       "(8, 3, 64, 64)"
      ]
     },
     "execution_count": 37,
     "metadata": {},
     "output_type": "execute_result"
    }
   ],
   "source": [
    "train.shape"
   ]
  },
  {
   "cell_type": "code",
   "execution_count": 38,
   "metadata": {},
   "outputs": [
    {
     "name": "stdout",
     "output_type": "stream",
     "text": [
      "Epoch 1/10\n"
     ]
    },
    {
     "name": "stdout",
     "output_type": "stream",
     "text": [
      "8/8 [==============================] - 1873s 18s/step - discriminator_loss: 0.5711 - generator_loss: 0.8356\n",
      "Epoch 2/10\n",
      "8/8 [==============================] - 139s 17s/step - discriminator_loss: 0.6963 - generator_loss: 0.7057\n",
      "Epoch 3/10\n",
      "8/8 [==============================] - 145s 18s/step - discriminator_loss: 0.7054 - generator_loss: 0.7038\n",
      "Epoch 4/10\n",
      "8/8 [==============================] - 157s 20s/step - discriminator_loss: 0.6978 - generator_loss: 0.7100\n",
      "Epoch 5/10\n",
      "8/8 [==============================] - 159s 19s/step - discriminator_loss: 0.6895 - generator_loss: 0.7162\n",
      "Epoch 6/10\n",
      "8/8 [==============================] - 154s 19s/step - discriminator_loss: 0.6809 - generator_loss: 0.7228\n",
      "Epoch 7/10\n",
      "8/8 [==============================] - 153s 19s/step - discriminator_loss: 0.6714 - generator_loss: 0.7303\n",
      "Epoch 8/10\n",
      "8/8 [==============================] - 147s 18s/step - discriminator_loss: 0.6611 - generator_loss: 0.7401\n",
      "Epoch 9/10\n",
      "8/8 [==============================] - 141s 18s/step - discriminator_loss: 0.6495 - generator_loss: 0.7535\n",
      "Epoch 10/10\n",
      "8/8 [==============================] - 139s 17s/step - discriminator_loss: 0.6329 - generator_loss: 0.7733\n"
     ]
    }
   ],
   "source": [
    "# Recommend 2000 epochs\n",
    "#hist = weatherGan.fit(train, batch_size=8, epochs=20)\n",
    "hist = weatherGan.fit(train, batch_size=1, epochs=10, callbacks=[ModelMonitor()])"
   ]
  }
 ],
 "metadata": {
  "kernelspec": {
   "display_name": "Python 3",
   "language": "python",
   "name": "python3"
  },
  "language_info": {
   "codemirror_mode": {
    "name": "ipython",
    "version": 3
   },
   "file_extension": ".py",
   "mimetype": "text/x-python",
   "name": "python",
   "nbconvert_exporter": "python",
   "pygments_lexer": "ipython3",
   "version": "3.7.16"
  },
  "orig_nbformat": 4
 },
 "nbformat": 4,
 "nbformat_minor": 2
}
