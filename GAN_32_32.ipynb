{
 "cells": [
  {
   "cell_type": "code",
   "execution_count": 1,
   "metadata": {},
   "outputs": [
    {
     "name": "stderr",
     "output_type": "stream",
     "text": [
      "c:\\ProgramData\\anaconda3\\envs\\weather-GAN\\lib\\site-packages\\tqdm\\auto.py:22: TqdmWarning: IProgress not found. Please update jupyter and ipywidgets. See https://ipywidgets.readthedocs.io/en/stable/user_install.html\n",
      "  from .autonotebook import tqdm as notebook_tqdm\n"
     ]
    }
   ],
   "source": [
    "from torch.utils.data import Dataset, DataLoader\n",
    "from torchvision import datasets\n",
    "from torchvision import transforms\n",
    "from torchvision.io import read_image\n",
    "import tensorflow as tf\n",
    "import numpy as np\n",
    "import os\n",
    "import pandas as pd #資料處理\n",
    "import torch\n",
    "import matplotlib.pyplot as plt\n",
    "from PIL import Image\n",
    "\n",
    "# 設定dataset路徑\n",
    "project_path = r\"D:\\NTUT\\Weather_AI\\self-project\\GAN\\weather-GAN\"\n",
    "train_data_path = str(project_path + r\"\\train_data\")\n",
    "output_data_path = str(project_path + r\"output_data\")\n"
   ]
  },
  {
   "cell_type": "code",
   "execution_count": 2,
   "metadata": {},
   "outputs": [
    {
     "name": "stdout",
     "output_type": "stream",
     "text": [
      "[name: \"/device:CPU:0\"\n",
      "device_type: \"CPU\"\n",
      "memory_limit: 268435456\n",
      "locality {\n",
      "}\n",
      "incarnation: 7046810191873119459\n",
      "xla_global_id: -1\n",
      ", name: \"/device:GPU:0\"\n",
      "device_type: \"GPU\"\n",
      "memory_limit: 5748293632\n",
      "locality {\n",
      "  bus_id: 1\n",
      "  links {\n",
      "  }\n",
      "}\n",
      "incarnation: 5961373659495957857\n",
      "physical_device_desc: \"device: 0, name: NVIDIA GeForce RTX 3060 Ti, pci bus id: 0000:01:00.0, compute capability: 8.6\"\n",
      "xla_global_id: 416903419\n",
      "]\n"
     ]
    }
   ],
   "source": [
    "from tensorflow.python.client import device_lib\n",
    "print(device_lib.list_local_devices())"
   ]
  },
  {
   "cell_type": "code",
   "execution_count": 3,
   "metadata": {},
   "outputs": [],
   "source": [
    "# Setup GPU\n",
    "gpus = tf.config.list_physical_devices('GPU')\n",
    "for gpu in gpus :\n",
    "    tf.config.experimental.set_memory_growth(gpu, True)"
   ]
  },
  {
   "cell_type": "code",
   "execution_count": 4,
   "metadata": {},
   "outputs": [
    {
     "name": "stdout",
     "output_type": "stream",
     "text": [
      "PhysicalDevice(name='/physical_device:GPU:0', device_type='GPU')\n"
     ]
    }
   ],
   "source": [
    "for gpu in gpus :\n",
    "    print(gpu)"
   ]
  },
  {
   "cell_type": "code",
   "execution_count": 5,
   "metadata": {},
   "outputs": [
    {
     "name": "stdout",
     "output_type": "stream",
     "text": [
      "Num GPUs Available:  1\n"
     ]
    }
   ],
   "source": [
    "print(\"Num GPUs Available: \", len(tf.config.list_physical_devices('GPU')))"
   ]
  },
  {
   "cell_type": "code",
   "execution_count": 6,
   "metadata": {},
   "outputs": [
    {
     "name": "stdout",
     "output_type": "stream",
     "text": [
      "torch.Size([4, 3, 32, 32])\n"
     ]
    }
   ],
   "source": [
    "transform = transforms.Compose([\n",
    "    transforms.ToTensor(),\n",
    "    transforms.Resize((32, 32)),\n",
    "    transforms.Normalize((0.5, 0.5, 0.5), (0.5, 0.5, 0.5))\n",
    "])\n",
    "class My_Dataset(Dataset) :\n",
    "    def __init__(self, path, transform=None) :\n",
    "        super().__init__()\n",
    "        self.image_files = os.listdir(path)\n",
    "        self.list_files = []\n",
    "        for file in self.image_files :\n",
    "            self.list_files.append(os.path.join(path, file))\n",
    "\n",
    "    # Indicate the total size of the dataset\n",
    "    def __len__(self) :\n",
    "        return len(self.image_files)\n",
    "    \n",
    "    # 1. Read from file (using numpy.fromfile, PIL.Image.open)\n",
    "    # 2. Preprocess the data (torchvision.Transform).\n",
    "    # 3. Return the data (e.g. image and label)\n",
    "    def __getitem__(self, index) :\n",
    "        image = Image.open(self.list_files[index]).convert('RGB')\n",
    "        if transform is None :\n",
    "            return image\n",
    "        else :\n",
    "            image = transform(image)\n",
    "            return image\n",
    "\n",
    "#讀取圖片，一次四張\n",
    "if __name__ == '__main__' :\n",
    "    #path_image = r\"D:\\NTUT\\Weather_AI\\self-project\\GAN\\weather-GAN\\train_data\"\n",
    "    path_image = train_data_path\n",
    "    train_data = My_Dataset(path_image, transform=transform)\n",
    "    train_dataloader = DataLoader(train_data, batch_size=4, shuffle=True)\n",
    "    for image in train_dataloader :\n",
    "        print(image.shape)\n",
    "        #4(張), 3(RGB三通道), 3600(長), 3600(寬)縮成256*256\n",
    "        break"
   ]
  },
  {
   "cell_type": "code",
   "execution_count": 7,
   "metadata": {},
   "outputs": [],
   "source": [
    "# 切割資料集\n",
    "from sklearn.model_selection import train_test_split\n",
    "\n",
    "train, test = train_test_split(image, test_size = 0.2, random_state = 42)"
   ]
  },
  {
   "cell_type": "code",
   "execution_count": 8,
   "metadata": {},
   "outputs": [
    {
     "data": {
      "text/plain": [
       "((3, 3, 32, 32), (1, 3, 32, 32))"
      ]
     },
     "execution_count": 8,
     "metadata": {},
     "output_type": "execute_result"
    }
   ],
   "source": [
    "train = np.array(train)\n",
    "test = np.array(test)\n",
    "\n",
    "train.shape, test.shape"
   ]
  },
  {
   "cell_type": "code",
   "execution_count": 9,
   "metadata": {},
   "outputs": [
    {
     "name": "stderr",
     "output_type": "stream",
     "text": [
      "Clipping input data to the valid range for imshow with RGB data ([0..1] for floats or [0..255] for integers).\n"
     ]
    },
    {
     "data": {
      "image/png": "[encoded data removed]",
      "text/plain": [
       "<Figure size 640x480 with 1 Axes>"
      ]
     },
     "metadata": {},
     "output_type": "display_data"
    }
   ],
   "source": [
    "\n",
    "plt.imshow(np.transpose(test[0], (1, 2, 0)))\n",
    "plt.axis('off')\n",
    "plt.show()"
   ]
  },
  {
   "cell_type": "code",
   "execution_count": 10,
   "metadata": {},
   "outputs": [
    {
     "name": "stderr",
     "output_type": "stream",
     "text": [
      "Clipping input data to the valid range for imshow with RGB data ([0..1] for floats or [0..255] for integers).\n"
     ]
    },
    {
     "data": {
      "image/png": "[encoded data removed]",
      "text/plain": [
       "<Figure size 640x480 with 1 Axes>"
      ]
     },
     "metadata": {},
     "output_type": "display_data"
    },
    {
     "name": "stderr",
     "output_type": "stream",
     "text": [
      "Clipping input data to the valid range for imshow with RGB data ([0..1] for floats or [0..255] for integers).\n"
     ]
    },
    {
     "data": {
      "image/png": "[encoded data removed]",
      "text/plain": [
       "<Figure size 640x480 with 1 Axes>"
      ]
     },
     "metadata": {},
     "output_type": "display_data"
    },
    {
     "name": "stderr",
     "output_type": "stream",
     "text": [
      "Clipping input data to the valid range for imshow with RGB data ([0..1] for floats or [0..255] for integers).\n"
     ]
    },
    {
     "data": {
      "image/png": "[encoded data removed]",
      "text/plain": [
       "<Figure size 640x480 with 1 Axes>"
      ]
     },
     "metadata": {},
     "output_type": "display_data"
    }
   ],
   "source": [
    "for i in range(len(train)) :\n",
    "    plt.imshow(np.transpose(train[i], (1, 2, 0)))\n",
    "    plt.axis('off')\n",
    "    plt.show()"
   ]
  },
  {
   "cell_type": "code",
   "execution_count": 11,
   "metadata": {},
   "outputs": [
    {
     "name": "stdout",
     "output_type": "stream",
     "text": [
      "[[[[-1.         -1.         -1.         ... -1.         -1.\n",
      "    -1.        ]\n",
      "   [-1.         -1.         -1.         ...  0.6        -1.\n",
      "    -1.        ]\n",
      "   [-1.         -1.         -1.         ... -0.19999999  1.\n",
      "    -1.        ]\n",
      "   ...\n",
      "   [-1.         -1.         -1.         ... -1.         -1.\n",
      "    -1.        ]\n",
      "   [-1.         -1.         -1.         ... -1.         -1.\n",
      "    -1.        ]\n",
      "   [-1.         -1.         -1.         ... -1.         -1.\n",
      "    -1.        ]]\n",
      "\n",
      "  [[-1.         -1.         -1.         ...  0.7411765  -1.\n",
      "    -1.        ]\n",
      "   [-1.         -1.         -1.         ...  0.8352941   0.5686275\n",
      "    -1.        ]\n",
      "   [-1.         -1.         -1.         ...  0.5058824   1.\n",
      "     0.4901961 ]\n",
      "   ...\n",
      "   [-1.         -1.         -1.         ... -1.         -1.\n",
      "    -1.        ]\n",
      "   [-1.         -1.         -1.         ... -1.         -1.\n",
      "    -1.        ]\n",
      "   [-1.         -1.         -1.         ... -1.         -1.\n",
      "    -1.        ]]\n",
      "\n",
      "  [[-1.         -1.         -1.         ... -1.          1.\n",
      "    -1.        ]\n",
      "   [-1.         -1.         -1.         ... -1.         -1.\n",
      "    -1.        ]\n",
      "   [-1.         -1.         -1.         ... -1.         -1.\n",
      "    -1.        ]\n",
      "   ...\n",
      "   [-1.         -1.         -1.         ... -1.         -1.\n",
      "    -1.        ]\n",
      "   [-1.         -1.         -1.         ... -1.         -1.\n",
      "    -1.        ]\n",
      "   [-1.         -1.         -1.         ... -1.         -1.\n",
      "    -1.        ]]]\n",
      "\n",
      "\n",
      " [[[-1.         -1.         -1.         ... -1.         -1.\n",
      "    -1.        ]\n",
      "   [-1.         -1.         -1.         ... -1.         -1.\n",
      "    -1.        ]\n",
      "   [-1.         -1.         -1.         ...  1.         -1.\n",
      "    -1.        ]\n",
      "   ...\n",
      "   [-1.         -1.         -1.         ... -1.         -1.\n",
      "    -1.        ]\n",
      "   [-1.         -1.         -1.         ... -1.         -1.\n",
      "    -1.        ]\n",
      "   [-1.         -1.         -1.         ... -1.         -1.\n",
      "    -1.        ]]\n",
      "\n",
      "  [[-1.         -1.         -1.         ...  0.5686275   0.5686275\n",
      "    -1.        ]\n",
      "   [-1.         -1.         -1.         ...  0.7411765  -1.\n",
      "     0.41176474]\n",
      "   [-1.         -1.         -1.         ...  0.654902    0.17647064\n",
      "     0.827451  ]\n",
      "   ...\n",
      "   [-1.         -1.         -1.         ... -1.         -1.\n",
      "    -1.        ]\n",
      "   [-1.         -1.         -1.         ... -1.         -1.\n",
      "    -1.        ]\n",
      "   [-1.         -1.         -1.         ...  0.7411765  -1.\n",
      "    -1.        ]]\n",
      "\n",
      "  [[-1.         -1.         -1.         ... -1.         -1.\n",
      "    -1.        ]\n",
      "   [-1.         -1.         -1.         ... -1.         -1.\n",
      "    -1.        ]\n",
      "   [-1.         -1.         -1.         ... -1.         -1.\n",
      "    -1.        ]\n",
      "   ...\n",
      "   [-1.         -1.         -1.         ... -1.         -1.\n",
      "    -1.        ]\n",
      "   [-1.         -1.         -1.         ... -1.         -1.\n",
      "    -1.        ]\n",
      "   [-1.         -1.         -1.         ... -1.         -1.\n",
      "    -1.        ]]]\n",
      "\n",
      "\n",
      " [[[-1.         -1.         -1.         ...  0.20000005 -1.\n",
      "    -1.        ]\n",
      "   [-1.         -1.         -1.         ...  0.6        -1.\n",
      "    -1.        ]\n",
      "   [-1.         -1.         -1.         ...  1.          0.6\n",
      "    -1.        ]\n",
      "   ...\n",
      "   [-1.         -1.         -1.         ... -1.         -1.\n",
      "    -1.        ]\n",
      "   [-1.         -1.         -1.         ... -1.         -1.\n",
      "    -1.        ]\n",
      "   [-1.         -1.         -1.         ... -1.         -1.\n",
      "    -1.        ]]\n",
      "\n",
      "  [[-1.         -1.         -1.         ...  0.67058825  0.654902\n",
      "    -1.        ]\n",
      "   [-1.         -1.         -1.         ...  0.8352941   0.33333337\n",
      "     0.17647064]\n",
      "   [-1.         -1.         -1.         ...  0.7411765   0.8352941\n",
      "     0.254902  ]\n",
      "   ...\n",
      "   [-1.         -1.         -1.         ... -1.         -1.\n",
      "    -1.        ]\n",
      "   [-1.         -1.         -1.         ... -1.         -1.\n",
      "    -1.        ]\n",
      "   [-1.         -1.         -1.         ... -1.         -1.\n",
      "    -1.        ]]\n",
      "\n",
      "  [[-1.         -1.         -1.         ... -1.         -1.\n",
      "    -1.        ]\n",
      "   [-1.         -1.         -1.         ... -1.         -1.\n",
      "    -1.        ]\n",
      "   [-1.         -1.         -1.         ... -1.         -1.\n",
      "    -1.        ]\n",
      "   ...\n",
      "   [-1.         -1.         -1.         ... -1.         -1.\n",
      "    -1.        ]\n",
      "   [-1.         -1.         -1.         ... -1.         -1.\n",
      "    -1.        ]\n",
      "   [-1.         -1.         -1.         ... -1.         -1.\n",
      "    -1.        ]]]]\n"
     ]
    }
   ],
   "source": [
    "print(train)"
   ]
  },
  {
   "cell_type": "code",
   "execution_count": 12,
   "metadata": {},
   "outputs": [
    {
     "data": {
      "text/plain": [
       "b'train_data\\\\08_26_26.png'"
      ]
     },
     "execution_count": 12,
     "metadata": {},
     "output_type": "execute_result"
    }
   ],
   "source": [
    "# 把所有圖片建立成一個Dataset--weather_dataset\n",
    "weather_dataset = tf.data.Dataset.list_files(\"train_data/*.png\")\n",
    "# weather_dataset = np.array(weather_dataset)\n",
    "# weather_dataset.shape\n",
    "data_iterator = weather_dataset.as_numpy_iterator()\n",
    "data_iterator.next()"
   ]
  },
  {
   "cell_type": "markdown",
   "metadata": {},
   "source": [
    "Build Nerual Network"
   ]
  },
  {
   "cell_type": "code",
   "execution_count": 13,
   "metadata": {},
   "outputs": [],
   "source": [
    "# Bring in the sequential api for the generator and discriminator\n",
    "from tensorflow.keras.models import Sequential\n",
    "# Bring in the layers for the NN\n",
    "from tensorflow.keras.layers import Conv2D, Dense, Flatten, Reshape, LeakyReLU, Dropout, UpSampling2D\n"
   ]
  },
  {
   "cell_type": "markdown",
   "metadata": {},
   "source": [
    "Build generator"
   ]
  },
  {
   "cell_type": "code",
   "execution_count": 15,
   "metadata": {},
   "outputs": [],
   "source": [
    "def build_generator() :\n",
    "    model = Sequential()\n",
    "\n",
    "    # Beginnings of a generated image\n",
    "    model.add(Dense(8*8*128, input_dim = 128))\n",
    "    model.add(LeakyReLU(0.2))\n",
    "    model.add(Reshape((8, 8, 128)))\n",
    "\n",
    "    # Upsampling block 1\n",
    "    model.add(UpSampling2D())\n",
    "    model.add(Conv2D(128, 5, padding = 'same'))\n",
    "    model.add(LeakyReLU(0.2))\n",
    "\n",
    "    # Upsampling block 2\n",
    "    model.add(UpSampling2D())\n",
    "    model.add(Conv2D(128, 5, padding = 'same'))\n",
    "    model.add(LeakyReLU(0.2))\n",
    "\n",
    "    # # Upsampling block 3\n",
    "    # model.add(UpSampling2D())\n",
    "    # model.add(Conv2D(128, 5, padding = 'same'))\n",
    "    # model.add(LeakyReLU(0.2))\n",
    "\n",
    "    # # Upsampling block 4\n",
    "    # model.add(UpSampling2D())\n",
    "    # model.add(Conv2D(128, 5, padding = 'same'))\n",
    "    # model.add(LeakyReLU(0.2))\n",
    "\n",
    "    # # Upsampling block 5\n",
    "    # model.add(UpSampling2D())\n",
    "    # model.add(Conv2D(128, 5, padding = 'same'))\n",
    "    # model.add(LeakyReLU(0.2))\n",
    "\n",
    "    # Convolution block 1\n",
    "    model.add(Conv2D(128, 4, padding = 'same'))\n",
    "    model.add(LeakyReLU(0.2))\n",
    "\n",
    "    # Convolution block 2\n",
    "    model.add(Conv2D(128, 4, padding = 'same'))\n",
    "    model.add(LeakyReLU(0.2))\n",
    "\n",
    "    #Conv layer to get to three channel, because R,G,B\n",
    "    model.add(Conv2D(3, 4, padding = 'same', activation = 'sigmoid'))\n",
    "\n",
    "    return model"
   ]
  },
  {
   "cell_type": "code",
   "execution_count": 16,
   "metadata": {},
   "outputs": [
    {
     "name": "stdout",
     "output_type": "stream",
     "text": [
      "Model: \"sequential\"\n",
      "_________________________________________________________________\n",
      " Layer (type)                Output Shape              Param #   \n",
      "=================================================================\n",
      " dense (Dense)               (None, 8192)              1056768   \n",
      "                                                                 \n",
      " leaky_re_lu (LeakyReLU)     (None, 8192)              0         \n",
      "                                                                 \n",
      " reshape (Reshape)           (None, 8, 8, 128)         0         \n",
      "                                                                 \n",
      " up_sampling2d (UpSampling2D  (None, 16, 16, 128)      0         \n",
      " )                                                               \n",
      "                                                                 \n",
      " conv2d (Conv2D)             (None, 16, 16, 128)       409728    \n",
      "                                                                 \n",
      " leaky_re_lu_1 (LeakyReLU)   (None, 16, 16, 128)       0         \n",
      "                                                                 \n",
      " up_sampling2d_1 (UpSampling  (None, 32, 32, 128)      0         \n",
      " 2D)                                                             \n",
      "                                                                 \n",
      " conv2d_1 (Conv2D)           (None, 32, 32, 128)       409728    \n",
      "                                                                 \n",
      " leaky_re_lu_2 (LeakyReLU)   (None, 32, 32, 128)       0         \n",
      "                                                                 \n",
      " conv2d_2 (Conv2D)           (None, 32, 32, 128)       262272    \n",
      "                                                                 \n",
      " leaky_re_lu_3 (LeakyReLU)   (None, 32, 32, 128)       0         \n",
      "                                                                 \n",
      " conv2d_3 (Conv2D)           (None, 32, 32, 128)       262272    \n",
      "                                                                 \n",
      " leaky_re_lu_4 (LeakyReLU)   (None, 32, 32, 128)       0         \n",
      "                                                                 \n",
      " conv2d_4 (Conv2D)           (None, 32, 32, 3)         6147      \n",
      "                                                                 \n",
      "=================================================================\n",
      "Total params: 2,406,915\n",
      "Trainable params: 2,406,915\n",
      "Non-trainable params: 0\n",
      "_________________________________________________________________\n"
     ]
    }
   ],
   "source": [
    "generator = build_generator()\n",
    "generator.summary()"
   ]
  },
  {
   "cell_type": "code",
   "execution_count": 17,
   "metadata": {},
   "outputs": [
    {
     "name": "stdout",
     "output_type": "stream",
     "text": [
      "1/1 [==============================] - 5s 5s/step\n"
     ]
    },
    {
     "data": {
      "text/plain": [
       "array([[[[0.4953171 , 0.48420826, 0.5037022 ],\n",
       "         [0.49966317, 0.486277  , 0.50065875],\n",
       "         [0.5072439 , 0.49412733, 0.5001268 ],\n",
       "         ...,\n",
       "         [0.49800724, 0.49365613, 0.49634865],\n",
       "         [0.49934128, 0.4938147 , 0.4991927 ],\n",
       "         [0.5014256 , 0.4967018 , 0.49868312]],\n",
       "\n",
       "        [[0.4917899 , 0.48161787, 0.49478543],\n",
       "         [0.49610665, 0.47805834, 0.49614218],\n",
       "         [0.50135833, 0.47811761, 0.49863034],\n",
       "         ...,\n",
       "         [0.49661687, 0.49249083, 0.4978576 ],\n",
       "         [0.4978069 , 0.49590623, 0.5051943 ],\n",
       "         [0.5022597 , 0.4946518 , 0.49882308]],\n",
       "\n",
       "        [[0.49028033, 0.485885  , 0.4936881 ],\n",
       "         [0.49020258, 0.48160043, 0.49285913],\n",
       "         [0.4882232 , 0.48201886, 0.49476886],\n",
       "         ...,\n",
       "         [0.49781623, 0.49441728, 0.49316996],\n",
       "         [0.49887845, 0.49818295, 0.5059939 ],\n",
       "         [0.502488  , 0.49481368, 0.5013964 ]],\n",
       "\n",
       "        ...,\n",
       "\n",
       "        [[0.4993301 , 0.49659306, 0.49491984],\n",
       "         [0.50157267, 0.4891133 , 0.49257377],\n",
       "         [0.50871766, 0.49370518, 0.4870965 ],\n",
       "         ...,\n",
       "         [0.5056364 , 0.5004095 , 0.50460213],\n",
       "         [0.50303763, 0.49945033, 0.5030905 ],\n",
       "         [0.5027685 , 0.49855518, 0.5023199 ]],\n",
       "\n",
       "        [[0.50051045, 0.49656796, 0.49451357],\n",
       "         [0.50377035, 0.49537507, 0.48879457],\n",
       "         [0.5104716 , 0.49861595, 0.48604017],\n",
       "         ...,\n",
       "         [0.5059124 , 0.5021247 , 0.5025709 ],\n",
       "         [0.50210714, 0.50230145, 0.5040006 ],\n",
       "         [0.5026584 , 0.5010463 , 0.5033748 ]],\n",
       "\n",
       "        [[0.5019694 , 0.4983317 , 0.49370635],\n",
       "         [0.5043271 , 0.50151443, 0.49079528],\n",
       "         [0.50452226, 0.5030446 , 0.4912289 ],\n",
       "         ...,\n",
       "         [0.503183  , 0.4999504 , 0.4997071 ],\n",
       "         [0.50146747, 0.49966887, 0.500262  ],\n",
       "         [0.5008516 , 0.5022353 , 0.50074583]]],\n",
       "\n",
       "\n",
       "       [[[0.49886847, 0.49406725, 0.4962318 ],\n",
       "         [0.50760585, 0.49441946, 0.4993819 ],\n",
       "         [0.5106352 , 0.48679063, 0.50052845],\n",
       "         ...,\n",
       "         [0.5002834 , 0.49342093, 0.4958718 ],\n",
       "         [0.5032825 , 0.495371  , 0.4973215 ],\n",
       "         [0.5047491 , 0.49949732, 0.49874485]],\n",
       "\n",
       "        [[0.4989412 , 0.49100888, 0.49131402],\n",
       "         [0.50302684, 0.49053043, 0.49500218],\n",
       "         [0.5021278 , 0.48687267, 0.49670732],\n",
       "         ...,\n",
       "         [0.49791044, 0.49474275, 0.49705175],\n",
       "         [0.5040378 , 0.49409717, 0.49841598],\n",
       "         [0.5064594 , 0.4990351 , 0.49695522]],\n",
       "\n",
       "        [[0.5009748 , 0.4910896 , 0.49026904],\n",
       "         [0.5009938 , 0.4894906 , 0.49572423],\n",
       "         [0.5010552 , 0.4825263 , 0.49005988],\n",
       "         ...,\n",
       "         [0.5033807 , 0.4907228 , 0.4966744 ],\n",
       "         [0.50227815, 0.4946613 , 0.4984315 ],\n",
       "         [0.50456506, 0.4996515 , 0.49698973]],\n",
       "\n",
       "        ...,\n",
       "\n",
       "        [[0.50582933, 0.49044308, 0.49291763],\n",
       "         [0.50527537, 0.49857605, 0.49021128],\n",
       "         [0.5038806 , 0.49243253, 0.49476513],\n",
       "         ...,\n",
       "         [0.50035787, 0.4981773 , 0.50060177],\n",
       "         [0.5027932 , 0.4972584 , 0.5026063 ],\n",
       "         [0.50316966, 0.49755046, 0.50156784]],\n",
       "\n",
       "        [[0.5022542 , 0.49728718, 0.49698555],\n",
       "         [0.50110435, 0.49730846, 0.4914193 ],\n",
       "         [0.50069696, 0.49250332, 0.49922308],\n",
       "         ...,\n",
       "         [0.50007963, 0.4999227 , 0.49892828],\n",
       "         [0.5001206 , 0.49986878, 0.500911  ],\n",
       "         [0.49999124, 0.50014484, 0.5027645 ]],\n",
       "\n",
       "        [[0.5022487 , 0.49980518, 0.49659535],\n",
       "         [0.5017042 , 0.50115377, 0.4905184 ],\n",
       "         [0.4993055 , 0.49946472, 0.4940732 ],\n",
       "         ...,\n",
       "         [0.5003333 , 0.50179523, 0.49631208],\n",
       "         [0.499126  , 0.49945885, 0.4991794 ],\n",
       "         [0.49979082, 0.50099015, 0.5013331 ]]],\n",
       "\n",
       "\n",
       "       [[[0.50190884, 0.49248052, 0.49858934],\n",
       "         [0.5030357 , 0.49446112, 0.5004447 ],\n",
       "         [0.4971182 , 0.4981355 , 0.4981836 ],\n",
       "         ...,\n",
       "         [0.5006303 , 0.49405614, 0.5002569 ],\n",
       "         [0.50227153, 0.49696156, 0.50212896],\n",
       "         [0.5010669 , 0.4964806 , 0.5015413 ]],\n",
       "\n",
       "        [[0.49782488, 0.49169743, 0.49691913],\n",
       "         [0.499467  , 0.4924156 , 0.5026653 ],\n",
       "         [0.49527755, 0.4962566 , 0.5027666 ],\n",
       "         ...,\n",
       "         [0.49839085, 0.4939594 , 0.5009652 ],\n",
       "         [0.50116277, 0.49491298, 0.5014742 ],\n",
       "         [0.50420165, 0.4980246 , 0.5013293 ]],\n",
       "\n",
       "        [[0.49791613, 0.48687172, 0.48860762],\n",
       "         [0.49601227, 0.4904638 , 0.49879828],\n",
       "         [0.49281752, 0.49520165, 0.504744  ],\n",
       "         ...,\n",
       "         [0.50158733, 0.4955202 , 0.5008277 ],\n",
       "         [0.50297993, 0.4957744 , 0.50377655],\n",
       "         [0.50428003, 0.49723947, 0.5027051 ]],\n",
       "\n",
       "        ...,\n",
       "\n",
       "        [[0.50397074, 0.49851987, 0.49228677],\n",
       "         [0.507115  , 0.49904576, 0.48954076],\n",
       "         [0.50627905, 0.49846023, 0.48513618],\n",
       "         ...,\n",
       "         [0.50832844, 0.49882823, 0.4981743 ],\n",
       "         [0.50258183, 0.49735063, 0.49914268],\n",
       "         [0.5019011 , 0.5021098 , 0.5014908 ]],\n",
       "\n",
       "        [[0.50570816, 0.49495697, 0.49390048],\n",
       "         [0.505172  , 0.500006  , 0.4898812 ],\n",
       "         [0.50571877, 0.49898544, 0.48659638],\n",
       "         ...,\n",
       "         [0.5029591 , 0.499058  , 0.5014038 ],\n",
       "         [0.5024011 , 0.4982631 , 0.50121874],\n",
       "         [0.50261426, 0.5014859 , 0.5032452 ]],\n",
       "\n",
       "        [[0.5040393 , 0.49629176, 0.4958316 ],\n",
       "         [0.50282586, 0.50136083, 0.49435773],\n",
       "         [0.5025279 , 0.5010325 , 0.49212852],\n",
       "         ...,\n",
       "         [0.5053679 , 0.5013691 , 0.4974371 ],\n",
       "         [0.502596  , 0.49951464, 0.5005146 ],\n",
       "         [0.501738  , 0.5010196 , 0.5016238 ]]],\n",
       "\n",
       "\n",
       "       [[[0.5018726 , 0.48931295, 0.4996328 ],\n",
       "         [0.5099836 , 0.48680973, 0.5007308 ],\n",
       "         [0.5087546 , 0.4869442 , 0.5053618 ],\n",
       "         ...,\n",
       "         [0.4985168 , 0.49108398, 0.49824026],\n",
       "         [0.5009402 , 0.49479675, 0.49805614],\n",
       "         [0.5024145 , 0.4999931 , 0.49936977]],\n",
       "\n",
       "        [[0.49263924, 0.4779754 , 0.49577832],\n",
       "         [0.49890864, 0.48129755, 0.50242895],\n",
       "         [0.5022802 , 0.47835946, 0.50818855],\n",
       "         ...,\n",
       "         [0.5017708 , 0.49075836, 0.49754095],\n",
       "         [0.502296  , 0.4993696 , 0.50092053],\n",
       "         [0.5032143 , 0.4993197 , 0.5003154 ]],\n",
       "\n",
       "        [[0.48651722, 0.47626132, 0.49226713],\n",
       "         [0.49114808, 0.48469996, 0.49847415],\n",
       "         [0.5022379 , 0.48170394, 0.49327865],\n",
       "         ...,\n",
       "         [0.5112805 , 0.4959818 , 0.49211568],\n",
       "         [0.5073915 , 0.50139153, 0.4992033 ],\n",
       "         [0.503279  , 0.49895838, 0.49982625]],\n",
       "\n",
       "        ...,\n",
       "\n",
       "        [[0.50045735, 0.49230456, 0.4952905 ],\n",
       "         [0.4989971 , 0.49778742, 0.48766515],\n",
       "         [0.5034625 , 0.502211  , 0.48811808],\n",
       "         ...,\n",
       "         [0.5023205 , 0.49260125, 0.5008281 ],\n",
       "         [0.50388074, 0.49335757, 0.49963406],\n",
       "         [0.5018832 , 0.49954188, 0.5013872 ]],\n",
       "\n",
       "        [[0.50073326, 0.49262097, 0.4956823 ],\n",
       "         [0.50158954, 0.4962062 , 0.49078494],\n",
       "         [0.5031674 , 0.49584836, 0.49522415],\n",
       "         ...,\n",
       "         [0.5018745 , 0.49655643, 0.5025895 ],\n",
       "         [0.5010023 , 0.49626738, 0.50103706],\n",
       "         [0.4999472 , 0.5000086 , 0.50198084]],\n",
       "\n",
       "        [[0.5006626 , 0.49854293, 0.49509543],\n",
       "         [0.50255406, 0.50250435, 0.49181983],\n",
       "         [0.50226074, 0.5023403 , 0.49430892],\n",
       "         ...,\n",
       "         [0.49980292, 0.50006795, 0.49679524],\n",
       "         [0.5000768 , 0.49880612, 0.50109524],\n",
       "         [0.5006597 , 0.5008857 , 0.50173175]]]], dtype=float32)"
      ]
     },
     "execution_count": 17,
     "metadata": {},
     "output_type": "execute_result"
    }
   ],
   "source": [
    "img = generator.predict(np.random.randn(4, 128))\n",
    "img"
   ]
  },
  {
   "cell_type": "code",
   "execution_count": 18,
   "metadata": {},
   "outputs": [
    {
     "data": {
      "text/plain": [
       "(4, 32, 32, 3)"
      ]
     },
     "execution_count": 18,
     "metadata": {},
     "output_type": "execute_result"
    }
   ],
   "source": [
    "img.shape"
   ]
  },
  {
   "cell_type": "code",
   "execution_count": 19,
   "metadata": {},
   "outputs": [
    {
     "data": {
      "text/plain": [
       "4"
      ]
     },
     "execution_count": 19,
     "metadata": {},
     "output_type": "execute_result"
    }
   ],
   "source": [
    "len(img)"
   ]
  },
  {
   "cell_type": "code",
   "execution_count": 21,
   "metadata": {},
   "outputs": [
    {
     "data": {
      "image/png": "[encoded data removed]",
      "text/plain": [
       "<Figure size 640x480 with 1 Axes>"
      ]
     },
     "metadata": {},
     "output_type": "display_data"
    },
    {
     "data": {
      "image/png": "[encoded data removed]",
      "text/plain": [
       "<Figure size 640x480 with 1 Axes>"
      ]
     },
     "metadata": {},
     "output_type": "display_data"
    },
    {
     "data": {
      "image/png": "[encoded data removed]",
      "text/plain": [
       "<Figure size 640x480 with 1 Axes>"
      ]
     },
     "metadata": {},
     "output_type": "display_data"
    },
    {
     "data": {
      "image/png": "[encoded data removed]",
      "text/plain": [
       "<Figure size 640x480 with 1 Axes>"
      ]
     },
     "metadata": {},
     "output_type": "display_data"
    }
   ],
   "source": [
    "for i in range(len(img)) :\n",
    "    plt.imshow(img[i])\n",
    "    plt.axis('off')\n",
    "    plt.show()"
   ]
  },
  {
   "cell_type": "markdown",
   "metadata": {},
   "source": [
    "Build Discriminator"
   ]
  },
  {
   "cell_type": "code",
   "execution_count": 22,
   "metadata": {},
   "outputs": [
    {
     "data": {
      "text/plain": [
       "(4, 32, 32, 3)"
      ]
     },
     "execution_count": 22,
     "metadata": {},
     "output_type": "execute_result"
    }
   ],
   "source": [
    "img.shape"
   ]
  },
  {
   "cell_type": "code",
   "execution_count": 23,
   "metadata": {},
   "outputs": [],
   "source": [
    "def build_discriminator() :\n",
    "    model = Sequential()\n",
    "    \n",
    "    # First Conv Block\n",
    "    model.add(Conv2D(32, 5, input_shape = (32, 32, 3)))\n",
    "    model.add(LeakyReLU(0.2))\n",
    "    # Dropout可以降低discriminator訓練的速度\n",
    "    model.add(Dropout(0.4))\n",
    "\n",
    "    # Second Conv Block\n",
    "    model.add(Conv2D(64, 5))\n",
    "    model.add(LeakyReLU(0.2))\n",
    "    model.add(Dropout(0.4))\n",
    "\n",
    "    # Third Conv Block\n",
    "    model.add(Conv2D(128, 5))\n",
    "    model.add(LeakyReLU(0.2))\n",
    "    model.add(Dropout(0.4))\n",
    "\n",
    "    # # Fourth Conv Block\n",
    "    # model.add(Conv2D(128, 5))\n",
    "    # model.add(LeakyReLU(0.2))\n",
    "    # model.add(Dropout(0.4))\n",
    "\n",
    "    # # Fifth Conv Block\n",
    "    # model.add(Conv2D(256, 5))\n",
    "    # model.add(LeakyReLU(0.2))\n",
    "    # model.add(Dropout(0.4))\n",
    "\n",
    "    # Flatten then pass to dense layer\n",
    "    model.add(Flatten())\n",
    "    model.add(Dropout(0.4))\n",
    "    model.add(Dense(1, activation = 'sigmoid'))\n",
    "\n",
    "\n",
    "    return model"
   ]
  },
  {
   "cell_type": "code",
   "execution_count": 24,
   "metadata": {},
   "outputs": [
    {
     "data": {
      "text/plain": [
       "(4, 32, 32, 3)"
      ]
     },
     "execution_count": 24,
     "metadata": {},
     "output_type": "execute_result"
    }
   ],
   "source": [
    "img.shape"
   ]
  },
  {
   "cell_type": "code",
   "execution_count": 25,
   "metadata": {},
   "outputs": [],
   "source": [
    "discriminator = build_discriminator()"
   ]
  },
  {
   "cell_type": "code",
   "execution_count": 26,
   "metadata": {},
   "outputs": [
    {
     "name": "stdout",
     "output_type": "stream",
     "text": [
      "Model: \"sequential_1\"\n",
      "_________________________________________________________________\n",
      " Layer (type)                Output Shape              Param #   \n",
      "=================================================================\n",
      " conv2d_5 (Conv2D)           (None, 28, 28, 32)        2432      \n",
      "                                                                 \n",
      " leaky_re_lu_5 (LeakyReLU)   (None, 28, 28, 32)        0         \n",
      "                                                                 \n",
      " dropout (Dropout)           (None, 28, 28, 32)        0         \n",
      "                                                                 \n",
      " conv2d_6 (Conv2D)           (None, 24, 24, 64)        51264     \n",
      "                                                                 \n",
      " leaky_re_lu_6 (LeakyReLU)   (None, 24, 24, 64)        0         \n",
      "                                                                 \n",
      " dropout_1 (Dropout)         (None, 24, 24, 64)        0         \n",
      "                                                                 \n",
      " conv2d_7 (Conv2D)           (None, 20, 20, 128)       204928    \n",
      "                                                                 \n",
      " leaky_re_lu_7 (LeakyReLU)   (None, 20, 20, 128)       0         \n",
      "                                                                 \n",
      " dropout_2 (Dropout)         (None, 20, 20, 128)       0         \n",
      "                                                                 \n",
      " flatten (Flatten)           (None, 51200)             0         \n",
      "                                                                 \n",
      " dropout_3 (Dropout)         (None, 51200)             0         \n",
      "                                                                 \n",
      " dense_1 (Dense)             (None, 1)                 51201     \n",
      "                                                                 \n",
      "=================================================================\n",
      "Total params: 309,825\n",
      "Trainable params: 309,825\n",
      "Non-trainable params: 0\n",
      "_________________________________________________________________\n"
     ]
    }
   ],
   "source": [
    "discriminator.summary()"
   ]
  },
  {
   "cell_type": "code",
   "execution_count": 27,
   "metadata": {},
   "outputs": [
    {
     "name": "stdout",
     "output_type": "stream",
     "text": [
      "1/1 [==============================] - 0s 78ms/step\n"
     ]
    },
    {
     "data": {
      "text/plain": [
       "array([[0.50206107],\n",
       "       [0.50246704],\n",
       "       [0.50241417],\n",
       "       [0.5021176 ]], dtype=float32)"
      ]
     },
     "execution_count": 27,
     "metadata": {},
     "output_type": "execute_result"
    }
   ],
   "source": [
    "discriminator.predict(img)"
   ]
  },
  {
   "cell_type": "markdown",
   "metadata": {},
   "source": [
    "Training Loop"
   ]
  },
  {
   "cell_type": "markdown",
   "metadata": {},
   "source": [
    "Setup Losses and Optimizers"
   ]
  },
  {
   "cell_type": "code",
   "execution_count": 28,
   "metadata": {},
   "outputs": [],
   "source": [
    "from tensorflow.keras.optimizers import Adam\n",
    "from tensorflow.keras.losses import BinaryCrossentropy"
   ]
  },
  {
   "cell_type": "code",
   "execution_count": 29,
   "metadata": {},
   "outputs": [],
   "source": [
    "# determine g & d's optimizer\n",
    "generator_opt = Adam(learning_rate=0.00001)\n",
    "discirminator_opt = Adam(learning_rate=0.00001)\n",
    "# determine g & d's losses\n",
    "generator_loss = BinaryCrossentropy()\n",
    "discriminator_loss = BinaryCrossentropy()"
   ]
  },
  {
   "cell_type": "markdown",
   "metadata": {},
   "source": [
    "Build Subclassed Model"
   ]
  },
  {
   "cell_type": "code",
   "execution_count": 30,
   "metadata": {},
   "outputs": [],
   "source": [
    "# improting the base model class to subclass our training step\n",
    "from tensorflow.keras.models import Model"
   ]
  },
  {
   "cell_type": "code",
   "execution_count": 31,
   "metadata": {},
   "outputs": [],
   "source": [
    "class WeatherGAN(Model) : \n",
    "    # *args = any positional arg, **kwargs = keyboard args, those two parameters are make our function flexible\n",
    "    def __init__(self, generator, discriminator, *args, **kwargs) :\n",
    "        # Pass through args and kwargs to base class\n",
    "        super().__init__(*args, **kwargs)\n",
    "\n",
    "        # Create attribute for gen and dis\n",
    "        self.generator = generator\n",
    "        self.discriminator = discriminator\n",
    "\n",
    "    def compile(self, generator_opt, discirminator_opt, generator_loss, discriminator_loss, *args, **kwargs) :\n",
    "        # Compile with base class\n",
    "        super().compile(*args, **kwargs)\n",
    "\n",
    "        # Create attributes for optimizer and losses\n",
    "        self.generator_opt = generator_opt\n",
    "        self.discriminator_opt = discirminator_opt\n",
    "        self.generator_loss = generator_loss\n",
    "        self.discriminator_loss = discriminator_loss\n",
    "\n",
    "    def train_step(self, batch) :\n",
    "        # Get the data\n",
    "        real_images = batch\n",
    "        # Use generator to prediction fake image\n",
    "        fake_images = self.generator(tf.random.normal((128, 128)), training = False)\n",
    "\n",
    "        # Train the discriminator\n",
    "        with tf.GradientTape() as d_tape :\n",
    "            # Pass the real and fake images to the discriminator model\n",
    "            real_images = tf.transpose(real_images, perm=[0, 3, 2, 1]) # Change the dimension to (None, 3, 256, 256)\n",
    "            yhat_real = self.discriminator(real_images, training = True)\n",
    "            yhat_fake = self.discriminator(fake_images, training = True)\n",
    "            yhat_real_fake = tf.concat([yhat_real, yhat_fake], axis = 0) # Predictions(label) from discriminator\n",
    "\n",
    "            # Create labels for the real and fake image\n",
    "            y_real_fake = tf.concat([tf.zeros_like(yhat_real), tf.ones_like(yhat_fake)], axis = 0) # Actual label, real image label = 0, fake image label = 1\n",
    "\n",
    "            # Add some noise to the TRUE outputs\n",
    "            noise_real = 0.15 * tf.random.uniform(tf.shape(yhat_real)) # Uniform distribution\n",
    "            noise_fake = -0.15 * tf.random.uniform(tf.shape(yhat_fake))\n",
    "            y_real_fake += tf.concat([noise_real, noise_fake], axis = 0)\n",
    "\n",
    "            # Calculate loss - BinaryCorss\n",
    "            total_d_loss = self.discriminator_loss(y_real_fake, yhat_real_fake)\n",
    "\n",
    "        # Apply backpropagation, nn learn. trainable_variables = the variable we want to calculate the gradients\n",
    "        d_gradients = d_tape.gradient(total_d_loss, self.discriminator.trainable_variables) # Calculate gradient\n",
    "        self.discriminator_opt.apply_gradients(zip(d_gradients, self.discriminator.trainable_variables)) # Apply gradients using optimizer\n",
    "\n",
    "        # Train the generator\n",
    "        with tf.GradientTape() as g_tape :\n",
    "            # Generator some nwe images\n",
    "            gene_images = self.generator(tf.random.normal((128, 128)), training = True)\n",
    "\n",
    "            # Create the predicted labels, running our gene_images through the discriminator\n",
    "            predicted_labels = self.discriminator(gene_images, training = False)\n",
    "\n",
    "            # Calculate loss - trick to training to fake out the discriminator\n",
    "            total_g_loss = self.generator_loss(tf.zeros_like(predicted_labels), predicted_labels)\n",
    "\n",
    "        # Apply backpropagation\n",
    "        g_gradients = g_tape.gradient(total_g_loss, self.generator.trainable_variables)\n",
    "        self.generator_opt.apply_gradients(zip(g_gradients, self.generator.trainable_variables))\n",
    "\n",
    "        return {\"discriminator_loss\":total_d_loss, \"generator_loss\":total_g_loss}\n",
    "    # test & evaluation something\n",
    "    def test_step(self) :\n",
    "            pass\n",
    "    "
   ]
  },
  {
   "cell_type": "code",
   "execution_count": 32,
   "metadata": {},
   "outputs": [],
   "source": [
    "# Create instance of subclass model\n",
    "weatherGan = WeatherGAN(generator, discriminator)"
   ]
  },
  {
   "cell_type": "code",
   "execution_count": 33,
   "metadata": {},
   "outputs": [],
   "source": [
    "# Compile the model\n",
    "weatherGan.compile(generator_opt, discirminator_opt, generator_loss, discriminator_loss)"
   ]
  },
  {
   "cell_type": "markdown",
   "metadata": {},
   "source": [
    "Build Callback"
   ]
  },
  {
   "cell_type": "code",
   "execution_count": 34,
   "metadata": {},
   "outputs": [],
   "source": [
    "# import os -> helps with folder navigation (import previously)\n",
    "from tensorflow.keras.preprocessing.image import array_to_img\n",
    "from tensorflow.keras.callbacks import Callback # Create out own custom callback on epoch"
   ]
  },
  {
   "cell_type": "code",
   "execution_count": 35,
   "metadata": {},
   "outputs": [],
   "source": [
    "class ModelMonitor(Callback) :\n",
    "    def __init__(self, num_img = 3, latent_dim = 128) : # latent_dim -> the random value that i passing to generator to generator a random image\n",
    "        self.num_img = num_img\n",
    "        self.latent_dim = latent_dim\n",
    "\n",
    "    def on_epoch_end(self, epoch, logs = None) :\n",
    "        random_latent_vectors = tf.random.uniform((self.num_img, self.latent_dim))\n",
    "        generated_img = self.model.generator(random_latent_vectors)\n",
    "        generated_img *= 255\n",
    "        generated_img.numpy()\n",
    "        for i in range(self.num_img) :\n",
    "            img = array_to_img(generated_img[i])\n",
    "            img.save(os.path.join('generated_images', f'generated_img_{epoch}_{i}.png'))\n"
   ]
  },
  {
   "cell_type": "markdown",
   "metadata": {},
   "source": [
    "Train"
   ]
  },
  {
   "cell_type": "code",
   "execution_count": 36,
   "metadata": {},
   "outputs": [
    {
     "data": {
      "text/plain": [
       "array([[[[-1.        , -1.        , -1.        , ..., -1.        ,\n",
       "          -1.        , -1.        ],\n",
       "         [-1.        , -1.        , -1.        , ...,  0.6       ,\n",
       "          -1.        , -1.        ],\n",
       "         [-1.        , -1.        , -1.        , ..., -0.19999999,\n",
       "           1.        , -1.        ],\n",
       "         ...,\n",
       "         [-1.        , -1.        , -1.        , ..., -1.        ,\n",
       "          -1.        , -1.        ],\n",
       "         [-1.        , -1.        , -1.        , ..., -1.        ,\n",
       "          -1.        , -1.        ],\n",
       "         [-1.        , -1.        , -1.        , ..., -1.        ,\n",
       "          -1.        , -1.        ]],\n",
       "\n",
       "        [[-1.        , -1.        , -1.        , ...,  0.7411765 ,\n",
       "          -1.        , -1.        ],\n",
       "         [-1.        , -1.        , -1.        , ...,  0.8352941 ,\n",
       "           0.5686275 , -1.        ],\n",
       "         [-1.        , -1.        , -1.        , ...,  0.5058824 ,\n",
       "           1.        ,  0.4901961 ],\n",
       "         ...,\n",
       "         [-1.        , -1.        , -1.        , ..., -1.        ,\n",
       "          -1.        , -1.        ],\n",
       "         [-1.        , -1.        , -1.        , ..., -1.        ,\n",
       "          -1.        , -1.        ],\n",
       "         [-1.        , -1.        , -1.        , ..., -1.        ,\n",
       "          -1.        , -1.        ]],\n",
       "\n",
       "        [[-1.        , -1.        , -1.        , ..., -1.        ,\n",
       "           1.        , -1.        ],\n",
       "         [-1.        , -1.        , -1.        , ..., -1.        ,\n",
       "          -1.        , -1.        ],\n",
       "         [-1.        , -1.        , -1.        , ..., -1.        ,\n",
       "          -1.        , -1.        ],\n",
       "         ...,\n",
       "         [-1.        , -1.        , -1.        , ..., -1.        ,\n",
       "          -1.        , -1.        ],\n",
       "         [-1.        , -1.        , -1.        , ..., -1.        ,\n",
       "          -1.        , -1.        ],\n",
       "         [-1.        , -1.        , -1.        , ..., -1.        ,\n",
       "          -1.        , -1.        ]]],\n",
       "\n",
       "\n",
       "       [[[-1.        , -1.        , -1.        , ..., -1.        ,\n",
       "          -1.        , -1.        ],\n",
       "         [-1.        , -1.        , -1.        , ..., -1.        ,\n",
       "          -1.        , -1.        ],\n",
       "         [-1.        , -1.        , -1.        , ...,  1.        ,\n",
       "          -1.        , -1.        ],\n",
       "         ...,\n",
       "         [-1.        , -1.        , -1.        , ..., -1.        ,\n",
       "          -1.        , -1.        ],\n",
       "         [-1.        , -1.        , -1.        , ..., -1.        ,\n",
       "          -1.        , -1.        ],\n",
       "         [-1.        , -1.        , -1.        , ..., -1.        ,\n",
       "          -1.        , -1.        ]],\n",
       "\n",
       "        [[-1.        , -1.        , -1.        , ...,  0.5686275 ,\n",
       "           0.5686275 , -1.        ],\n",
       "         [-1.        , -1.        , -1.        , ...,  0.7411765 ,\n",
       "          -1.        ,  0.41176474],\n",
       "         [-1.        , -1.        , -1.        , ...,  0.654902  ,\n",
       "           0.17647064,  0.827451  ],\n",
       "         ...,\n",
       "         [-1.        , -1.        , -1.        , ..., -1.        ,\n",
       "          -1.        , -1.        ],\n",
       "         [-1.        , -1.        , -1.        , ..., -1.        ,\n",
       "          -1.        , -1.        ],\n",
       "         [-1.        , -1.        , -1.        , ...,  0.7411765 ,\n",
       "          -1.        , -1.        ]],\n",
       "\n",
       "        [[-1.        , -1.        , -1.        , ..., -1.        ,\n",
       "          -1.        , -1.        ],\n",
       "         [-1.        , -1.        , -1.        , ..., -1.        ,\n",
       "          -1.        , -1.        ],\n",
       "         [-1.        , -1.        , -1.        , ..., -1.        ,\n",
       "          -1.        , -1.        ],\n",
       "         ...,\n",
       "         [-1.        , -1.        , -1.        , ..., -1.        ,\n",
       "          -1.        , -1.        ],\n",
       "         [-1.        , -1.        , -1.        , ..., -1.        ,\n",
       "          -1.        , -1.        ],\n",
       "         [-1.        , -1.        , -1.        , ..., -1.        ,\n",
       "          -1.        , -1.        ]]],\n",
       "\n",
       "\n",
       "       [[[-1.        , -1.        , -1.        , ...,  0.20000005,\n",
       "          -1.        , -1.        ],\n",
       "         [-1.        , -1.        , -1.        , ...,  0.6       ,\n",
       "          -1.        , -1.        ],\n",
       "         [-1.        , -1.        , -1.        , ...,  1.        ,\n",
       "           0.6       , -1.        ],\n",
       "         ...,\n",
       "         [-1.        , -1.        , -1.        , ..., -1.        ,\n",
       "          -1.        , -1.        ],\n",
       "         [-1.        , -1.        , -1.        , ..., -1.        ,\n",
       "          -1.        , -1.        ],\n",
       "         [-1.        , -1.        , -1.        , ..., -1.        ,\n",
       "          -1.        , -1.        ]],\n",
       "\n",
       "        [[-1.        , -1.        , -1.        , ...,  0.67058825,\n",
       "           0.654902  , -1.        ],\n",
       "         [-1.        , -1.        , -1.        , ...,  0.8352941 ,\n",
       "           0.33333337,  0.17647064],\n",
       "         [-1.        , -1.        , -1.        , ...,  0.7411765 ,\n",
       "           0.8352941 ,  0.254902  ],\n",
       "         ...,\n",
       "         [-1.        , -1.        , -1.        , ..., -1.        ,\n",
       "          -1.        , -1.        ],\n",
       "         [-1.        , -1.        , -1.        , ..., -1.        ,\n",
       "          -1.        , -1.        ],\n",
       "         [-1.        , -1.        , -1.        , ..., -1.        ,\n",
       "          -1.        , -1.        ]],\n",
       "\n",
       "        [[-1.        , -1.        , -1.        , ..., -1.        ,\n",
       "          -1.        , -1.        ],\n",
       "         [-1.        , -1.        , -1.        , ..., -1.        ,\n",
       "          -1.        , -1.        ],\n",
       "         [-1.        , -1.        , -1.        , ..., -1.        ,\n",
       "          -1.        , -1.        ],\n",
       "         ...,\n",
       "         [-1.        , -1.        , -1.        , ..., -1.        ,\n",
       "          -1.        , -1.        ],\n",
       "         [-1.        , -1.        , -1.        , ..., -1.        ,\n",
       "          -1.        , -1.        ],\n",
       "         [-1.        , -1.        , -1.        , ..., -1.        ,\n",
       "          -1.        , -1.        ]]]], dtype=float32)"
      ]
     },
     "execution_count": 36,
     "metadata": {},
     "output_type": "execute_result"
    }
   ],
   "source": [
    "train"
   ]
  },
  {
   "cell_type": "code",
   "execution_count": 38,
   "metadata": {},
   "outputs": [
    {
     "name": "stdout",
     "output_type": "stream",
     "text": [
      "Epoch 1/20\n",
      "1/1 [==============================] - 0s 323ms/step - discriminator_loss: 0.5252 - generator_loss: 0.9520\n",
      "Epoch 2/20\n",
      "1/1 [==============================] - 0s 207ms/step - discriminator_loss: 0.5178 - generator_loss: 0.9639\n",
      "Epoch 3/20\n",
      "1/1 [==============================] - 0s 240ms/step - discriminator_loss: 0.5047 - generator_loss: 0.9761\n",
      "Epoch 4/20\n",
      "1/1 [==============================] - 0s 258ms/step - discriminator_loss: 0.4971 - generator_loss: 0.9880\n",
      "Epoch 5/20\n",
      "1/1 [==============================] - 0s 327ms/step - discriminator_loss: 0.4951 - generator_loss: 0.9990\n",
      "Epoch 6/20\n",
      "1/1 [==============================] - 0s 232ms/step - discriminator_loss: 0.4846 - generator_loss: 1.0105\n",
      "Epoch 7/20\n",
      "1/1 [==============================] - 0s 289ms/step - discriminator_loss: 0.4828 - generator_loss: 1.0213\n",
      "Epoch 8/20\n",
      "1/1 [==============================] - 0s 298ms/step - discriminator_loss: 0.4862 - generator_loss: 1.0333\n",
      "Epoch 9/20\n",
      "1/1 [==============================] - 0s 231ms/step - discriminator_loss: 0.4765 - generator_loss: 1.0418\n",
      "Epoch 10/20\n",
      "1/1 [==============================] - 0s 298ms/step - discriminator_loss: 0.4662 - generator_loss: 1.0521\n",
      "Epoch 11/20\n",
      "1/1 [==============================] - 0s 203ms/step - discriminator_loss: 0.4592 - generator_loss: 1.0605\n",
      "Epoch 12/20\n",
      "1/1 [==============================] - 0s 299ms/step - discriminator_loss: 0.4687 - generator_loss: 1.0694\n",
      "Epoch 13/20\n",
      "1/1 [==============================] - 0s 308ms/step - discriminator_loss: 0.4629 - generator_loss: 1.0762\n",
      "Epoch 14/20\n",
      "1/1 [==============================] - 0s 205ms/step - discriminator_loss: 0.4531 - generator_loss: 1.0828\n",
      "Epoch 15/20\n",
      "1/1 [==============================] - 0s 298ms/step - discriminator_loss: 0.4657 - generator_loss: 1.0858\n",
      "Epoch 16/20\n",
      "1/1 [==============================] - 0s 313ms/step - discriminator_loss: 0.4572 - generator_loss: 1.0909\n",
      "Epoch 17/20\n",
      "1/1 [==============================] - 0s 203ms/step - discriminator_loss: 0.4528 - generator_loss: 1.0918\n",
      "Epoch 18/20\n",
      "1/1 [==============================] - 0s 302ms/step - discriminator_loss: 0.4555 - generator_loss: 1.0928\n",
      "Epoch 19/20\n",
      "1/1 [==============================] - 0s 214ms/step - discriminator_loss: 0.4532 - generator_loss: 1.0931\n",
      "Epoch 20/20\n",
      "1/1 [==============================] - 0s 293ms/step - discriminator_loss: 0.4532 - generator_loss: 1.0876\n"
     ]
    }
   ],
   "source": [
    "# Recommend 2000 epochs\n",
    "hist = weatherGan.fit(train, epochs=20, callbacks=[ModelMonitor()])"
   ]
  }
 ],
 "metadata": {
  "kernelspec": {
   "display_name": "Python 3",
   "language": "python",
   "name": "python3"
  },
  "language_info": {
   "codemirror_mode": {
    "name": "ipython",
    "version": 3
   },
   "file_extension": ".py",
   "mimetype": "text/x-python",
   "name": "python",
   "nbconvert_exporter": "python",
   "pygments_lexer": "ipython3",
   "version": "3.7.16"
  },
  "orig_nbformat": 4
 },
 "nbformat": 4,
 "nbformat_minor": 2
}
