{
 "cells": [
  {
   "cell_type": "code",
   "execution_count": 1,
   "metadata": {},
   "outputs": [],
   "source": [
    "from torch.utils.data import Dataset, DataLoader\n",
    "from torchvision import datasets\n",
    "from torchvision import transforms\n",
    "from torchvision.io import read_image\n",
    "import tensorflow as tf\n",
    "import numpy as np\n",
    "import os\n",
    "import pandas as pd #資料處理\n",
    "import torch\n",
    "import matplotlib.pyplot as plt\n",
    "from PIL import Image\n",
    "\n",
    "# 設定dataset路徑\n",
    "project_path = r\"D:\\NTUT\\Weather_AI\\self-project\\GAN\\weather-GAN\"\n",
    "train_data_path = str(project_path + r\"\\train_data\")\n",
    "output_data_path = str(project_path + r\"output_data\")\n"
   ]
  },
  {
   "cell_type": "code",
   "execution_count": 2,
   "metadata": {},
   "outputs": [
    {
     "name": "stdout",
     "output_type": "stream",
     "text": [
      "[name: \"/device:CPU:0\"\n",
      "device_type: \"CPU\"\n",
      "memory_limit: 268435456\n",
      "locality {\n",
      "}\n",
      "incarnation: 1163132039828008154\n",
      "xla_global_id: -1\n",
      ", name: \"/device:GPU:0\"\n",
      "device_type: \"GPU\"\n",
      "memory_limit: 5748293632\n",
      "locality {\n",
      "  bus_id: 1\n",
      "  links {\n",
      "  }\n",
      "}\n",
      "incarnation: 3265908706993142439\n",
      "physical_device_desc: \"device: 0, name: NVIDIA GeForce RTX 3060 Ti, pci bus id: 0000:01:00.0, compute capability: 8.6\"\n",
      "xla_global_id: 416903419\n",
      "]\n"
     ]
    }
   ],
   "source": [
    "from tensorflow.python.client import device_lib\n",
    "print(device_lib.list_local_devices())"
   ]
  },
  {
   "cell_type": "code",
   "execution_count": 3,
   "metadata": {},
   "outputs": [],
   "source": [
    "# Setup GPU\n",
    "gpus = tf.config.list_physical_devices('GPU')\n",
    "for gpu in gpus :\n",
    "    tf.config.experimental.set_memory_growth(gpu, True)"
   ]
  },
  {
   "cell_type": "code",
   "execution_count": 4,
   "metadata": {},
   "outputs": [
    {
     "name": "stdout",
     "output_type": "stream",
     "text": [
      "PhysicalDevice(name='/physical_device:GPU:0', device_type='GPU')\n"
     ]
    }
   ],
   "source": [
    "for gpu in gpus :\n",
    "    print(gpu)"
   ]
  },
  {
   "cell_type": "code",
   "execution_count": 5,
   "metadata": {},
   "outputs": [
    {
     "name": "stdout",
     "output_type": "stream",
     "text": [
      "Num GPUs Available:  1\n"
     ]
    }
   ],
   "source": [
    "print(\"Num GPUs Available: \", len(tf.config.list_physical_devices('GPU')))"
   ]
  },
  {
   "cell_type": "code",
   "execution_count": 6,
   "metadata": {},
   "outputs": [
    {
     "name": "stdout",
     "output_type": "stream",
     "text": [
      "torch.Size([4, 3, 32, 32])\n"
     ]
    }
   ],
   "source": [
    "transform = transforms.Compose([\n",
    "    transforms.ToTensor(),\n",
    "    transforms.Resize((32, 32)),\n",
    "    transforms.Normalize((0.5, 0.5, 0.5), (0.5, 0.5, 0.5))\n",
    "])\n",
    "class My_Dataset(Dataset) :\n",
    "    def __init__(self, path, transform=None) :\n",
    "        super().__init__()\n",
    "        self.image_files = os.listdir(path)\n",
    "        self.list_files = []\n",
    "        for file in self.image_files :\n",
    "            self.list_files.append(os.path.join(path, file))\n",
    "\n",
    "    # Indicate the total size of the dataset\n",
    "    def __len__(self) :\n",
    "        return len(self.image_files)\n",
    "    \n",
    "    # 1. Read from file (using numpy.fromfile, PIL.Image.open)\n",
    "    # 2. Preprocess the data (torchvision.Transform).\n",
    "    # 3. Return the data (e.g. image and label)\n",
    "    def __getitem__(self, index) :\n",
    "        image = Image.open(self.list_files[index]).convert('RGB')\n",
    "        if transform is None :\n",
    "            return image\n",
    "        else :\n",
    "            image = transform(image)\n",
    "            return image\n",
    "\n",
    "#讀取圖片，一次四張\n",
    "if __name__ == '__main__' :\n",
    "    #path_image = r\"D:\\NTUT\\Weather_AI\\self-project\\GAN\\weather-GAN\\train_data\"\n",
    "    path_image = train_data_path\n",
    "    train_data = My_Dataset(path_image, transform=transform)\n",
    "    train_dataloader = DataLoader(train_data, batch_size=4, shuffle=True)\n",
    "    for image in train_dataloader :\n",
    "        print(image.shape)\n",
    "        #4(張), 3(RGB三通道), 3600(長), 3600(寬)縮成256*256\n",
    "        break"
   ]
  },
  {
   "cell_type": "code",
   "execution_count": 7,
   "metadata": {},
   "outputs": [],
   "source": [
    "# 切割資料集\n",
    "from sklearn.model_selection import train_test_split\n",
    "\n",
    "train, test = train_test_split(image, test_size = 0.2, random_state = 42)"
   ]
  },
  {
   "cell_type": "code",
   "execution_count": 8,
   "metadata": {},
   "outputs": [
    {
     "data": {
      "text/plain": [
       "((3, 3, 32, 32), (1, 3, 32, 32))"
      ]
     },
     "execution_count": 8,
     "metadata": {},
     "output_type": "execute_result"
    }
   ],
   "source": [
    "train = np.array(train)\n",
    "test = np.array(test)\n",
    "\n",
    "train.shape, test.shape"
   ]
  },
  {
   "cell_type": "code",
   "execution_count": 1,
   "metadata": {},
   "outputs": [
    {
     "ename": "NameError",
     "evalue": "name 'plt' is not defined",
     "output_type": "error",
     "traceback": [
      "\u001b[1;31m---------------------------------------------------------------------------\u001b[0m",
      "\u001b[1;31mNameError\u001b[0m                                 Traceback (most recent call last)",
      "\u001b[1;32m~\\AppData\\Local\\Temp\\ipykernel_38212\\1287981955.py\u001b[0m in \u001b[0;36m<module>\u001b[1;34m\u001b[0m\n\u001b[1;32m----> 1\u001b[1;33m \u001b[0mplt\u001b[0m\u001b[1;33m.\u001b[0m\u001b[0mimshow\u001b[0m\u001b[1;33m(\u001b[0m\u001b[0mnp\u001b[0m\u001b[1;33m.\u001b[0m\u001b[0mtranspose\u001b[0m\u001b[1;33m(\u001b[0m\u001b[0mtest\u001b[0m\u001b[1;33m[\u001b[0m\u001b[1;36m0\u001b[0m\u001b[1;33m]\u001b[0m\u001b[1;33m,\u001b[0m \u001b[1;33m(\u001b[0m\u001b[1;36m1\u001b[0m\u001b[1;33m,\u001b[0m \u001b[1;36m2\u001b[0m\u001b[1;33m,\u001b[0m \u001b[1;36m0\u001b[0m\u001b[1;33m)\u001b[0m\u001b[1;33m)\u001b[0m\u001b[1;33m)\u001b[0m\u001b[1;33m\u001b[0m\u001b[1;33m\u001b[0m\u001b[0m\n\u001b[0m\u001b[0;32m      2\u001b[0m \u001b[0mplt\u001b[0m\u001b[1;33m.\u001b[0m\u001b[0maxis\u001b[0m\u001b[1;33m(\u001b[0m\u001b[1;34m'off'\u001b[0m\u001b[1;33m)\u001b[0m\u001b[1;33m\u001b[0m\u001b[1;33m\u001b[0m\u001b[0m\n\u001b[0;32m      3\u001b[0m \u001b[0mplt\u001b[0m\u001b[1;33m.\u001b[0m\u001b[0mshow\u001b[0m\u001b[1;33m(\u001b[0m\u001b[1;33m)\u001b[0m\u001b[1;33m\u001b[0m\u001b[1;33m\u001b[0m\u001b[0m\n",
      "\u001b[1;31mNameError\u001b[0m: name 'plt' is not defined"
     ]
    }
   ],
   "source": [
    "\n",
    "plt.imshow(np.transpose(test[0], (1, 2, 0)))\n",
    "plt.axis('off')\n",
    "plt.show()"
   ]
  },
  {
   "cell_type": "code",
   "execution_count": 10,
   "metadata": {},
   "outputs": [
    {
     "name": "stderr",
     "output_type": "stream",
     "text": [
      "Clipping input data to the valid range for imshow with RGB data ([0..1] for floats or [0..255] for integers).\n"
     ]
    },
    {
     "data": {
      "image/png": "[encoded data removed]",
      "text/plain": [
       "<Figure size 640x480 with 1 Axes>"
      ]
     },
     "metadata": {},
     "output_type": "display_data"
    },
    {
     "name": "stderr",
     "output_type": "stream",
     "text": [
      "Clipping input data to the valid range for imshow with RGB data ([0..1] for floats or [0..255] for integers).\n"
     ]
    },
    {
     "data": {
      "image/png": "[encoded data removed]",
      "text/plain": [
       "<Figure size 640x480 with 1 Axes>"
      ]
     },
     "metadata": {},
     "output_type": "display_data"
    },
    {
     "name": "stderr",
     "output_type": "stream",
     "text": [
      "Clipping input data to the valid range for imshow with RGB data ([0..1] for floats or [0..255] for integers).\n"
     ]
    },
    {
     "data": {
      "image/png": "[encoded data removed]",
      "text/plain": [
       "<Figure size 640x480 with 1 Axes>"
      ]
     },
     "metadata": {},
     "output_type": "display_data"
    }
   ],
   "source": [
    "for i in range(len(train)) :\n",
    "    plt.imshow(np.transpose(train[i], (1, 2, 0)))\n",
    "    plt.axis('off')\n",
    "    plt.show()"
   ]
  },
  {
   "cell_type": "code",
   "execution_count": 11,
   "metadata": {},
   "outputs": [
    {
     "name": "stdout",
     "output_type": "stream",
     "text": [
      "[[[[-1.         -1.         -1.         ... -1.         -1.\n",
      "    -1.        ]\n",
      "   [-1.         -1.         -1.         ...  1.         -1.\n",
      "    -0.19999999]\n",
      "   [-1.         -1.         -1.         ...  1.         -0.19999999\n",
      "    -1.        ]\n",
      "   ...\n",
      "   [-1.         -1.         -1.         ... -1.         -1.\n",
      "    -1.        ]\n",
      "   [-1.         -1.         -1.         ... -1.         -1.\n",
      "    -1.        ]\n",
      "   [-1.         -1.         -1.         ... -1.         -1.\n",
      "    -1.        ]]\n",
      "\n",
      "  [[-1.         -1.         -1.         ... -1.          0.5686275\n",
      "    -1.        ]\n",
      "   [-1.         -1.         -1.         ...  0.5686275  -1.\n",
      "     0.5058824 ]\n",
      "   [-1.         -1.         -1.         ...  1.          0.5058824\n",
      "     0.654902  ]\n",
      "   ...\n",
      "   [-1.         -1.         -1.         ... -1.         -1.\n",
      "    -1.        ]\n",
      "   [-1.         -1.         -1.         ... -1.         -1.\n",
      "    -1.        ]\n",
      "   [-1.         -1.         -1.         ... -1.         -1.\n",
      "    -1.        ]]\n",
      "\n",
      "  [[-1.         -1.         -1.         ... -1.         -1.\n",
      "    -1.        ]\n",
      "   [-1.         -1.         -1.         ... -1.          1.\n",
      "    -1.        ]\n",
      "   [-1.         -1.         -1.         ... -1.         -1.\n",
      "    -1.        ]\n",
      "   ...\n",
      "   [-1.         -1.         -1.         ... -1.         -1.\n",
      "    -1.        ]\n",
      "   [-1.         -1.         -1.         ... -1.         -1.\n",
      "    -1.        ]\n",
      "   [-1.         -1.         -1.         ... -1.         -1.\n",
      "    -1.        ]]]\n",
      "\n",
      "\n",
      " [[[-1.         -1.         -1.         ... -1.         -1.\n",
      "    -1.        ]\n",
      "   [-1.         -1.         -1.         ... -1.         -1.\n",
      "    -1.        ]\n",
      "   [-1.         -1.         -1.         ...  1.         -1.\n",
      "    -1.        ]\n",
      "   ...\n",
      "   [-1.         -1.         -1.         ... -1.         -1.\n",
      "    -1.        ]\n",
      "   [-1.         -1.         -1.         ... -1.         -1.\n",
      "    -1.        ]\n",
      "   [-1.         -1.         -1.         ... -1.         -1.\n",
      "    -1.        ]]\n",
      "\n",
      "  [[-1.         -1.         -1.         ...  0.5686275   0.5686275\n",
      "    -1.        ]\n",
      "   [-1.         -1.         -1.         ...  0.7411765  -1.\n",
      "     0.41176474]\n",
      "   [-1.         -1.         -1.         ...  0.654902    0.17647064\n",
      "     0.827451  ]\n",
      "   ...\n",
      "   [-1.         -1.         -1.         ... -1.         -1.\n",
      "    -1.        ]\n",
      "   [-1.         -1.         -1.         ... -1.         -1.\n",
      "    -1.        ]\n",
      "   [-1.         -1.         -1.         ...  0.7411765  -1.\n",
      "    -1.        ]]\n",
      "\n",
      "  [[-1.         -1.         -1.         ... -1.         -1.\n",
      "    -1.        ]\n",
      "   [-1.         -1.         -1.         ... -1.         -1.\n",
      "    -1.        ]\n",
      "   [-1.         -1.         -1.         ... -1.         -1.\n",
      "    -1.        ]\n",
      "   ...\n",
      "   [-1.         -1.         -1.         ... -1.         -1.\n",
      "    -1.        ]\n",
      "   [-1.         -1.         -1.         ... -1.         -1.\n",
      "    -1.        ]\n",
      "   [-1.         -1.         -1.         ... -1.         -1.\n",
      "    -1.        ]]]\n",
      "\n",
      "\n",
      " [[[-1.         -1.         -1.         ... -1.         -1.\n",
      "    -1.        ]\n",
      "   [-1.         -1.         -1.         ... -1.         -1.\n",
      "    -1.        ]\n",
      "   [-1.         -1.         -1.         ... -0.19999999  0.20000005\n",
      "    -1.        ]\n",
      "   ...\n",
      "   [-1.         -1.         -1.         ... -1.         -1.\n",
      "    -1.        ]\n",
      "   [-1.         -1.         -1.         ... -1.         -1.\n",
      "    -1.        ]\n",
      "   [-1.         -1.         -1.         ... -1.         -1.\n",
      "    -1.        ]]\n",
      "\n",
      "  [[-1.         -1.         -1.         ... -1.          0.254902\n",
      "    -1.        ]\n",
      "   [-1.         -1.         -1.         ...  0.654902   -0.7176471\n",
      "     0.33333337]\n",
      "   [-1.         -1.         -1.         ...  0.5058824   0.67058825\n",
      "    -1.        ]\n",
      "   ...\n",
      "   [-1.         -1.         -1.         ... -1.         -1.\n",
      "    -1.        ]\n",
      "   [-1.         -1.         -1.         ... -1.         -1.\n",
      "    -1.        ]\n",
      "   [-1.         -1.         -1.         ... -1.         -1.\n",
      "    -1.        ]]\n",
      "\n",
      "  [[-1.         -1.         -1.         ... -1.         -1.\n",
      "    -1.        ]\n",
      "   [-1.         -1.         -1.         ... -1.          1.\n",
      "    -1.        ]\n",
      "   [-1.         -1.         -1.         ... -1.         -1.\n",
      "     1.        ]\n",
      "   ...\n",
      "   [-1.         -1.         -1.         ... -1.         -1.\n",
      "    -1.        ]\n",
      "   [-1.         -1.         -1.         ... -1.         -1.\n",
      "    -1.        ]\n",
      "   [-1.         -1.         -1.         ... -1.         -1.\n",
      "    -1.        ]]]]\n"
     ]
    }
   ],
   "source": [
    "print(train)"
   ]
  },
  {
   "cell_type": "code",
   "execution_count": 12,
   "metadata": {},
   "outputs": [
    {
     "data": {
      "text/plain": [
       "b'train_data\\\\08_06_44.png'"
      ]
     },
     "execution_count": 12,
     "metadata": {},
     "output_type": "execute_result"
    }
   ],
   "source": [
    "# 把所有圖片建立成一個Dataset--weather_dataset\n",
    "weather_dataset = tf.data.Dataset.list_files(\"train_data/*.png\")\n",
    "# weather_dataset = np.array(weather_dataset)\n",
    "# weather_dataset.shape\n",
    "data_iterator = weather_dataset.as_numpy_iterator()\n",
    "data_iterator.next()"
   ]
  },
  {
   "cell_type": "markdown",
   "metadata": {},
   "source": [
    "Build Nerual Network"
   ]
  },
  {
   "cell_type": "code",
   "execution_count": 13,
   "metadata": {},
   "outputs": [],
   "source": [
    "# Bring in the sequential api for the generator and discriminator\n",
    "from tensorflow.keras.models import Sequential\n",
    "# Bring in the layers for the NN\n",
    "from tensorflow.keras.layers import Conv2D, Dense, Flatten, Reshape, LeakyReLU, Dropout, UpSampling2D\n"
   ]
  },
  {
   "cell_type": "markdown",
   "metadata": {},
   "source": [
    "Build generator"
   ]
  },
  {
   "cell_type": "code",
   "execution_count": 15,
   "metadata": {},
   "outputs": [],
   "source": [
    "def build_generator() :\n",
    "    model = Sequential()\n",
    "\n",
    "    # Beginnings of a generated image\n",
    "    model.add(Dense(8*8*128, input_dim = 128))\n",
    "    model.add(LeakyReLU(0.2))\n",
    "    model.add(Reshape((8, 8, 128)))\n",
    "\n",
    "    # Upsampling block 1\n",
    "    model.add(UpSampling2D())\n",
    "    model.add(Conv2D(128, 5, padding = 'same'))\n",
    "    model.add(LeakyReLU(0.2))\n",
    "\n",
    "    # Upsampling block 2\n",
    "    model.add(UpSampling2D())\n",
    "    model.add(Conv2D(128, 5, padding = 'same'))\n",
    "    model.add(LeakyReLU(0.2))\n",
    "\n",
    "    # # Upsampling block 3\n",
    "    # model.add(UpSampling2D())\n",
    "    # model.add(Conv2D(128, 5, padding = 'same'))\n",
    "    # model.add(LeakyReLU(0.2))\n",
    "\n",
    "    # # Upsampling block 4\n",
    "    # model.add(UpSampling2D())\n",
    "    # model.add(Conv2D(128, 5, padding = 'same'))\n",
    "    # model.add(LeakyReLU(0.2))\n",
    "\n",
    "    # # Upsampling block 5\n",
    "    # model.add(UpSampling2D())\n",
    "    # model.add(Conv2D(128, 5, padding = 'same'))\n",
    "    # model.add(LeakyReLU(0.2))\n",
    "\n",
    "    # Convolution block 1\n",
    "    model.add(Conv2D(128, 4, padding = 'same'))\n",
    "    model.add(LeakyReLU(0.2))\n",
    "\n",
    "    # Convolution block 2\n",
    "    model.add(Conv2D(128, 4, padding = 'same'))\n",
    "    model.add(LeakyReLU(0.2))\n",
    "\n",
    "    #Conv layer to get to three channel, because R,G,B\n",
    "    model.add(Conv2D(3, 4, padding = 'same', activation = 'sigmoid'))\n",
    "\n",
    "    return model"
   ]
  },
  {
   "cell_type": "code",
   "execution_count": 16,
   "metadata": {},
   "outputs": [
    {
     "name": "stdout",
     "output_type": "stream",
     "text": [
      "Model: \"sequential\"\n",
      "_________________________________________________________________\n",
      " Layer (type)                Output Shape              Param #   \n",
      "=================================================================\n",
      " dense (Dense)               (None, 8192)              1056768   \n",
      "                                                                 \n",
      " leaky_re_lu (LeakyReLU)     (None, 8192)              0         \n",
      "                                                                 \n",
      " reshape (Reshape)           (None, 8, 8, 128)         0         \n",
      "                                                                 \n",
      " up_sampling2d (UpSampling2D  (None, 16, 16, 128)      0         \n",
      " )                                                               \n",
      "                                                                 \n",
      " conv2d (Conv2D)             (None, 16, 16, 128)       409728    \n",
      "                                                                 \n",
      " leaky_re_lu_1 (LeakyReLU)   (None, 16, 16, 128)       0         \n",
      "                                                                 \n",
      " up_sampling2d_1 (UpSampling  (None, 32, 32, 128)      0         \n",
      " 2D)                                                             \n",
      "                                                                 \n",
      " conv2d_1 (Conv2D)           (None, 32, 32, 128)       409728    \n",
      "                                                                 \n",
      " leaky_re_lu_2 (LeakyReLU)   (None, 32, 32, 128)       0         \n",
      "                                                                 \n",
      " conv2d_2 (Conv2D)           (None, 32, 32, 128)       262272    \n",
      "                                                                 \n",
      " leaky_re_lu_3 (LeakyReLU)   (None, 32, 32, 128)       0         \n",
      "                                                                 \n",
      " conv2d_3 (Conv2D)           (None, 32, 32, 128)       262272    \n",
      "                                                                 \n",
      " leaky_re_lu_4 (LeakyReLU)   (None, 32, 32, 128)       0         \n",
      "                                                                 \n",
      " conv2d_4 (Conv2D)           (None, 32, 32, 3)         6147      \n",
      "                                                                 \n",
      "=================================================================\n",
      "Total params: 2,406,915\n",
      "Trainable params: 2,406,915\n",
      "Non-trainable params: 0\n",
      "_________________________________________________________________\n"
     ]
    }
   ],
   "source": [
    "generator = build_generator()\n",
    "generator.summary()"
   ]
  },
  {
   "cell_type": "code",
   "execution_count": 17,
   "metadata": {},
   "outputs": [
    {
     "name": "stdout",
     "output_type": "stream",
     "text": [
      "1/1 [==============================] - 5s 5s/step\n"
     ]
    },
    {
     "data": {
      "text/plain": [
       "array([[[[0.49862626, 0.49513087, 0.49764112],\n",
       "         [0.50100857, 0.49357766, 0.49836576],\n",
       "         [0.49806756, 0.49604577, 0.50188184],\n",
       "         ...,\n",
       "         [0.4989607 , 0.49979421, 0.49786937],\n",
       "         [0.49974322, 0.5002153 , 0.5036973 ],\n",
       "         [0.50106364, 0.49780005, 0.50246996]],\n",
       "\n",
       "        [[0.49748832, 0.49580184, 0.50440025],\n",
       "         [0.50067645, 0.49465287, 0.5000566 ],\n",
       "         [0.4980633 , 0.4922257 , 0.5029471 ],\n",
       "         ...,\n",
       "         [0.502996  , 0.4938327 , 0.49598277],\n",
       "         [0.5021966 , 0.49504572, 0.49868348],\n",
       "         [0.49994516, 0.49677122, 0.50212556]],\n",
       "\n",
       "        [[0.49912545, 0.49980992, 0.4992539 ],\n",
       "         [0.50182766, 0.49477196, 0.49614704],\n",
       "         [0.49409705, 0.49291176, 0.49773648],\n",
       "         ...,\n",
       "         [0.5010428 , 0.4929219 , 0.48911655],\n",
       "         [0.5018079 , 0.49418357, 0.49624717],\n",
       "         [0.4995015 , 0.4944291 , 0.49835995]],\n",
       "\n",
       "        ...,\n",
       "\n",
       "        [[0.5059481 , 0.50122005, 0.50519496],\n",
       "         [0.5100798 , 0.49965805, 0.49856374],\n",
       "         [0.51601416, 0.4919077 , 0.5016571 ],\n",
       "         ...,\n",
       "         [0.5112009 , 0.49504027, 0.49407572],\n",
       "         [0.5072803 , 0.49501902, 0.4966524 ],\n",
       "         [0.5040491 , 0.49906743, 0.49598193]],\n",
       "\n",
       "        [[0.5027349 , 0.5031998 , 0.5030327 ],\n",
       "         [0.5057998 , 0.50239635, 0.49781442],\n",
       "         [0.50978655, 0.4960385 , 0.49853563],\n",
       "         ...,\n",
       "         [0.51068085, 0.5016861 , 0.49331486],\n",
       "         [0.5059434 , 0.50115895, 0.49560556],\n",
       "         [0.5046087 , 0.5001282 , 0.4951512 ]],\n",
       "\n",
       "        [[0.50321853, 0.50040394, 0.50481147],\n",
       "         [0.5037388 , 0.49889272, 0.50556374],\n",
       "         [0.50423664, 0.4980153 , 0.5026228 ],\n",
       "         ...,\n",
       "         [0.50534064, 0.49910858, 0.4972649 ],\n",
       "         [0.5035933 , 0.5003504 , 0.4975308 ],\n",
       "         [0.5000733 , 0.5002223 , 0.49739733]]],\n",
       "\n",
       "\n",
       "       [[[0.49653292, 0.50208247, 0.5007502 ],\n",
       "         [0.49339083, 0.49535155, 0.4980417 ],\n",
       "         [0.5002828 , 0.50455236, 0.50066906],\n",
       "         ...,\n",
       "         [0.49997032, 0.49575096, 0.5018723 ],\n",
       "         [0.502972  , 0.49686584, 0.5014977 ],\n",
       "         [0.50345784, 0.50028604, 0.5007837 ]],\n",
       "\n",
       "        [[0.49872568, 0.5003466 , 0.49923536],\n",
       "         [0.5012471 , 0.49370757, 0.4942121 ],\n",
       "         [0.5036571 , 0.5080828 , 0.50191635],\n",
       "         ...,\n",
       "         [0.50628597, 0.5003301 , 0.49999547],\n",
       "         [0.50561106, 0.49780732, 0.5002182 ],\n",
       "         [0.50410116, 0.50071883, 0.4991383 ]],\n",
       "\n",
       "        [[0.49172428, 0.4972867 , 0.49979517],\n",
       "         [0.50069463, 0.49428946, 0.49701297],\n",
       "         [0.4971614 , 0.50037533, 0.4947825 ],\n",
       "         ...,\n",
       "         [0.49894816, 0.4981806 , 0.49572882],\n",
       "         [0.49876115, 0.49954337, 0.49717942],\n",
       "         [0.50261366, 0.5020862 , 0.4996703 ]],\n",
       "\n",
       "        ...,\n",
       "\n",
       "        [[0.49824652, 0.49915463, 0.5017949 ],\n",
       "         [0.5038507 , 0.49931976, 0.4962479 ],\n",
       "         [0.5084615 , 0.501497  , 0.498805  ],\n",
       "         ...,\n",
       "         [0.5107542 , 0.49633497, 0.4988948 ],\n",
       "         [0.5093053 , 0.49546096, 0.4935173 ],\n",
       "         [0.5068052 , 0.49813226, 0.49486822]],\n",
       "\n",
       "        [[0.5018622 , 0.50104207, 0.5037746 ],\n",
       "         [0.50641817, 0.49740365, 0.50245774],\n",
       "         [0.5001442 , 0.49332657, 0.50353575],\n",
       "         ...,\n",
       "         [0.50281155, 0.5003093 , 0.49695122],\n",
       "         [0.50756276, 0.49965775, 0.49401844],\n",
       "         [0.5047109 , 0.5030933 , 0.49442312]],\n",
       "\n",
       "        [[0.49958625, 0.49904504, 0.5036765 ],\n",
       "         [0.5062876 , 0.49641433, 0.5024943 ],\n",
       "         [0.5041416 , 0.49970323, 0.50482607],\n",
       "         ...,\n",
       "         [0.50255895, 0.50186497, 0.49910995],\n",
       "         [0.5067341 , 0.50084156, 0.49951434],\n",
       "         [0.5031916 , 0.5004084 , 0.4987271 ]]],\n",
       "\n",
       "\n",
       "       [[[0.49678692, 0.5021222 , 0.5003724 ],\n",
       "         [0.49882522, 0.4974857 , 0.49178264],\n",
       "         [0.5045933 , 0.4985099 , 0.5000388 ],\n",
       "         ...,\n",
       "         [0.5043753 , 0.49813023, 0.49948275],\n",
       "         [0.5041907 , 0.49438092, 0.50218695],\n",
       "         [0.50205344, 0.49435306, 0.5002751 ]],\n",
       "\n",
       "        [[0.4984373 , 0.5066729 , 0.5053943 ],\n",
       "         [0.50206363, 0.50637853, 0.4981083 ],\n",
       "         [0.5041448 , 0.50601596, 0.49747095],\n",
       "         ...,\n",
       "         [0.5023237 , 0.50369245, 0.49777785],\n",
       "         [0.50025904, 0.49656254, 0.49717718],\n",
       "         [0.5029441 , 0.49567163, 0.49934855]],\n",
       "\n",
       "        [[0.49539474, 0.50211203, 0.50386924],\n",
       "         [0.49743816, 0.50180924, 0.49742967],\n",
       "         [0.49654773, 0.50435305, 0.49597278],\n",
       "         ...,\n",
       "         [0.502486  , 0.5007631 , 0.49579504],\n",
       "         [0.4984719 , 0.49310282, 0.4947012 ],\n",
       "         [0.50308585, 0.49656668, 0.49843937]],\n",
       "\n",
       "        ...,\n",
       "\n",
       "        [[0.5074245 , 0.5012973 , 0.50918156],\n",
       "         [0.51306987, 0.5040802 , 0.511665  ],\n",
       "         [0.5145105 , 0.50083625, 0.5117632 ],\n",
       "         ...,\n",
       "         [0.5024087 , 0.5030219 , 0.5000678 ],\n",
       "         [0.50384945, 0.5008623 , 0.49702188],\n",
       "         [0.50467634, 0.50212955, 0.49679288]],\n",
       "\n",
       "        [[0.50359017, 0.5035536 , 0.5069413 ],\n",
       "         [0.5102981 , 0.5002507 , 0.50671774],\n",
       "         [0.51150084, 0.5001159 , 0.5061887 ],\n",
       "         ...,\n",
       "         [0.50254786, 0.5031535 , 0.4918688 ],\n",
       "         [0.50163966, 0.49995863, 0.4980746 ],\n",
       "         [0.50199425, 0.5019167 , 0.49817857]],\n",
       "\n",
       "        [[0.49883002, 0.50095105, 0.50388193],\n",
       "         [0.50425637, 0.50221884, 0.5062959 ],\n",
       "         [0.5043889 , 0.5062457 , 0.50734335],\n",
       "         ...,\n",
       "         [0.50152487, 0.50011563, 0.49436828],\n",
       "         [0.50188893, 0.5010255 , 0.4978425 ],\n",
       "         [0.50076705, 0.50115407, 0.49759018]]],\n",
       "\n",
       "\n",
       "       [[[0.5071426 , 0.49403688, 0.49487102],\n",
       "         [0.5111105 , 0.49435738, 0.49674875],\n",
       "         [0.5145877 , 0.5031235 , 0.50501513],\n",
       "         ...,\n",
       "         [0.49364346, 0.49633375, 0.49820533],\n",
       "         [0.50008726, 0.49449477, 0.498456  ],\n",
       "         [0.50044477, 0.49629188, 0.50063324]],\n",
       "\n",
       "        [[0.5079233 , 0.50317174, 0.49876815],\n",
       "         [0.51383436, 0.5002991 , 0.4947112 ],\n",
       "         [0.5192209 , 0.5026973 , 0.49891576],\n",
       "         ...,\n",
       "         [0.5005368 , 0.49406004, 0.49612355],\n",
       "         [0.50123984, 0.49485338, 0.49697676],\n",
       "         [0.5018236 , 0.4949718 , 0.5010246 ]],\n",
       "\n",
       "        [[0.5062071 , 0.49549866, 0.4998745 ],\n",
       "         [0.5139649 , 0.4892951 , 0.49797475],\n",
       "         [0.5153571 , 0.49753883, 0.49276808],\n",
       "         ...,\n",
       "         [0.4979185 , 0.49349317, 0.49186626],\n",
       "         [0.49890378, 0.49643266, 0.4931596 ],\n",
       "         [0.5012491 , 0.49658453, 0.4985066 ]],\n",
       "\n",
       "        ...,\n",
       "\n",
       "        [[0.5005902 , 0.50139934, 0.5012304 ],\n",
       "         [0.50947946, 0.49578154, 0.50049114],\n",
       "         [0.5077532 , 0.49825257, 0.4972581 ],\n",
       "         ...,\n",
       "         [0.50298566, 0.50328827, 0.49969226],\n",
       "         [0.5009915 , 0.5032477 , 0.4975655 ],\n",
       "         [0.50120384, 0.50315285, 0.49729347]],\n",
       "\n",
       "        [[0.50221145, 0.50182635, 0.5002119 ],\n",
       "         [0.5077263 , 0.49792877, 0.50240684],\n",
       "         [0.50878644, 0.49823776, 0.49912998],\n",
       "         ...,\n",
       "         [0.5037239 , 0.5037881 , 0.49610585],\n",
       "         [0.50078136, 0.5009441 , 0.49625328],\n",
       "         [0.4989713 , 0.50184953, 0.4976256 ]],\n",
       "\n",
       "        [[0.5005327 , 0.49916503, 0.49965775],\n",
       "         [0.50160664, 0.49902725, 0.49874124],\n",
       "         [0.50059396, 0.4991694 , 0.4989226 ],\n",
       "         ...,\n",
       "         [0.498987  , 0.50031465, 0.4987465 ],\n",
       "         [0.50049293, 0.4999138 , 0.49647135],\n",
       "         [0.49916002, 0.5015775 , 0.49861258]]]], dtype=float32)"
      ]
     },
     "execution_count": 17,
     "metadata": {},
     "output_type": "execute_result"
    }
   ],
   "source": [
    "img = generator.predict(np.random.randn(4, 128))\n",
    "img"
   ]
  },
  {
   "cell_type": "code",
   "execution_count": 18,
   "metadata": {},
   "outputs": [
    {
     "data": {
      "text/plain": [
       "(4, 32, 32, 3)"
      ]
     },
     "execution_count": 18,
     "metadata": {},
     "output_type": "execute_result"
    }
   ],
   "source": [
    "img.shape"
   ]
  },
  {
   "cell_type": "code",
   "execution_count": 19,
   "metadata": {},
   "outputs": [
    {
     "data": {
      "text/plain": [
       "4"
      ]
     },
     "execution_count": 19,
     "metadata": {},
     "output_type": "execute_result"
    }
   ],
   "source": [
    "len(img)"
   ]
  },
  {
   "cell_type": "code",
   "execution_count": 20,
   "metadata": {},
   "outputs": [
    {
     "data": {
      "image/png": "[encoded data removed]",
      "text/plain": [
       "<Figure size 640x480 with 1 Axes>"
      ]
     },
     "metadata": {},
     "output_type": "display_data"
    },
    {
     "data": {
      "image/png": "[encoded data removed]",
      "text/plain": [
       "<Figure size 640x480 with 1 Axes>"
      ]
     },
     "metadata": {},
     "output_type": "display_data"
    },
    {
     "data": {
      "image/png": "[encoded data removed]",
      "text/plain": [
       "<Figure size 640x480 with 1 Axes>"
      ]
     },
     "metadata": {},
     "output_type": "display_data"
    },
    {
     "data": {
      "image/png": "[encoded data removed]",
      "text/plain": [
       "<Figure size 640x480 with 1 Axes>"
      ]
     },
     "metadata": {},
     "output_type": "display_data"
    }
   ],
   "source": [
    "for i in range(len(img)) :\n",
    "    plt.imshow(img[i])\n",
    "    plt.axis('off')\n",
    "    plt.show()"
   ]
  },
  {
   "cell_type": "markdown",
   "metadata": {},
   "source": [
    "Build Discriminator"
   ]
  },
  {
   "cell_type": "code",
   "execution_count": 21,
   "metadata": {},
   "outputs": [
    {
     "data": {
      "text/plain": [
       "(4, 32, 32, 3)"
      ]
     },
     "execution_count": 21,
     "metadata": {},
     "output_type": "execute_result"
    }
   ],
   "source": [
    "img.shape"
   ]
  },
  {
   "cell_type": "code",
   "execution_count": 22,
   "metadata": {},
   "outputs": [],
   "source": [
    "def build_discriminator() :\n",
    "    model = Sequential()\n",
    "    \n",
    "    # First Conv Block\n",
    "    model.add(Conv2D(32, 5, input_shape = (32, 32, 3)))\n",
    "    model.add(LeakyReLU(0.2))\n",
    "    # Dropout可以降低discriminator訓練的速度\n",
    "    model.add(Dropout(0.4))\n",
    "\n",
    "    # Second Conv Block\n",
    "    model.add(Conv2D(64, 5))\n",
    "    model.add(LeakyReLU(0.2))\n",
    "    model.add(Dropout(0.4))\n",
    "\n",
    "    # Third Conv Block\n",
    "    model.add(Conv2D(128, 5))\n",
    "    model.add(LeakyReLU(0.2))\n",
    "    model.add(Dropout(0.4))\n",
    "\n",
    "    # # Fourth Conv Block\n",
    "    # model.add(Conv2D(128, 5))\n",
    "    # model.add(LeakyReLU(0.2))\n",
    "    # model.add(Dropout(0.4))\n",
    "\n",
    "    # # Fifth Conv Block\n",
    "    # model.add(Conv2D(256, 5))\n",
    "    # model.add(LeakyReLU(0.2))\n",
    "    # model.add(Dropout(0.4))\n",
    "\n",
    "    # Flatten then pass to dense layer\n",
    "    model.add(Flatten())\n",
    "    model.add(Dropout(0.4))\n",
    "    model.add(Dense(1, activation = 'sigmoid'))\n",
    "\n",
    "\n",
    "    return model"
   ]
  },
  {
   "cell_type": "code",
   "execution_count": 23,
   "metadata": {},
   "outputs": [
    {
     "data": {
      "text/plain": [
       "(4, 32, 32, 3)"
      ]
     },
     "execution_count": 23,
     "metadata": {},
     "output_type": "execute_result"
    }
   ],
   "source": [
    "img.shape"
   ]
  },
  {
   "cell_type": "code",
   "execution_count": 24,
   "metadata": {},
   "outputs": [],
   "source": [
    "discriminator = build_discriminator()"
   ]
  },
  {
   "cell_type": "code",
   "execution_count": 25,
   "metadata": {},
   "outputs": [
    {
     "name": "stdout",
     "output_type": "stream",
     "text": [
      "Model: \"sequential_1\"\n",
      "_________________________________________________________________\n",
      " Layer (type)                Output Shape              Param #   \n",
      "=================================================================\n",
      " conv2d_5 (Conv2D)           (None, 28, 28, 32)        2432      \n",
      "                                                                 \n",
      " leaky_re_lu_5 (LeakyReLU)   (None, 28, 28, 32)        0         \n",
      "                                                                 \n",
      " dropout (Dropout)           (None, 28, 28, 32)        0         \n",
      "                                                                 \n",
      " conv2d_6 (Conv2D)           (None, 24, 24, 64)        51264     \n",
      "                                                                 \n",
      " leaky_re_lu_6 (LeakyReLU)   (None, 24, 24, 64)        0         \n",
      "                                                                 \n",
      " dropout_1 (Dropout)         (None, 24, 24, 64)        0         \n",
      "                                                                 \n",
      " conv2d_7 (Conv2D)           (None, 20, 20, 128)       204928    \n",
      "                                                                 \n",
      " leaky_re_lu_7 (LeakyReLU)   (None, 20, 20, 128)       0         \n",
      "                                                                 \n",
      " dropout_2 (Dropout)         (None, 20, 20, 128)       0         \n",
      "                                                                 \n",
      " flatten (Flatten)           (None, 51200)             0         \n",
      "                                                                 \n",
      " dropout_3 (Dropout)         (None, 51200)             0         \n",
      "                                                                 \n",
      " dense_1 (Dense)             (None, 1)                 51201     \n",
      "                                                                 \n",
      "=================================================================\n",
      "Total params: 309,825\n",
      "Trainable params: 309,825\n",
      "Non-trainable params: 0\n",
      "_________________________________________________________________\n"
     ]
    }
   ],
   "source": [
    "discriminator.summary()"
   ]
  },
  {
   "cell_type": "code",
   "execution_count": 26,
   "metadata": {},
   "outputs": [
    {
     "name": "stdout",
     "output_type": "stream",
     "text": [
      "1/1 [==============================] - 0s 106ms/step\n"
     ]
    },
    {
     "data": {
      "text/plain": [
       "array([[0.484127  ],\n",
       "       [0.48398712],\n",
       "       [0.4840371 ],\n",
       "       [0.4838715 ]], dtype=float32)"
      ]
     },
     "execution_count": 26,
     "metadata": {},
     "output_type": "execute_result"
    }
   ],
   "source": [
    "discriminator.predict(img)"
   ]
  },
  {
   "cell_type": "markdown",
   "metadata": {},
   "source": [
    "Training Loop"
   ]
  },
  {
   "cell_type": "markdown",
   "metadata": {},
   "source": [
    "Setup Losses and Optimizers"
   ]
  },
  {
   "cell_type": "code",
   "execution_count": 27,
   "metadata": {},
   "outputs": [],
   "source": [
    "from tensorflow.keras.optimizers import Adam\n",
    "from tensorflow.keras.losses import BinaryCrossentropy"
   ]
  },
  {
   "cell_type": "code",
   "execution_count": 28,
   "metadata": {},
   "outputs": [],
   "source": [
    "# determine g & d's optimizer\n",
    "generator_opt = Adam(learning_rate=0.00001)\n",
    "discirminator_opt = Adam(learning_rate=0.00001)\n",
    "# determine g & d's losses\n",
    "generator_loss = BinaryCrossentropy()\n",
    "discriminator_loss = BinaryCrossentropy()"
   ]
  },
  {
   "cell_type": "markdown",
   "metadata": {},
   "source": [
    "Build Subclassed Model"
   ]
  },
  {
   "cell_type": "code",
   "execution_count": 29,
   "metadata": {},
   "outputs": [],
   "source": [
    "# improting the base model class to subclass our training step\n",
    "from tensorflow.keras.models import Model"
   ]
  },
  {
   "cell_type": "code",
   "execution_count": 30,
   "metadata": {},
   "outputs": [],
   "source": [
    "class WeatherGAN(Model) : \n",
    "    # *args = any positional arg, **kwargs = keyboard args, those two parameters are make our function flexible\n",
    "    def __init__(self, generator, discriminator, *args, **kwargs) :\n",
    "        # Pass through args and kwargs to base class\n",
    "        super().__init__(*args, **kwargs)\n",
    "\n",
    "        # Create attribute for gen and dis\n",
    "        self.generator = generator\n",
    "        self.discriminator = discriminator\n",
    "\n",
    "    def compile(self, generator_opt, discirminator_opt, generator_loss, discriminator_loss, *args, **kwargs) :\n",
    "        # Compile with base class\n",
    "        super().compile(*args, **kwargs)\n",
    "\n",
    "        # Create attributes for optimizer and losses\n",
    "        self.generator_opt = generator_opt\n",
    "        self.discriminator_opt = discirminator_opt\n",
    "        self.generator_loss = generator_loss\n",
    "        self.discriminator_loss = discriminator_loss\n",
    "\n",
    "    def train_step(self, batch) :\n",
    "        # Get the data\n",
    "        real_images = batch\n",
    "        # Use generator to prediction fake image\n",
    "        fake_images = self.generator(tf.random.normal((128, 128)), training = False)\n",
    "\n",
    "        # Train the discriminator\n",
    "        with tf.GradientTape() as d_tape :\n",
    "            # Pass the real and fake images to the discriminator model\n",
    "            real_images = tf.transpose(real_images, perm=[0, 3, 2, 1]) # Change the dimension to (None, 3, 256, 256)\n",
    "            yhat_real = self.discriminator(real_images, training = True)\n",
    "            yhat_fake = self.discriminator(fake_images, training = True)\n",
    "            yhat_real_fake = tf.concat([yhat_real, yhat_fake], axis = 0) # Predictions(label) from discriminator\n",
    "\n",
    "            # Create labels for the real and fake image\n",
    "            y_real_fake = tf.concat([tf.zeros_like(yhat_real), tf.ones_like(yhat_fake)], axis = 0) # Actual label, real image label = 0, fake image label = 1\n",
    "\n",
    "            # Add some noise to the TRUE outputs\n",
    "            noise_real = 0.15 * tf.random.uniform(tf.shape(yhat_real)) # Uniform distribution\n",
    "            noise_fake = -0.15 * tf.random.uniform(tf.shape(yhat_fake))\n",
    "            y_real_fake += tf.concat([noise_real, noise_fake], axis = 0)\n",
    "\n",
    "            # Calculate loss - BinaryCorss\n",
    "            total_d_loss = self.discriminator_loss(y_real_fake, yhat_real_fake)\n",
    "\n",
    "        # Apply backpropagation, nn learn. trainable_variables = the variable we want to calculate the gradients\n",
    "        d_gradients = d_tape.gradient(total_d_loss, self.discriminator.trainable_variables) # Calculate gradient\n",
    "        self.discriminator_opt.apply_gradients(zip(d_gradients, self.discriminator.trainable_variables)) # Apply gradients using optimizer\n",
    "\n",
    "        # Train the generator\n",
    "        with tf.GradientTape() as g_tape :\n",
    "            # Generator some nwe images\n",
    "            gene_images = self.generator(tf.random.normal((128, 128)), training = True)\n",
    "\n",
    "            # Create the predicted labels, running our gene_images through the discriminator\n",
    "            predicted_labels = self.discriminator(gene_images, training = False)\n",
    "\n",
    "            # Calculate loss - trick to training to fake out the discriminator\n",
    "            total_g_loss = self.generator_loss(tf.zeros_like(predicted_labels), predicted_labels)\n",
    "\n",
    "        # Apply backpropagation\n",
    "        g_gradients = g_tape.gradient(total_g_loss, self.generator.trainable_variables)\n",
    "        self.generator_opt.apply_gradients(zip(g_gradients, self.generator.trainable_variables))\n",
    "\n",
    "        return {\"discriminator_loss\":total_d_loss, \"generator_loss\":total_g_loss}\n",
    "    # test & evaluation something\n",
    "    def test_step(self) :\n",
    "            pass\n",
    "    "
   ]
  },
  {
   "cell_type": "code",
   "execution_count": 31,
   "metadata": {},
   "outputs": [],
   "source": [
    "# Create instance of subclass model\n",
    "weatherGan = WeatherGAN(generator, discriminator)"
   ]
  },
  {
   "cell_type": "code",
   "execution_count": 32,
   "metadata": {},
   "outputs": [],
   "source": [
    "# Compile the model\n",
    "weatherGan.compile(generator_opt, discirminator_opt, generator_loss, discriminator_loss)"
   ]
  },
  {
   "cell_type": "markdown",
   "metadata": {},
   "source": [
    "Build Callback"
   ]
  },
  {
   "cell_type": "code",
   "execution_count": 33,
   "metadata": {},
   "outputs": [],
   "source": [
    "# import os -> helps with folder navigation (import previously)\n",
    "from tensorflow.keras.preprocessing.image import array_to_img\n",
    "from tensorflow.keras.callbacks import Callback # Create out own custom callback on epoch"
   ]
  },
  {
   "cell_type": "code",
   "execution_count": 34,
   "metadata": {},
   "outputs": [],
   "source": [
    "class ModelMonitor(Callback) :\n",
    "    def __init__(self, num_img = 3, latent_dim = 128) : # latent_dim -> the random value that i passing to generator to generator a random image\n",
    "        self.num_img = num_img\n",
    "        self.latent_dim = latent_dim\n",
    "\n",
    "    def on_epoch_end(self, epoch, logs = None) :\n",
    "        random_latent_vectors = tf.random.uniform((self.num_img, self.latent_dim))\n",
    "        generated_img = self.model.generator(random_latent_vectors)\n",
    "        generated_img *= 255\n",
    "        generated_img.numpy()\n",
    "        for i in range(self.num_img) :\n",
    "            img = array_to_img(generated_img[i])\n",
    "            img.save(os.path.join('generated_images', f'generated_img_{epoch}_{i}.png'))\n"
   ]
  },
  {
   "cell_type": "markdown",
   "metadata": {},
   "source": [
    "Train"
   ]
  },
  {
   "cell_type": "code",
   "execution_count": 35,
   "metadata": {},
   "outputs": [
    {
     "data": {
      "text/plain": [
       "array([[[[-1.        , -1.        , -1.        , ..., -1.        ,\n",
       "          -1.        , -1.        ],\n",
       "         [-1.        , -1.        , -1.        , ...,  1.        ,\n",
       "          -1.        , -0.19999999],\n",
       "         [-1.        , -1.        , -1.        , ...,  1.        ,\n",
       "          -0.19999999, -1.        ],\n",
       "         ...,\n",
       "         [-1.        , -1.        , -1.        , ..., -1.        ,\n",
       "          -1.        , -1.        ],\n",
       "         [-1.        , -1.        , -1.        , ..., -1.        ,\n",
       "          -1.        , -1.        ],\n",
       "         [-1.        , -1.        , -1.        , ..., -1.        ,\n",
       "          -1.        , -1.        ]],\n",
       "\n",
       "        [[-1.        , -1.        , -1.        , ..., -1.        ,\n",
       "           0.5686275 , -1.        ],\n",
       "         [-1.        , -1.        , -1.        , ...,  0.5686275 ,\n",
       "          -1.        ,  0.5058824 ],\n",
       "         [-1.        , -1.        , -1.        , ...,  1.        ,\n",
       "           0.5058824 ,  0.654902  ],\n",
       "         ...,\n",
       "         [-1.        , -1.        , -1.        , ..., -1.        ,\n",
       "          -1.        , -1.        ],\n",
       "         [-1.        , -1.        , -1.        , ..., -1.        ,\n",
       "          -1.        , -1.        ],\n",
       "         [-1.        , -1.        , -1.        , ..., -1.        ,\n",
       "          -1.        , -1.        ]],\n",
       "\n",
       "        [[-1.        , -1.        , -1.        , ..., -1.        ,\n",
       "          -1.        , -1.        ],\n",
       "         [-1.        , -1.        , -1.        , ..., -1.        ,\n",
       "           1.        , -1.        ],\n",
       "         [-1.        , -1.        , -1.        , ..., -1.        ,\n",
       "          -1.        , -1.        ],\n",
       "         ...,\n",
       "         [-1.        , -1.        , -1.        , ..., -1.        ,\n",
       "          -1.        , -1.        ],\n",
       "         [-1.        , -1.        , -1.        , ..., -1.        ,\n",
       "          -1.        , -1.        ],\n",
       "         [-1.        , -1.        , -1.        , ..., -1.        ,\n",
       "          -1.        , -1.        ]]],\n",
       "\n",
       "\n",
       "       [[[-1.        , -1.        , -1.        , ..., -1.        ,\n",
       "          -1.        , -1.        ],\n",
       "         [-1.        , -1.        , -1.        , ..., -1.        ,\n",
       "          -1.        , -1.        ],\n",
       "         [-1.        , -1.        , -1.        , ...,  1.        ,\n",
       "          -1.        , -1.        ],\n",
       "         ...,\n",
       "         [-1.        , -1.        , -1.        , ..., -1.        ,\n",
       "          -1.        , -1.        ],\n",
       "         [-1.        , -1.        , -1.        , ..., -1.        ,\n",
       "          -1.        , -1.        ],\n",
       "         [-1.        , -1.        , -1.        , ..., -1.        ,\n",
       "          -1.        , -1.        ]],\n",
       "\n",
       "        [[-1.        , -1.        , -1.        , ...,  0.5686275 ,\n",
       "           0.5686275 , -1.        ],\n",
       "         [-1.        , -1.        , -1.        , ...,  0.7411765 ,\n",
       "          -1.        ,  0.41176474],\n",
       "         [-1.        , -1.        , -1.        , ...,  0.654902  ,\n",
       "           0.17647064,  0.827451  ],\n",
       "         ...,\n",
       "         [-1.        , -1.        , -1.        , ..., -1.        ,\n",
       "          -1.        , -1.        ],\n",
       "         [-1.        , -1.        , -1.        , ..., -1.        ,\n",
       "          -1.        , -1.        ],\n",
       "         [-1.        , -1.        , -1.        , ...,  0.7411765 ,\n",
       "          -1.        , -1.        ]],\n",
       "\n",
       "        [[-1.        , -1.        , -1.        , ..., -1.        ,\n",
       "          -1.        , -1.        ],\n",
       "         [-1.        , -1.        , -1.        , ..., -1.        ,\n",
       "          -1.        , -1.        ],\n",
       "         [-1.        , -1.        , -1.        , ..., -1.        ,\n",
       "          -1.        , -1.        ],\n",
       "         ...,\n",
       "         [-1.        , -1.        , -1.        , ..., -1.        ,\n",
       "          -1.        , -1.        ],\n",
       "         [-1.        , -1.        , -1.        , ..., -1.        ,\n",
       "          -1.        , -1.        ],\n",
       "         [-1.        , -1.        , -1.        , ..., -1.        ,\n",
       "          -1.        , -1.        ]]],\n",
       "\n",
       "\n",
       "       [[[-1.        , -1.        , -1.        , ..., -1.        ,\n",
       "          -1.        , -1.        ],\n",
       "         [-1.        , -1.        , -1.        , ..., -1.        ,\n",
       "          -1.        , -1.        ],\n",
       "         [-1.        , -1.        , -1.        , ..., -0.19999999,\n",
       "           0.20000005, -1.        ],\n",
       "         ...,\n",
       "         [-1.        , -1.        , -1.        , ..., -1.        ,\n",
       "          -1.        , -1.        ],\n",
       "         [-1.        , -1.        , -1.        , ..., -1.        ,\n",
       "          -1.        , -1.        ],\n",
       "         [-1.        , -1.        , -1.        , ..., -1.        ,\n",
       "          -1.        , -1.        ]],\n",
       "\n",
       "        [[-1.        , -1.        , -1.        , ..., -1.        ,\n",
       "           0.254902  , -1.        ],\n",
       "         [-1.        , -1.        , -1.        , ...,  0.654902  ,\n",
       "          -0.7176471 ,  0.33333337],\n",
       "         [-1.        , -1.        , -1.        , ...,  0.5058824 ,\n",
       "           0.67058825, -1.        ],\n",
       "         ...,\n",
       "         [-1.        , -1.        , -1.        , ..., -1.        ,\n",
       "          -1.        , -1.        ],\n",
       "         [-1.        , -1.        , -1.        , ..., -1.        ,\n",
       "          -1.        , -1.        ],\n",
       "         [-1.        , -1.        , -1.        , ..., -1.        ,\n",
       "          -1.        , -1.        ]],\n",
       "\n",
       "        [[-1.        , -1.        , -1.        , ..., -1.        ,\n",
       "          -1.        , -1.        ],\n",
       "         [-1.        , -1.        , -1.        , ..., -1.        ,\n",
       "           1.        , -1.        ],\n",
       "         [-1.        , -1.        , -1.        , ..., -1.        ,\n",
       "          -1.        ,  1.        ],\n",
       "         ...,\n",
       "         [-1.        , -1.        , -1.        , ..., -1.        ,\n",
       "          -1.        , -1.        ],\n",
       "         [-1.        , -1.        , -1.        , ..., -1.        ,\n",
       "          -1.        , -1.        ],\n",
       "         [-1.        , -1.        , -1.        , ..., -1.        ,\n",
       "          -1.        , -1.        ]]]], dtype=float32)"
      ]
     },
     "execution_count": 35,
     "metadata": {},
     "output_type": "execute_result"
    }
   ],
   "source": [
    "train"
   ]
  },
  {
   "cell_type": "code",
   "execution_count": 37,
   "metadata": {},
   "outputs": [
    {
     "name": "stdout",
     "output_type": "stream",
     "text": [
      "Epoch 1/60\n",
      "1/1 [==============================] - 1s 608ms/step - discriminator_loss: 0.5417 - generator_loss: 0.9021\n",
      "Epoch 2/60\n",
      "1/1 [==============================] - 1s 511ms/step - discriminator_loss: 0.5427 - generator_loss: 0.9056\n",
      "Epoch 3/60\n",
      "1/1 [==============================] - 0s 404ms/step - discriminator_loss: 0.5418 - generator_loss: 0.9088\n",
      "Epoch 4/60\n",
      "1/1 [==============================] - 0s 487ms/step - discriminator_loss: 0.5368 - generator_loss: 0.9124\n",
      "Epoch 5/60\n",
      "1/1 [==============================] - 1s 552ms/step - discriminator_loss: 0.5407 - generator_loss: 0.9158\n",
      "Epoch 6/60\n",
      "1/1 [==============================] - 0s 352ms/step - discriminator_loss: 0.5379 - generator_loss: 0.9197\n",
      "Epoch 7/60\n",
      "1/1 [==============================] - 1s 532ms/step - discriminator_loss: 0.5340 - generator_loss: 0.9235\n",
      "Epoch 8/60\n",
      "1/1 [==============================] - 0s 379ms/step - discriminator_loss: 0.5301 - generator_loss: 0.9273\n",
      "Epoch 9/60\n",
      "1/1 [==============================] - 1s 541ms/step - discriminator_loss: 0.5288 - generator_loss: 0.9311\n",
      "Epoch 10/60\n",
      "1/1 [==============================] - 0s 451ms/step - discriminator_loss: 0.5249 - generator_loss: 0.9353\n",
      "Epoch 11/60\n",
      "1/1 [==============================] - 0s 391ms/step - discriminator_loss: 0.5259 - generator_loss: 0.9393\n",
      "Epoch 12/60\n",
      "1/1 [==============================] - 1s 513ms/step - discriminator_loss: 0.5233 - generator_loss: 0.9436\n",
      "Epoch 13/60\n",
      "1/1 [==============================] - 1s 600ms/step - discriminator_loss: 0.5203 - generator_loss: 0.9480\n",
      "Epoch 14/60\n",
      "1/1 [==============================] - 1s 504ms/step - discriminator_loss: 0.5236 - generator_loss: 0.9521\n",
      "Epoch 15/60\n",
      "1/1 [==============================] - 0s 495ms/step - discriminator_loss: 0.5210 - generator_loss: 0.9567\n",
      "Epoch 16/60\n",
      "1/1 [==============================] - 0s 476ms/step - discriminator_loss: 0.5160 - generator_loss: 0.9610\n",
      "Epoch 17/60\n",
      "1/1 [==============================] - 1s 504ms/step - discriminator_loss: 0.5105 - generator_loss: 0.9659\n",
      "Epoch 18/60\n",
      "1/1 [==============================] - 1s 590ms/step - discriminator_loss: 0.5080 - generator_loss: 0.9707\n",
      "Epoch 19/60\n",
      "1/1 [==============================] - 0s 473ms/step - discriminator_loss: 0.5084 - generator_loss: 0.9752\n",
      "Epoch 20/60\n",
      "1/1 [==============================] - 0s 417ms/step - discriminator_loss: 0.5042 - generator_loss: 0.9801\n",
      "Epoch 21/60\n",
      "1/1 [==============================] - 0s 444ms/step - discriminator_loss: 0.5024 - generator_loss: 0.9851\n",
      "Epoch 22/60\n",
      "1/1 [==============================] - 0s 351ms/step - discriminator_loss: 0.4961 - generator_loss: 0.9903\n",
      "Epoch 23/60\n",
      "1/1 [==============================] - 1s 543ms/step - discriminator_loss: 0.4985 - generator_loss: 0.9955\n",
      "Epoch 24/60\n",
      "1/1 [==============================] - 0s 437ms/step - discriminator_loss: 0.4928 - generator_loss: 1.0010\n",
      "Epoch 25/60\n",
      "1/1 [==============================] - 0s 464ms/step - discriminator_loss: 0.4961 - generator_loss: 1.0067\n",
      "Epoch 26/60\n",
      "1/1 [==============================] - 1s 541ms/step - discriminator_loss: 0.4870 - generator_loss: 1.0122\n",
      "Epoch 27/60\n",
      "1/1 [==============================] - 1s 506ms/step - discriminator_loss: 0.4881 - generator_loss: 1.0178\n",
      "Epoch 28/60\n",
      "1/1 [==============================] - 1s 541ms/step - discriminator_loss: 0.4831 - generator_loss: 1.0238\n",
      "Epoch 29/60\n",
      "1/1 [==============================] - 1s 513ms/step - discriminator_loss: 0.4829 - generator_loss: 1.0295\n",
      "Epoch 30/60\n",
      "1/1 [==============================] - 0s 452ms/step - discriminator_loss: 0.4831 - generator_loss: 1.0359\n",
      "Epoch 31/60\n",
      "1/1 [==============================] - 0s 451ms/step - discriminator_loss: 0.4775 - generator_loss: 1.0421\n",
      "Epoch 32/60\n",
      "1/1 [==============================] - 1s 620ms/step - discriminator_loss: 0.4789 - generator_loss: 1.0483\n",
      "Epoch 33/60\n",
      "1/1 [==============================] - 0s 463ms/step - discriminator_loss: 0.4680 - generator_loss: 1.0548\n",
      "Epoch 34/60\n",
      "1/1 [==============================] - 0s 405ms/step - discriminator_loss: 0.4684 - generator_loss: 1.0613\n",
      "Epoch 35/60\n",
      "1/1 [==============================] - 1s 549ms/step - discriminator_loss: 0.4663 - generator_loss: 1.0680\n",
      "Epoch 36/60\n",
      "1/1 [==============================] - 1s 543ms/step - discriminator_loss: 0.4698 - generator_loss: 1.0748\n",
      "Epoch 37/60\n",
      "1/1 [==============================] - 1s 527ms/step - discriminator_loss: 0.4610 - generator_loss: 1.0818\n",
      "Epoch 38/60\n",
      "1/1 [==============================] - 0s 460ms/step - discriminator_loss: 0.4600 - generator_loss: 1.0891\n",
      "Epoch 39/60\n",
      "1/1 [==============================] - 0s 456ms/step - discriminator_loss: 0.4549 - generator_loss: 1.0962\n",
      "Epoch 40/60\n",
      "1/1 [==============================] - 1s 529ms/step - discriminator_loss: 0.4510 - generator_loss: 1.1039\n",
      "Epoch 41/60\n",
      "1/1 [==============================] - 0s 488ms/step - discriminator_loss: 0.4569 - generator_loss: 1.1114\n",
      "Epoch 42/60\n",
      "1/1 [==============================] - 1s 581ms/step - discriminator_loss: 0.4504 - generator_loss: 1.1191\n",
      "Epoch 43/60\n",
      "1/1 [==============================] - 1s 546ms/step - discriminator_loss: 0.4492 - generator_loss: 1.1273\n",
      "Epoch 44/60\n",
      "1/1 [==============================] - 1s 513ms/step - discriminator_loss: 0.4423 - generator_loss: 1.1348\n",
      "Epoch 45/60\n",
      "1/1 [==============================] - 1s 627ms/step - discriminator_loss: 0.4351 - generator_loss: 1.1431\n",
      "Epoch 46/60\n",
      "1/1 [==============================] - 1s 507ms/step - discriminator_loss: 0.4342 - generator_loss: 1.1514\n",
      "Epoch 47/60\n",
      "1/1 [==============================] - 0s 425ms/step - discriminator_loss: 0.4346 - generator_loss: 1.1599\n",
      "Epoch 48/60\n",
      "1/1 [==============================] - 0s 470ms/step - discriminator_loss: 0.4294 - generator_loss: 1.1687\n",
      "Epoch 49/60\n",
      "1/1 [==============================] - 0s 403ms/step - discriminator_loss: 0.4361 - generator_loss: 1.1772\n",
      "Epoch 50/60\n",
      "1/1 [==============================] - 1s 526ms/step - discriminator_loss: 0.4203 - generator_loss: 1.1863\n",
      "Epoch 51/60\n",
      "1/1 [==============================] - 0s 486ms/step - discriminator_loss: 0.4249 - generator_loss: 1.1955\n",
      "Epoch 52/60\n",
      "1/1 [==============================] - 1s 579ms/step - discriminator_loss: 0.4173 - generator_loss: 1.2043\n",
      "Epoch 53/60\n",
      "1/1 [==============================] - 1s 537ms/step - discriminator_loss: 0.4185 - generator_loss: 1.2139\n",
      "Epoch 54/60\n",
      "1/1 [==============================] - 0s 414ms/step - discriminator_loss: 0.4146 - generator_loss: 1.2236\n",
      "Epoch 55/60\n",
      "1/1 [==============================] - 0s 384ms/step - discriminator_loss: 0.4022 - generator_loss: 1.2333\n",
      "Epoch 56/60\n",
      "1/1 [==============================] - 0s 367ms/step - discriminator_loss: 0.4091 - generator_loss: 1.2432\n",
      "Epoch 57/60\n",
      "1/1 [==============================] - 1s 572ms/step - discriminator_loss: 0.4175 - generator_loss: 1.2536\n",
      "Epoch 58/60\n",
      "1/1 [==============================] - 1s 636ms/step - discriminator_loss: 0.4018 - generator_loss: 1.2636\n",
      "Epoch 59/60\n",
      "1/1 [==============================] - 0s 499ms/step - discriminator_loss: 0.3961 - generator_loss: 1.2739\n",
      "Epoch 60/60\n",
      "1/1 [==============================] - 1s 643ms/step - discriminator_loss: 0.3957 - generator_loss: 1.2844\n"
     ]
    }
   ],
   "source": [
    "# Recommend 2000 epochs\n",
    "hist = weatherGan.fit(train, epochs=60, callbacks=[ModelMonitor()])"
   ]
  }
 ],
 "metadata": {
  "kernelspec": {
   "display_name": "Python 3",
   "language": "python",
   "name": "python3"
  },
  "language_info": {
   "codemirror_mode": {
    "name": "ipython",
    "version": 3
   },
   "file_extension": ".py",
   "mimetype": "text/x-python",
   "name": "python",
   "nbconvert_exporter": "python",
   "pygments_lexer": "ipython3",
   "version": "3.7.16"
  },
  "orig_nbformat": 4
 },
 "nbformat": 4,
 "nbformat_minor": 2
}
