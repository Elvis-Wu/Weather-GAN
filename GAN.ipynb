{
 "cells": [
  {
   "cell_type": "code",
   "execution_count": 96,
   "metadata": {},
   "outputs": [],
   "source": [
    "from torch.utils.data import Dataset, DataLoader\n",
    "from torchvision import datasets\n",
    "from torchvision import transforms\n",
    "from torchvision.io import read_image\n",
    "import tensorflow as tf\n",
    "import numpy as np\n",
    "import os\n",
    "import pandas as pd #資料處理\n",
    "import torch\n",
    "import matplotlib.pyplot as plt\n",
    "from PIL import Image\n",
    "\n",
    "# 設定dataset路徑\n",
    "project_path = r\"D:\\NTUT\\Weather_AI\\self-project\\GAN\\weather-GAN\"\n",
    "train_data_path = str(project_path + r\"\\train_data\")\n",
    "output_data_path = str(project_path + r\"output_data\")"
   ]
  },
  {
   "cell_type": "code",
   "execution_count": 97,
   "metadata": {},
   "outputs": [
    {
     "name": "stderr",
     "output_type": "stream",
     "text": [
      "c:\\Users\\Wei Shen Wu\\AppData\\Local\\Programs\\Python\\Python310\\lib\\site-packages\\torchvision\\transforms\\functional.py:1603: UserWarning: The default value of the antialias parameter of all the resizing transforms (Resize(), RandomResizedCrop(), etc.) will change from None to True in v0.17, in order to be consistent across the PIL and Tensor backends. To suppress this warning, directly pass antialias=True (recommended, future default), antialias=None (current default, which means False for Tensors and True for PIL), or antialias=False (only works on Tensors - PIL will still use antialiasing). This also applies if you are using the inference transforms from the models weights: update the call to weights.transforms(antialias=True).\n",
      "  warnings.warn(\n"
     ]
    },
    {
     "name": "stdout",
     "output_type": "stream",
     "text": [
      "torch.Size([4, 3, 256, 256])\n"
     ]
    }
   ],
   "source": [
    "transform = transforms.Compose([\n",
    "    transforms.ToTensor(),\n",
    "    transforms.Resize((256, 256)),\n",
    "    transforms.Normalize((0.5, 0.5, 0.5), (0.5, 0.5, 0.5))\n",
    "])\n",
    "class My_Dataset(Dataset) :\n",
    "    def __init__(self, path, transform=None) :\n",
    "        super().__init__()\n",
    "        self.image_files = os.listdir(path)\n",
    "        self.list_files = []\n",
    "        for file in self.image_files :\n",
    "            self.list_files.append(os.path.join(path, file))\n",
    "\n",
    "    # Indicate the total size of the dataset\n",
    "    def __len__(self) :\n",
    "        return len(self.image_files)\n",
    "    \n",
    "    # 1. Read from file (using numpy.fromfile, PIL.Image.open)\n",
    "    # 2. Preprocess the data (torchvision.Transform).\n",
    "    # 3. Return the data (e.g. image and label)\n",
    "    def __getitem__(self, index) :\n",
    "        image = Image.open(self.list_files[index]).convert('RGB')\n",
    "        if transform is None :\n",
    "            return image\n",
    "        else :\n",
    "            image = transform(image)\n",
    "            return image\n",
    "\n",
    "#讀取圖片，一次四張\n",
    "if __name__ == '__main__' :\n",
    "    #path_image = r\"D:\\NTUT\\Weather_AI\\self-project\\GAN\\weather-GAN\\train_data\"\n",
    "    path_image = train_data_path\n",
    "    train_data = My_Dataset(path_image, transform=transform)\n",
    "    train_dataloader = DataLoader(train_data, batch_size=4, shuffle=True)\n",
    "    for image in train_dataloader :\n",
    "        print(image.shape)\n",
    "        #4(張), 3(RGB三通道), 3600(長), 3600(寬)縮成256*256\n",
    "        break"
   ]
  },
  {
   "cell_type": "code",
   "execution_count": 98,
   "metadata": {},
   "outputs": [],
   "source": [
    "from sklearn.model_selection import train_test_split\n",
    "\n",
    "train, test = train_test_split(image, test_size = 0.2, random_state = 42)"
   ]
  },
  {
   "cell_type": "code",
   "execution_count": 99,
   "metadata": {},
   "outputs": [
    {
     "name": "stdout",
     "output_type": "stream",
     "text": [
      "(3, 3, 256, 256)\n",
      "(1, 3, 256, 256)\n"
     ]
    }
   ],
   "source": [
    "train = np.array(train)\n",
    "test = np.array(test)\n",
    "print(train.shape)\n",
    "print(test.shape)"
   ]
  },
  {
   "cell_type": "code",
   "execution_count": 100,
   "metadata": {},
   "outputs": [
    {
     "name": "stdout",
     "output_type": "stream",
     "text": [
      "[[[[-1.         -1.         -1.         ... -1.         -1.\n",
      "    -1.        ]\n",
      "   [-1.         -1.         -1.         ... -1.         -1.\n",
      "    -1.        ]\n",
      "   [-1.         -1.         -1.         ... -1.         -1.\n",
      "    -1.        ]\n",
      "   ...\n",
      "   [-1.         -1.         -1.         ... -1.         -1.\n",
      "    -1.        ]\n",
      "   [-1.         -1.         -1.         ... -1.         -1.\n",
      "    -1.        ]\n",
      "   [-1.         -1.         -1.         ... -1.         -1.\n",
      "    -1.        ]]\n",
      "\n",
      "  [[-1.         -1.         -1.         ... -1.         -1.\n",
      "    -1.        ]\n",
      "   [-1.         -1.         -1.         ... -1.         -1.\n",
      "    -1.        ]\n",
      "   [-1.         -1.         -1.         ... -1.         -1.\n",
      "    -1.        ]\n",
      "   ...\n",
      "   [-1.         -1.         -1.         ... -1.         -1.\n",
      "    -1.        ]\n",
      "   [-1.         -1.         -1.         ... -1.         -1.\n",
      "    -1.        ]\n",
      "   [-1.         -1.         -1.         ... -1.         -1.\n",
      "    -1.        ]]\n",
      "\n",
      "  [[-1.         -1.         -1.         ... -1.         -1.\n",
      "    -1.        ]\n",
      "   [-1.         -1.         -1.         ... -1.         -1.\n",
      "    -1.        ]\n",
      "   [-1.         -1.         -1.         ... -1.         -1.\n",
      "    -1.        ]\n",
      "   ...\n",
      "   [-1.         -1.         -1.         ... -1.         -1.\n",
      "    -1.        ]\n",
      "   [-1.         -1.         -1.         ... -1.         -1.\n",
      "    -1.        ]\n",
      "   [-1.         -1.         -1.         ... -1.         -1.\n",
      "    -1.        ]]]\n",
      "\n",
      "\n",
      " [[[-1.         -1.         -1.         ... -1.         -1.\n",
      "    -1.        ]\n",
      "   [-1.         -1.         -1.         ... -1.         -1.\n",
      "    -1.        ]\n",
      "   [-1.         -1.         -1.         ... -1.         -1.\n",
      "    -1.        ]\n",
      "   ...\n",
      "   [-1.         -1.         -1.         ... -1.         -1.\n",
      "    -1.        ]\n",
      "   [-1.         -1.         -1.         ... -1.         -1.\n",
      "    -1.        ]\n",
      "   [-1.         -1.         -1.         ... -1.         -1.\n",
      "    -1.        ]]\n",
      "\n",
      "  [[-1.         -1.         -1.         ... -1.         -1.\n",
      "    -1.        ]\n",
      "   [-1.         -1.         -1.         ... -1.          0.6389246\n",
      "     0.3946079 ]\n",
      "   [-1.         -1.         -1.         ... -1.         -1.\n",
      "    -1.        ]\n",
      "   ...\n",
      "   [-1.         -1.         -1.         ... -1.         -1.\n",
      "    -1.        ]\n",
      "   [-1.         -1.         -1.         ... -1.         -1.\n",
      "    -1.        ]\n",
      "   [-1.         -1.         -1.         ... -1.         -1.\n",
      "    -1.        ]]\n",
      "\n",
      "  [[-1.         -1.         -1.         ... -1.         -1.\n",
      "    -1.        ]\n",
      "   [-1.         -1.         -1.         ... -1.         -1.\n",
      "    -1.        ]\n",
      "   [-1.         -1.         -1.         ... -1.         -1.\n",
      "    -1.        ]\n",
      "   ...\n",
      "   [-1.         -1.         -1.         ... -1.         -1.\n",
      "    -1.        ]\n",
      "   [-1.         -1.         -1.         ... -1.         -1.\n",
      "    -1.        ]\n",
      "   [-1.         -1.         -1.         ... -1.         -1.\n",
      "    -1.        ]]]\n",
      "\n",
      "\n",
      " [[[-1.         -1.         -1.         ... -1.         -1.\n",
      "    -1.        ]\n",
      "   [-1.         -1.         -1.         ... -1.         -1.\n",
      "    -1.        ]\n",
      "   [-1.         -1.         -1.         ... -1.         -1.\n",
      "    -1.        ]\n",
      "   ...\n",
      "   [-1.         -1.         -1.         ... -1.         -1.\n",
      "    -1.        ]\n",
      "   [-1.         -1.         -1.         ... -1.         -1.\n",
      "    -1.        ]\n",
      "   [-1.         -1.         -1.         ... -1.         -1.\n",
      "    -1.        ]]\n",
      "\n",
      "  [[-1.         -1.         -1.         ... -1.         -1.\n",
      "    -1.        ]\n",
      "   [-1.         -1.         -1.         ... -0.40857846 -1.\n",
      "    -0.25759804]\n",
      "   [-1.         -1.         -1.         ... -1.         -1.\n",
      "    -1.        ]\n",
      "   ...\n",
      "   [-1.         -1.         -1.         ... -1.         -1.\n",
      "    -1.        ]\n",
      "   [-1.         -1.         -1.         ... -1.         -1.\n",
      "    -1.        ]\n",
      "   [-1.         -1.         -1.         ... -1.         -1.\n",
      "    -1.        ]]\n",
      "\n",
      "  [[-1.         -1.         -1.         ... -1.          1.\n",
      "    -1.        ]\n",
      "   [-1.         -1.         -1.         ...  0.1875     -1.\n",
      "    -1.        ]\n",
      "   [-1.         -1.         -1.         ... -1.         -1.\n",
      "    -1.        ]\n",
      "   ...\n",
      "   [-1.         -1.         -1.         ... -1.         -1.\n",
      "    -1.        ]\n",
      "   [-1.         -1.         -1.         ... -1.         -1.\n",
      "    -1.        ]\n",
      "   [-1.         -1.         -1.         ... -1.         -1.\n",
      "    -1.        ]]]]\n"
     ]
    }
   ],
   "source": [
    "print(train)"
   ]
  },
  {
   "cell_type": "code",
   "execution_count": 101,
   "metadata": {},
   "outputs": [],
   "source": [
    "#顯示圖片\n",
    "# im = Image.open(r\"D:\\NTUT\\Weather_AI\\self-project\\GAN\\weather-GAN\\train_data\\00_56_37.png\")\n",
    "# im.show()"
   ]
  },
  {
   "cell_type": "code",
   "execution_count": 102,
   "metadata": {},
   "outputs": [
    {
     "data": {
      "text/plain": [
       "b'train_data\\\\08_56_20.png'"
      ]
     },
     "execution_count": 102,
     "metadata": {},
     "output_type": "execute_result"
    }
   ],
   "source": [
    "# 把所有圖片建立成一個Dataset--weather_dataset\n",
    "weather_dataset = tf.data.Dataset.list_files(\"train_data/*.png\")\n",
    "# weather_dataset = np.array(weather_dataset)\n",
    "# weather_dataset.shape\n",
    "data_iterator = weather_dataset.as_numpy_iterator()\n",
    "data_iterator.next()"
   ]
  }
 ],
 "metadata": {
  "kernelspec": {
   "display_name": "Python 3",
   "language": "python",
   "name": "python3"
  },
  "language_info": {
   "codemirror_mode": {
    "name": "ipython",
    "version": 3
   },
   "file_extension": ".py",
   "mimetype": "text/x-python",
   "name": "python",
   "nbconvert_exporter": "python",
   "pygments_lexer": "ipython3",
   "version": "3.10.11"
  },
  "orig_nbformat": 4
 },
 "nbformat": 4,
 "nbformat_minor": 2
}
